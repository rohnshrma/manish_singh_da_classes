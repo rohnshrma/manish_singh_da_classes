{
 "cells": [
  {
   "cell_type": "code",
   "execution_count": 1,
   "id": "c65efa8c-5671-49b7-87cd-57f2feb2cf00",
   "metadata": {},
   "outputs": [],
   "source": [
    "# Dictionary :\n",
    "#### {\"key\" : \"value\" , ...}\n",
    "#### Ordered , unindexed, changable | mutable , do not allows duplicates"
   ]
  },
  {
   "cell_type": "code",
   "execution_count": 11,
   "id": "b7abac21-ade4-4efe-b122-49a7e8fd3700",
   "metadata": {},
   "outputs": [],
   "source": [
    "i10 = {\n",
    "    \"Brand\" :\"Hyundai\",\n",
    "    \"Model\" : \"i10\",\n",
    "    \"Year\" : 2020,\n",
    "    \"Colors\" : [\"Red\",\"Green\",\"Black\"],\n",
    "    \"IsAvaialable\" : True,\n",
    "    \"IsAvaialable\" : False\n",
    "}"
   ]
  },
  {
   "cell_type": "code",
   "execution_count": 13,
   "id": "52f70d36-5354-40a3-9408-1af7b38c8eee",
   "metadata": {},
   "outputs": [
    {
     "name": "stdout",
     "output_type": "stream",
     "text": [
      "<class 'dict'>\n"
     ]
    }
   ],
   "source": [
    "print(type(i10))"
   ]
  },
  {
   "cell_type": "code",
   "execution_count": 15,
   "id": "65adef3f-5d56-42c3-afbb-aa598ca9ccea",
   "metadata": {},
   "outputs": [
    {
     "name": "stdout",
     "output_type": "stream",
     "text": [
      "5\n"
     ]
    }
   ],
   "source": [
    "print(len(i10))"
   ]
  },
  {
   "cell_type": "code",
   "execution_count": 18,
   "id": "f09b6e5b-4efd-456d-b062-1588e88accd9",
   "metadata": {},
   "outputs": [
    {
     "name": "stdout",
     "output_type": "stream",
     "text": [
      "{'Brand': 'Hyundai', 'Model': 'i10', 'Year': 2020, 'Colors': ['Red', 'Green', 'Black'], 'IsAvaialable': False}\n"
     ]
    }
   ],
   "source": [
    "print(i10)"
   ]
  },
  {
   "cell_type": "code",
   "execution_count": null,
   "id": "2c98384e-457d-486c-9087-befab4e479f8",
   "metadata": {},
   "outputs": [],
   "source": []
  },
  {
   "cell_type": "code",
   "execution_count": 23,
   "id": "6cdcc08a-f321-4591-ab7a-b6a1b8a8d92a",
   "metadata": {},
   "outputs": [
    {
     "ename": "KeyError",
     "evalue": "0",
     "output_type": "error",
     "traceback": [
      "\u001b[0;31m---------------------------------------------------------------------------\u001b[0m",
      "\u001b[0;31mKeyError\u001b[0m                                  Traceback (most recent call last)",
      "Cell \u001b[0;32mIn[23], line 1\u001b[0m\n\u001b[0;32m----> 1\u001b[0m \u001b[38;5;28mprint\u001b[39m(i10[\u001b[38;5;241m0\u001b[39m])\n",
      "\u001b[0;31mKeyError\u001b[0m: 0"
     ]
    }
   ],
   "source": [
    "print(i10[0])"
   ]
  },
  {
   "cell_type": "code",
   "execution_count": 27,
   "id": "30866c8e-af03-4c51-b40f-0e68993dbbc1",
   "metadata": {},
   "outputs": [
    {
     "name": "stdout",
     "output_type": "stream",
     "text": [
      "Hyundai\n"
     ]
    }
   ],
   "source": [
    "\n",
    "print(i10[\"Brand\"])"
   ]
  },
  {
   "cell_type": "code",
   "execution_count": 31,
   "id": "80d41c39-9891-459b-ae4d-a1cd42bf4989",
   "metadata": {},
   "outputs": [
    {
     "name": "stdout",
     "output_type": "stream",
     "text": [
      "Black\n"
     ]
    }
   ],
   "source": [
    "print(i10[\"Colors\"][2])"
   ]
  },
  {
   "cell_type": "code",
   "execution_count": 33,
   "id": "cb1fb42f-2311-45e1-94c7-81fedf149e87",
   "metadata": {},
   "outputs": [],
   "source": [
    "i10[\"IsAvaialable\"] = True"
   ]
  },
  {
   "cell_type": "code",
   "execution_count": 35,
   "id": "9b7e5406-edce-4a0f-9ac2-26c2107eedc3",
   "metadata": {},
   "outputs": [
    {
     "data": {
      "text/plain": [
       "{'Brand': 'Hyundai',\n",
       " 'Model': 'i10',\n",
       " 'Year': 2020,\n",
       " 'Colors': ['Red', 'Green', 'Black'],\n",
       " 'IsAvaialable': True}"
      ]
     },
     "execution_count": 35,
     "metadata": {},
     "output_type": "execute_result"
    }
   ],
   "source": [
    "i10"
   ]
  },
  {
   "cell_type": "code",
   "execution_count": 37,
   "id": "154a6b2e-cc9e-470f-9453-ba08dd7b2524",
   "metadata": {},
   "outputs": [],
   "source": [
    "i10[\"Mileage\"] = \"10kmpl\""
   ]
  },
  {
   "cell_type": "code",
   "execution_count": 41,
   "id": "cb32329d-d443-4377-853a-fc080b004723",
   "metadata": {},
   "outputs": [
    {
     "name": "stdout",
     "output_type": "stream",
     "text": [
      "{'Brand': 'Hyundai', 'Model': 'i10', 'Year': 2020, 'Colors': ['Red', 'Green', 'Black'], 'IsAvaialable': True, 'Mileage': '10kmpl'}\n"
     ]
    }
   ],
   "source": [
    "print(i10)"
   ]
  },
  {
   "cell_type": "code",
   "execution_count": null,
   "id": "912e0bef-cc0f-4cb7-a555-ed9b244aa826",
   "metadata": {},
   "outputs": [],
   "source": []
  },
  {
   "cell_type": "code",
   "execution_count": 44,
   "id": "e45bde66-407d-43c3-8290-084305649087",
   "metadata": {},
   "outputs": [
    {
     "data": {
      "text/plain": [
       "dict_keys(['Brand', 'Model', 'Year', 'Colors', 'IsAvaialable', 'Mileage'])"
      ]
     },
     "execution_count": 44,
     "metadata": {},
     "output_type": "execute_result"
    }
   ],
   "source": [
    "i10.keys() # return a list of all the keys from  the dictionary"
   ]
  },
  {
   "cell_type": "code",
   "execution_count": 46,
   "id": "a48f4a70-0950-4b3d-b4b7-9bfd0e4469bc",
   "metadata": {},
   "outputs": [
    {
     "data": {
      "text/plain": [
       "dict_values(['Hyundai', 'i10', 2020, ['Red', 'Green', 'Black'], True, '10kmpl'])"
      ]
     },
     "execution_count": 46,
     "metadata": {},
     "output_type": "execute_result"
    }
   ],
   "source": [
    "i10.values() # return a list of all the values from  the dictionary"
   ]
  },
  {
   "cell_type": "code",
   "execution_count": 48,
   "id": "dbb3fd35-f1d9-4582-a2e3-c79f813ac640",
   "metadata": {},
   "outputs": [
    {
     "data": {
      "text/plain": [
       "dict_items([('Brand', 'Hyundai'), ('Model', 'i10'), ('Year', 2020), ('Colors', ['Red', 'Green', 'Black']), ('IsAvaialable', True), ('Mileage', '10kmpl')])"
      ]
     },
     "execution_count": 48,
     "metadata": {},
     "output_type": "execute_result"
    }
   ],
   "source": [
    "i10.items() # return a list of properties where  key value pairs  are shown as tuple"
   ]
  },
  {
   "cell_type": "code",
   "execution_count": 50,
   "id": "cf37220d-5dba-4903-b04c-bc961d26bf75",
   "metadata": {},
   "outputs": [],
   "source": [
    "items = i10.items()"
   ]
  },
  {
   "cell_type": "code",
   "execution_count": 56,
   "id": "ac25ffbd-7d92-49b0-b1d8-87a369b4266d",
   "metadata": {},
   "outputs": [
    {
     "name": "stdout",
     "output_type": "stream",
     "text": [
      "('Brand', 'Hyundai')\n",
      "('Model', 'i10')\n",
      "('Year', 2020)\n",
      "('Colors', ['Red', 'Green', 'Black'])\n",
      "('IsAvaialable', True)\n",
      "('Mileage', '10kmpl')\n"
     ]
    }
   ],
   "source": [
    "for item in items:\n",
    "    print(item)"
   ]
  },
  {
   "cell_type": "code",
   "execution_count": 60,
   "id": "36fcaa53-ae4b-49ce-bf12-96f2295b0365",
   "metadata": {},
   "outputs": [
    {
     "data": {
      "text/plain": [
       "'Hyundai'"
      ]
     },
     "execution_count": 60,
     "metadata": {},
     "output_type": "execute_result"
    }
   ],
   "source": [
    "i10.get(\"Brand\") # return value of the specified key"
   ]
  },
  {
   "cell_type": "code",
   "execution_count": 62,
   "id": "018c03cf-45d6-401a-b98f-1bf77e3320d4",
   "metadata": {},
   "outputs": [
    {
     "data": {
      "text/plain": [
       "'Hyundai'"
      ]
     },
     "execution_count": 62,
     "metadata": {},
     "output_type": "execute_result"
    }
   ],
   "source": [
    "i10[\"Brand\"]"
   ]
  },
  {
   "cell_type": "code",
   "execution_count": 72,
   "id": "a82e051e-87b9-44cf-bdc6-7f9a19cd29b4",
   "metadata": {},
   "outputs": [],
   "source": [
    "i10.update({\"IsAvailable\" : False , \"IsIndian\" : False})"
   ]
  },
  {
   "cell_type": "code",
   "execution_count": 74,
   "id": "189164fe-0921-49b6-a158-2582abac85a5",
   "metadata": {},
   "outputs": [
    {
     "data": {
      "text/plain": [
       "{'Brand': 'Hyundai',\n",
       " 'Model': 'i10',\n",
       " 'Year': 2020,\n",
       " 'Colors': ['Red', 'Green', 'Black'],\n",
       " 'IsAvaialable': True,\n",
       " 'Mileage': '10kmpl',\n",
       " 'IsAvailable': False,\n",
       " 'IsIndian': False}"
      ]
     },
     "execution_count": 74,
     "metadata": {},
     "output_type": "execute_result"
    }
   ],
   "source": [
    "i10"
   ]
  },
  {
   "cell_type": "code",
   "execution_count": 68,
   "id": "22e44c8e-d668-41b3-872c-d600fab3d0a8",
   "metadata": {},
   "outputs": [],
   "source": [
    "i10[\"IsAvailable\"] = False"
   ]
  },
  {
   "cell_type": "code",
   "execution_count": 70,
   "id": "ca15a0a6-a2d6-4624-aefc-0f8f65bf99d8",
   "metadata": {},
   "outputs": [
    {
     "data": {
      "text/plain": [
       "{'Brand': 'Hyundai',\n",
       " 'Model': 'i10',\n",
       " 'Year': 2020,\n",
       " 'Colors': ['Red', 'Green', 'Black'],\n",
       " 'IsAvaialable': True,\n",
       " 'Mileage': '10kmpl',\n",
       " 'IsAvailable': False}"
      ]
     },
     "execution_count": 70,
     "metadata": {},
     "output_type": "execute_result"
    }
   ],
   "source": [
    "i10"
   ]
  },
  {
   "cell_type": "code",
   "execution_count": 76,
   "id": "d346fc21-3bc4-48fb-be5c-019058566629",
   "metadata": {},
   "outputs": [],
   "source": [
    "i10_c = i10.copy()"
   ]
  },
  {
   "cell_type": "code",
   "execution_count": 78,
   "id": "5f5e68bc-33d7-44f8-a110-8f14a43bdedf",
   "metadata": {},
   "outputs": [
    {
     "data": {
      "text/plain": [
       "{'Brand': 'Hyundai',\n",
       " 'Model': 'i10',\n",
       " 'Year': 2020,\n",
       " 'Colors': ['Red', 'Green', 'Black'],\n",
       " 'IsAvaialable': True,\n",
       " 'Mileage': '10kmpl',\n",
       " 'IsAvailable': False,\n",
       " 'IsIndian': False}"
      ]
     },
     "execution_count": 78,
     "metadata": {},
     "output_type": "execute_result"
    }
   ],
   "source": [
    "i10_c"
   ]
  },
  {
   "cell_type": "code",
   "execution_count": 80,
   "id": "eed233f2-a0d3-422b-a52c-7f414a5d4b0b",
   "metadata": {},
   "outputs": [],
   "source": [
    "i10_c.clear()"
   ]
  },
  {
   "cell_type": "code",
   "execution_count": 82,
   "id": "d72a2fd4-9ca7-4bf6-85ea-3083975ce957",
   "metadata": {},
   "outputs": [
    {
     "data": {
      "text/plain": [
       "{}"
      ]
     },
     "execution_count": 82,
     "metadata": {},
     "output_type": "execute_result"
    }
   ],
   "source": [
    "i10_c"
   ]
  },
  {
   "cell_type": "code",
   "execution_count": 84,
   "id": "73d45471-2a0b-42bf-83db-efd377101fb4",
   "metadata": {},
   "outputs": [],
   "source": [
    "del i10_c"
   ]
  },
  {
   "cell_type": "code",
   "execution_count": 86,
   "id": "f636229c-86c2-45aa-ad9f-c431576f13db",
   "metadata": {},
   "outputs": [
    {
     "ename": "NameError",
     "evalue": "name 'i10_c' is not defined",
     "output_type": "error",
     "traceback": [
      "\u001b[0;31m---------------------------------------------------------------------------\u001b[0m",
      "\u001b[0;31mNameError\u001b[0m                                 Traceback (most recent call last)",
      "Cell \u001b[0;32mIn[86], line 1\u001b[0m\n\u001b[0;32m----> 1\u001b[0m i10_c\n",
      "\u001b[0;31mNameError\u001b[0m: name 'i10_c' is not defined"
     ]
    }
   ],
   "source": [
    "i10_c"
   ]
  },
  {
   "cell_type": "code",
   "execution_count": null,
   "id": "23d66ddc-85b5-409d-ab77-455112eb8d08",
   "metadata": {},
   "outputs": [],
   "source": []
  },
  {
   "cell_type": "code",
   "execution_count": 93,
   "id": "9d936286-affd-4de4-ada7-876cb2c28d63",
   "metadata": {},
   "outputs": [
    {
     "ename": "KeyError",
     "evalue": "'IsIndian'",
     "output_type": "error",
     "traceback": [
      "\u001b[0;31m---------------------------------------------------------------------------\u001b[0m",
      "\u001b[0;31mKeyError\u001b[0m                                  Traceback (most recent call last)",
      "Cell \u001b[0;32mIn[93], line 1\u001b[0m\n\u001b[0;32m----> 1\u001b[0m i10\u001b[38;5;241m.\u001b[39mpop(\u001b[38;5;124m\"\u001b[39m\u001b[38;5;124mIsIndian\u001b[39m\u001b[38;5;124m\"\u001b[39m)\n",
      "\u001b[0;31mKeyError\u001b[0m: 'IsIndian'"
     ]
    }
   ],
   "source": [
    "\n",
    "i10.pop(\"IsIndian\") # remove the key value pair with the specified key and return the value"
   ]
  },
  {
   "cell_type": "code",
   "execution_count": 97,
   "id": "32f0d117-5ce4-45fb-a7dc-f2b46bdefb72",
   "metadata": {},
   "outputs": [
    {
     "data": {
      "text/plain": [
       "('IsAvailable', False)"
      ]
     },
     "execution_count": 97,
     "metadata": {},
     "output_type": "execute_result"
    }
   ],
   "source": [
    "i10.popitem() #remove last key value pair from the dict"
   ]
  },
  {
   "cell_type": "code",
   "execution_count": 107,
   "id": "3b98f58e-9b6d-44dc-bc58-4f99662b7b31",
   "metadata": {},
   "outputs": [
    {
     "data": {
      "text/plain": [
       "True"
      ]
     },
     "execution_count": 107,
     "metadata": {},
     "output_type": "execute_result"
    }
   ],
   "source": [
    "i10.setdefault(\"IsAvailable\", True)"
   ]
  },
  {
   "cell_type": "code",
   "execution_count": 109,
   "id": "34aa8dce-bb91-404b-8854-e7bea83f763b",
   "metadata": {},
   "outputs": [
    {
     "data": {
      "text/plain": [
       "'i10'"
      ]
     },
     "execution_count": 109,
     "metadata": {},
     "output_type": "execute_result"
    }
   ],
   "source": [
    "i10.setdefault(\"Model\", \"i20\")"
   ]
  },
  {
   "cell_type": "code",
   "execution_count": 117,
   "id": "b283857e-b76c-4b1a-b0c0-49b96b1c5399",
   "metadata": {},
   "outputs": [],
   "source": [
    "x = i10.fromkeys([\"mehul\",\"parul\",\"rohan\"] , [12,23,34] )"
   ]
  },
  {
   "cell_type": "code",
   "execution_count": 119,
   "id": "16f77267-d9d2-4af9-add8-fb7858c8cb72",
   "metadata": {},
   "outputs": [
    {
     "data": {
      "text/plain": [
       "{'mehul': [12, 23, 34], 'parul': [12, 23, 34], 'rohan': [12, 23, 34]}"
      ]
     },
     "execution_count": 119,
     "metadata": {},
     "output_type": "execute_result"
    }
   ],
   "source": [
    "x"
   ]
  },
  {
   "cell_type": "code",
   "execution_count": null,
   "id": "0c9a3876-d9cd-440e-a6bc-afe93e4875cb",
   "metadata": {},
   "outputs": [],
   "source": []
  }
 ],
 "metadata": {
  "kernelspec": {
   "display_name": "Python 3 (ipykernel)",
   "language": "python",
   "name": "python3"
  },
  "language_info": {
   "codemirror_mode": {
    "name": "ipython",
    "version": 3
   },
   "file_extension": ".py",
   "mimetype": "text/x-python",
   "name": "python",
   "nbconvert_exporter": "python",
   "pygments_lexer": "ipython3",
   "version": "3.11.7"
  }
 },
 "nbformat": 4,
 "nbformat_minor": 5
}
