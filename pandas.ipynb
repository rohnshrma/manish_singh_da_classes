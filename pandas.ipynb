{
 "cells": [
  {
   "cell_type": "code",
   "execution_count": 2,
   "id": "1a7b0f6f-56b5-44be-9188-0eb952c69ade",
   "metadata": {},
   "outputs": [
    {
     "name": "stdout",
     "output_type": "stream",
     "text": [
      "Requirement already satisfied: pandas in /opt/anaconda3/lib/python3.11/site-packages (2.1.4)\n",
      "Requirement already satisfied: numpy<2,>=1.23.2 in /opt/anaconda3/lib/python3.11/site-packages (from pandas) (1.26.4)\n",
      "Requirement already satisfied: python-dateutil>=2.8.2 in /opt/anaconda3/lib/python3.11/site-packages (from pandas) (2.8.2)\n",
      "Requirement already satisfied: pytz>=2020.1 in /opt/anaconda3/lib/python3.11/site-packages (from pandas) (2023.3.post1)\n",
      "Requirement already satisfied: tzdata>=2022.1 in /opt/anaconda3/lib/python3.11/site-packages (from pandas) (2023.3)\n",
      "Requirement already satisfied: six>=1.5 in /opt/anaconda3/lib/python3.11/site-packages (from python-dateutil>=2.8.2->pandas) (1.16.0)\n",
      "Note: you may need to restart the kernel to use updated packages.\n"
     ]
    }
   ],
   "source": [
    "pip install pandas\n"
   ]
  },
  {
   "cell_type": "code",
   "execution_count": 4,
   "id": "07b2cd06-c976-4acb-a73d-94d986eaccac",
   "metadata": {},
   "outputs": [],
   "source": [
    "import pandas as pd"
   ]
  },
  {
   "cell_type": "code",
   "execution_count": 6,
   "id": "f79081c0-90bf-4e77-9e86-c5831dd8a490",
   "metadata": {},
   "outputs": [
    {
     "name": "stdout",
     "output_type": "stream",
     "text": [
      "2.1.4\n"
     ]
    }
   ],
   "source": [
    "print(pd.__version__)"
   ]
  },
  {
   "cell_type": "raw",
   "id": "6bbd766d-8680-44c2-8ae8-79b25d3a4ce8",
   "metadata": {},
   "source": []
  },
  {
   "cell_type": "code",
   "execution_count": 13,
   "id": "fea41104-d126-41d9-a8c6-0dfd0e9e0858",
   "metadata": {},
   "outputs": [],
   "source": [
    "marks = [12,34,23]"
   ]
  },
  {
   "cell_type": "code",
   "execution_count": 15,
   "id": "c1a9200e-954d-4e73-b7e4-761bf86780b8",
   "metadata": {},
   "outputs": [],
   "source": [
    "marksSeries = pd.Series(marks)"
   ]
  },
  {
   "cell_type": "code",
   "execution_count": 17,
   "id": "0b974e14-a4a0-4717-8c4b-69a22632b57f",
   "metadata": {},
   "outputs": [
    {
     "name": "stdout",
     "output_type": "stream",
     "text": [
      "12\n"
     ]
    }
   ],
   "source": [
    "print(marksSeries[0])"
   ]
  },
  {
   "cell_type": "code",
   "execution_count": 19,
   "id": "613c7a8a-9849-488e-a31c-ebdbf809dea9",
   "metadata": {},
   "outputs": [
    {
     "name": "stdout",
     "output_type": "stream",
     "text": [
      "0    12\n",
      "1    34\n",
      "dtype: int64\n"
     ]
    }
   ],
   "source": [
    "print(marksSeries[0:2])"
   ]
  },
  {
   "cell_type": "code",
   "execution_count": null,
   "id": "d346d9d7-600e-4969-858d-2991a7c62d72",
   "metadata": {},
   "outputs": [],
   "source": []
  },
  {
   "cell_type": "code",
   "execution_count": 22,
   "id": "c9ef1fe4-565e-4840-9950-d1ce7e07c8ac",
   "metadata": {},
   "outputs": [],
   "source": [
    "marksSeries_2 = pd.Series(marks,index = [\"a\",\"b\",\"c\"])"
   ]
  },
  {
   "cell_type": "code",
   "execution_count": 30,
   "id": "93534886-865b-426d-b76c-604f54ca8170",
   "metadata": {},
   "outputs": [
    {
     "name": "stdout",
     "output_type": "stream",
     "text": [
      "12\n",
      "34\n",
      "23\n"
     ]
    }
   ],
   "source": [
    "print(marksSeries_2[\"a\"])\n",
    "print(marksSeries_2[\"b\"])\n",
    "print(marksSeries_2[\"c\"])"
   ]
  },
  {
   "cell_type": "code",
   "execution_count": 84,
   "id": "1897e748-2060-462d-95ea-fb7f2cc7bb9e",
   "metadata": {},
   "outputs": [],
   "source": [
    "schedule = {\n",
    "    \"Day_1\" : \"Chest\",\n",
    "    \"Day_2\" : \"Back\",\n",
    "    \"Day_3\" : \"Shoulder\",\n",
    "    \"Day_4\" : \"Arms\",\n",
    "    \"Day_5\" : \"Legs\"\n",
    " }"
   ]
  },
  {
   "cell_type": "code",
   "execution_count": 86,
   "id": "dec94e91-0d78-4d1d-a937-38eb232ff99b",
   "metadata": {},
   "outputs": [],
   "source": [
    "\n",
    "scheduleSeries = pd.Series(schedule,index = [\"Day_1\" , \"Day_2\" , \"Day_3\",\"Day_4\", \"Day_5\"])"
   ]
  },
  {
   "cell_type": "code",
   "execution_count": 88,
   "id": "f46e0eab-ea0a-4e67-80db-b513f9fff043",
   "metadata": {},
   "outputs": [
    {
     "data": {
      "text/plain": [
       "'Chest'"
      ]
     },
     "execution_count": 88,
     "metadata": {},
     "output_type": "execute_result"
    }
   ],
   "source": [
    "scheduleSeries[\"Day_1\"]"
   ]
  },
  {
   "cell_type": "code",
   "execution_count": 90,
   "id": "17d1f0a9-3897-4e5a-ba3a-b7deafde527c",
   "metadata": {},
   "outputs": [
    {
     "name": "stdout",
     "output_type": "stream",
     "text": [
      "a    12\n",
      "b    34\n",
      "c    23\n",
      "dtype: int64\n"
     ]
    }
   ],
   "source": [
    "print(marksSeries_2)"
   ]
  },
  {
   "cell_type": "code",
   "execution_count": 92,
   "id": "70354da0-c0dc-4306-9628-957bd9360328",
   "metadata": {},
   "outputs": [
    {
     "name": "stdout",
     "output_type": "stream",
     "text": [
      "Day_1       Chest\n",
      "Day_2        Back\n",
      "Day_3    Shoulder\n",
      "Day_4        Arms\n",
      "Day_5        Legs\n",
      "dtype: object\n"
     ]
    }
   ],
   "source": [
    "print(scheduleSeries)"
   ]
  },
  {
   "cell_type": "code",
   "execution_count": null,
   "id": "b78e2343-a0d0-47c4-8b38-88f246fe7080",
   "metadata": {},
   "outputs": [],
   "source": []
  },
  {
   "cell_type": "code",
   "execution_count": null,
   "id": "7541cfd7-217a-49b5-959b-ab59f56639ab",
   "metadata": {},
   "outputs": [],
   "source": []
  },
  {
   "cell_type": "code",
   "execution_count": null,
   "id": "6efad4dd-764f-43d2-96fa-e01981e1352a",
   "metadata": {},
   "outputs": [],
   "source": []
  },
  {
   "cell_type": "markdown",
   "id": "9e7d05bf-dd92-408f-b235-795da0244191",
   "metadata": {},
   "source": [
    "# DataFrames\n",
    "A Pandas DataFrame is a 2 dimensional data structure, like a 2 dimensional array, or a table with rows and columns."
   ]
  },
  {
   "cell_type": "code",
   "execution_count": 99,
   "id": "ce523752-51f0-4ae8-a01b-57242b27fb36",
   "metadata": {},
   "outputs": [],
   "source": [
    "data = {\n",
    "    \"Parts\" : [\"Chest\",\"Back\",\"Arms\",\"Shoulders\",\"Legs\"],\n",
    "    \"Hours\" : [1,2,2,1,2]\n",
    "}"
   ]
  },
  {
   "cell_type": "code",
   "execution_count": 101,
   "id": "7d7b5e9c-d436-44e3-ae5c-56b21e4032ae",
   "metadata": {},
   "outputs": [
    {
     "name": "stdout",
     "output_type": "stream",
     "text": [
      "{'Parts': ['Chest', 'Back', 'Arms', 'Shoulders', 'Legs'], 'Hours': [1, 2, 2, 1, 2]}\n"
     ]
    }
   ],
   "source": [
    "print(data)"
   ]
  },
  {
   "cell_type": "code",
   "execution_count": 103,
   "id": "5cfeaede-cd24-4ca2-bb9f-010cf144a641",
   "metadata": {},
   "outputs": [],
   "source": [
    "df = pd.DataFrame(data)"
   ]
  },
  {
   "cell_type": "code",
   "execution_count": 105,
   "id": "29a71b8a-554c-4fe8-9ca9-45c6e1b46c9d",
   "metadata": {},
   "outputs": [
    {
     "name": "stdout",
     "output_type": "stream",
     "text": [
      "       Parts  Hours\n",
      "0      Chest      1\n",
      "1       Back      2\n",
      "2       Arms      2\n",
      "3  Shoulders      1\n",
      "4       Legs      2\n"
     ]
    }
   ],
   "source": [
    "print(df)"
   ]
  },
  {
   "cell_type": "code",
   "execution_count": 111,
   "id": "b6628f4a-1886-4f92-bc3a-20ebea9e5fe7",
   "metadata": {},
   "outputs": [
    {
     "data": {
      "text/plain": [
       "Parts    Legs\n",
       "Hours       2\n",
       "Name: 4, dtype: object"
      ]
     },
     "execution_count": 111,
     "metadata": {},
     "output_type": "execute_result"
    }
   ],
   "source": [
    "# df.loc[0]\n",
    "# df.loc[4]"
   ]
  },
  {
   "cell_type": "code",
   "execution_count": 115,
   "id": "138f98ba-978f-4ad8-b659-eaea86eeab1b",
   "metadata": {},
   "outputs": [
    {
     "data": {
      "text/html": [
       "<div>\n",
       "<style scoped>\n",
       "    .dataframe tbody tr th:only-of-type {\n",
       "        vertical-align: middle;\n",
       "    }\n",
       "\n",
       "    .dataframe tbody tr th {\n",
       "        vertical-align: top;\n",
       "    }\n",
       "\n",
       "    .dataframe thead th {\n",
       "        text-align: right;\n",
       "    }\n",
       "</style>\n",
       "<table border=\"1\" class=\"dataframe\">\n",
       "  <thead>\n",
       "    <tr style=\"text-align: right;\">\n",
       "      <th></th>\n",
       "      <th>Parts</th>\n",
       "      <th>Hours</th>\n",
       "    </tr>\n",
       "  </thead>\n",
       "  <tbody>\n",
       "    <tr>\n",
       "      <th>0</th>\n",
       "      <td>Chest</td>\n",
       "      <td>1</td>\n",
       "    </tr>\n",
       "    <tr>\n",
       "      <th>1</th>\n",
       "      <td>Back</td>\n",
       "      <td>2</td>\n",
       "    </tr>\n",
       "    <tr>\n",
       "      <th>2</th>\n",
       "      <td>Arms</td>\n",
       "      <td>2</td>\n",
       "    </tr>\n",
       "    <tr>\n",
       "      <th>3</th>\n",
       "      <td>Shoulders</td>\n",
       "      <td>1</td>\n",
       "    </tr>\n",
       "    <tr>\n",
       "      <th>4</th>\n",
       "      <td>Legs</td>\n",
       "      <td>2</td>\n",
       "    </tr>\n",
       "  </tbody>\n",
       "</table>\n",
       "</div>"
      ],
      "text/plain": [
       "       Parts  Hours\n",
       "0      Chest      1\n",
       "1       Back      2\n",
       "2       Arms      2\n",
       "3  Shoulders      1\n",
       "4       Legs      2"
      ]
     },
     "execution_count": 115,
     "metadata": {},
     "output_type": "execute_result"
    }
   ],
   "source": [
    "df.loc[0:4]"
   ]
  },
  {
   "cell_type": "code",
   "execution_count": null,
   "id": "e3356b5d-bc8f-4719-a354-735871a32f94",
   "metadata": {},
   "outputs": [],
   "source": []
  },
  {
   "cell_type": "code",
   "execution_count": null,
   "id": "222307ea-92e4-460e-b25e-dac9af855459",
   "metadata": {},
   "outputs": [],
   "source": []
  },
  {
   "cell_type": "code",
   "execution_count": 119,
   "id": "43883265-9847-4040-9fd0-387df945b091",
   "metadata": {},
   "outputs": [],
   "source": [
    "df_copy = pd.DataFrame(data,index=[\"Day_1\",\"Day_2\",\"Day_3\",\"Day_4\",\"Day_5\"])"
   ]
  },
  {
   "cell_type": "code",
   "execution_count": 123,
   "id": "5c4f1d24-ae3d-4c6b-9b33-2554e24a3364",
   "metadata": {},
   "outputs": [
    {
     "data": {
      "text/html": [
       "<div>\n",
       "<style scoped>\n",
       "    .dataframe tbody tr th:only-of-type {\n",
       "        vertical-align: middle;\n",
       "    }\n",
       "\n",
       "    .dataframe tbody tr th {\n",
       "        vertical-align: top;\n",
       "    }\n",
       "\n",
       "    .dataframe thead th {\n",
       "        text-align: right;\n",
       "    }\n",
       "</style>\n",
       "<table border=\"1\" class=\"dataframe\">\n",
       "  <thead>\n",
       "    <tr style=\"text-align: right;\">\n",
       "      <th></th>\n",
       "      <th>Parts</th>\n",
       "      <th>Hours</th>\n",
       "    </tr>\n",
       "  </thead>\n",
       "  <tbody>\n",
       "    <tr>\n",
       "      <th>Day_1</th>\n",
       "      <td>Chest</td>\n",
       "      <td>1</td>\n",
       "    </tr>\n",
       "    <tr>\n",
       "      <th>Day_2</th>\n",
       "      <td>Back</td>\n",
       "      <td>2</td>\n",
       "    </tr>\n",
       "    <tr>\n",
       "      <th>Day_3</th>\n",
       "      <td>Arms</td>\n",
       "      <td>2</td>\n",
       "    </tr>\n",
       "    <tr>\n",
       "      <th>Day_4</th>\n",
       "      <td>Shoulders</td>\n",
       "      <td>1</td>\n",
       "    </tr>\n",
       "    <tr>\n",
       "      <th>Day_5</th>\n",
       "      <td>Legs</td>\n",
       "      <td>2</td>\n",
       "    </tr>\n",
       "  </tbody>\n",
       "</table>\n",
       "</div>"
      ],
      "text/plain": [
       "           Parts  Hours\n",
       "Day_1      Chest      1\n",
       "Day_2       Back      2\n",
       "Day_3       Arms      2\n",
       "Day_4  Shoulders      1\n",
       "Day_5       Legs      2"
      ]
     },
     "execution_count": 123,
     "metadata": {},
     "output_type": "execute_result"
    }
   ],
   "source": [
    "df_copy.loc[\"Day_1\" : \"Day_5\"]"
   ]
  },
  {
   "cell_type": "code",
   "execution_count": 143,
   "id": "c1d4753b-d0c2-428c-bada-63f087a1fe07",
   "metadata": {},
   "outputs": [],
   "source": [
    "df_copy.to_csv(\"/Users/rohan/Desktop/Rohan Desktop/Classes/manish python classes/pandas/workout.csv\")"
   ]
  },
  {
   "cell_type": "code",
   "execution_count": null,
   "id": "cb578f2b-d5be-4b80-9b5d-2911c4e07194",
   "metadata": {},
   "outputs": [],
   "source": []
  },
  {
   "cell_type": "code",
   "execution_count": 146,
   "id": "9c32bcc3-e7da-4966-8002-c26dda8ad155",
   "metadata": {},
   "outputs": [],
   "source": [
    "import os"
   ]
  },
  {
   "cell_type": "code",
   "execution_count": 148,
   "id": "e0755786-2641-4bac-83fe-40e7d494454f",
   "metadata": {},
   "outputs": [
    {
     "data": {
      "text/plain": [
       "'/Users/rohan/Desktop/Rohan Desktop/Classes/manish python classes'"
      ]
     },
     "execution_count": 148,
     "metadata": {},
     "output_type": "execute_result"
    }
   ],
   "source": [
    "os.getcwd()"
   ]
  },
  {
   "cell_type": "code",
   "execution_count": 150,
   "id": "59921240-bb46-434b-85aa-d9e35e8b476f",
   "metadata": {},
   "outputs": [
    {
     "data": {
      "text/plain": [
       "['workout.csv',\n",
       " 'Intro.ipynb',\n",
       " 'working with csv.ipynb',\n",
       " '.ipynb_checkpoints',\n",
       " 'email.csv']"
      ]
     },
     "execution_count": 150,
     "metadata": {},
     "output_type": "execute_result"
    }
   ],
   "source": [
    "os.listdir(\"/Users/rohan/Desktop/Rohan Desktop/Classes/manish python classes/pandas\")"
   ]
  },
  {
   "cell_type": "code",
   "execution_count": null,
   "id": "54ec56f1-a0bf-4c32-b872-8604b4429cc3",
   "metadata": {},
   "outputs": [],
   "source": []
  }
 ],
 "metadata": {
  "kernelspec": {
   "display_name": "Python 3 (ipykernel)",
   "language": "python",
   "name": "python3"
  },
  "language_info": {
   "codemirror_mode": {
    "name": "ipython",
    "version": 3
   },
   "file_extension": ".py",
   "mimetype": "text/x-python",
   "name": "python",
   "nbconvert_exporter": "python",
   "pygments_lexer": "ipython3",
   "version": "3.11.7"
  }
 },
 "nbformat": 4,
 "nbformat_minor": 5
}
