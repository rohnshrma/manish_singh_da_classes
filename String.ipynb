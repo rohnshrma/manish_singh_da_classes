{
 "cells": [
  {
   "cell_type": "markdown",
   "id": "11b169bf-b051-43e5-a194-d1b5d190053b",
   "metadata": {},
   "source": [
    "# String \n",
    "Sequence of characters (alpha , num , special symbols and whitespace) enclosed in single (' ') or double quotes (\" \")"
   ]
  },
  {
   "cell_type": "code",
   "execution_count": 7,
   "id": "57014c63-5bd1-42fa-ae76-38cfa58ea883",
   "metadata": {},
   "outputs": [],
   "source": [
    "yourName = \"Manish is a student of mine learning data analytics\""
   ]
  },
  {
   "cell_type": "code",
   "execution_count": 9,
   "id": "87c0f893-e686-46b9-9dfd-7245daa38510",
   "metadata": {},
   "outputs": [
    {
     "name": "stdout",
     "output_type": "stream",
     "text": [
      "<class 'str'>\n"
     ]
    }
   ],
   "source": [
    "print(type(yourName))"
   ]
  },
  {
   "cell_type": "markdown",
   "id": "d535d6ce-f1e5-4889-97b2-4d240ab94be3",
   "metadata": {},
   "source": [
    "# How to check number of characters in a string (length)\n",
    "### len() function is used to check the length of a string | collection"
   ]
  },
  {
   "cell_type": "code",
   "execution_count": 12,
   "id": "f75d2bc0-3bf4-4efc-be8a-f4ace8e16b74",
   "metadata": {},
   "outputs": [
    {
     "name": "stdout",
     "output_type": "stream",
     "text": [
      "51\n"
     ]
    }
   ],
   "source": [
    "print(len(yourName))"
   ]
  },
  {
   "cell_type": "code",
   "execution_count": 16,
   "id": "6ff25566-17f7-47d3-a384-f4fd097a7885",
   "metadata": {},
   "outputs": [],
   "source": [
    "\n",
    "# Concatenation : adding two or more string together"
   ]
  },
  {
   "cell_type": "code",
   "execution_count": 20,
   "id": "57af8a13-1d8c-40d8-a6c0-8a350152770d",
   "metadata": {},
   "outputs": [
    {
     "name": "stdout",
     "output_type": "stream",
     "text": [
      "hello world my name is john doe\n"
     ]
    }
   ],
   "source": [
    "first  = \"john\"\n",
    "last = \"doe\"\n",
    "message = \"hello world my name is \" + first + \" \" + last\n",
    "print(message)"
   ]
  },
  {
   "cell_type": "code",
   "execution_count": null,
   "id": "0f402aa3-6e74-4688-ae89-3c68c5695cb3",
   "metadata": {},
   "outputs": [],
   "source": []
  },
  {
   "cell_type": "code",
   "execution_count": 25,
   "id": "3d96f4b4-cd7e-40fc-82eb-bb086d23a0ab",
   "metadata": {},
   "outputs": [
    {
     "name": "stdin",
     "output_type": "stream",
     "text": [
      "Enter your gender :  male\n"
     ]
    },
    {
     "name": "stdout",
     "output_type": "stream",
     "text": [
      "male <class 'str'>\n"
     ]
    }
   ],
   "source": [
    "gender  = input(\"Enter your gender : \")\n",
    "print(gender , type(gender))"
   ]
  },
  {
   "cell_type": "markdown",
   "id": "30f7e7c5-67ad-4e25-835f-5536c9b3bf2f",
   "metadata": {},
   "source": [
    "# Note :  value taken as an input from the user will always be of type \"Str\""
   ]
  },
  {
   "cell_type": "code",
   "execution_count": 28,
   "id": "a75be67c-caff-4088-b475-1d14ef91a493",
   "metadata": {},
   "outputs": [
    {
     "name": "stdin",
     "output_type": "stream",
     "text": [
      "Enter your age :  23\n"
     ]
    },
    {
     "name": "stdout",
     "output_type": "stream",
     "text": [
      "23 <class 'str'>\n"
     ]
    }
   ],
   "source": [
    "age = input(\"Enter your age : \")\n",
    "print(age , type(age))"
   ]
  },
  {
   "cell_type": "code",
   "execution_count": 30,
   "id": "349f0f55-5309-498b-bd36-43042150e813",
   "metadata": {},
   "outputs": [
    {
     "data": {
      "text/plain": [
       "'23'"
      ]
     },
     "execution_count": 30,
     "metadata": {},
     "output_type": "execute_result"
    }
   ],
   "source": [
    "age"
   ]
  },
  {
   "cell_type": "code",
   "execution_count": 37,
   "id": "46932dbd-e0c3-48c1-9158-c4040b87ff0f",
   "metadata": {},
   "outputs": [
    {
     "name": "stdout",
     "output_type": "stream",
     "text": [
      "<class 'int'>\n"
     ]
    }
   ],
   "source": [
    "print(type(int(\"123\")))"
   ]
  },
  {
   "cell_type": "code",
   "execution_count": 41,
   "id": "e50f2a8b-bec2-4d31-b55e-ee18247e9a67",
   "metadata": {},
   "outputs": [
    {
     "name": "stdin",
     "output_type": "stream",
     "text": [
      "Enter your age :  123\n"
     ]
    },
    {
     "name": "stdout",
     "output_type": "stream",
     "text": [
      "123.0 <class 'float'>\n"
     ]
    }
   ],
   "source": [
    "age = float(input(\"Enter your age : \"))\n",
    "print(age , type(age))"
   ]
  },
  {
   "cell_type": "code",
   "execution_count": 43,
   "id": "64f25a14-7330-4b92-8e8a-4987217f44cb",
   "metadata": {},
   "outputs": [
    {
     "name": "stdin",
     "output_type": "stream",
     "text": [
      "Enter your first name :  rohan\n",
      "Enter your last name :  sharma\n",
      "Enter your age :  40\n"
     ]
    },
    {
     "ename": "TypeError",
     "evalue": "can only concatenate str (not \"int\") to str",
     "output_type": "error",
     "traceback": [
      "\u001b[0;31m---------------------------------------------------------------------------\u001b[0m",
      "\u001b[0;31mTypeError\u001b[0m                                 Traceback (most recent call last)",
      "Cell \u001b[0;32mIn[43], line 4\u001b[0m\n\u001b[1;32m      2\u001b[0m lastName \u001b[38;5;241m=\u001b[39m \u001b[38;5;28minput\u001b[39m(\u001b[38;5;124m\"\u001b[39m\u001b[38;5;124mEnter your last name : \u001b[39m\u001b[38;5;124m\"\u001b[39m)\n\u001b[1;32m      3\u001b[0m age \u001b[38;5;241m=\u001b[39m \u001b[38;5;28mint\u001b[39m(\u001b[38;5;28minput\u001b[39m(\u001b[38;5;124m\"\u001b[39m\u001b[38;5;124mEnter your age : \u001b[39m\u001b[38;5;124m\"\u001b[39m))\n\u001b[0;32m----> 4\u001b[0m \u001b[38;5;28mprint\u001b[39m(\u001b[38;5;124m\"\u001b[39m\u001b[38;5;124mhello world my name is \u001b[39m\u001b[38;5;124m\"\u001b[39m \u001b[38;5;241m+\u001b[39m firstName \u001b[38;5;241m+\u001b[39m \u001b[38;5;124m\"\u001b[39m\u001b[38;5;124m \u001b[39m\u001b[38;5;124m\"\u001b[39m \u001b[38;5;241m+\u001b[39m lastName \u001b[38;5;241m+\u001b[39m \u001b[38;5;124m\"\u001b[39m\u001b[38;5;124m and i am \u001b[39m\u001b[38;5;124m\"\u001b[39m \u001b[38;5;241m+\u001b[39m age \u001b[38;5;241m+\u001b[39m \u001b[38;5;124m\"\u001b[39m\u001b[38;5;124m years old.\u001b[39m\u001b[38;5;124m\"\u001b[39m)\n",
      "\u001b[0;31mTypeError\u001b[0m: can only concatenate str (not \"int\") to str"
     ]
    }
   ],
   "source": [
    "firstName  = input(\"Enter your first name : \")\n",
    "lastName = input(\"Enter your last name : \")\n",
    "age = int(input(\"Enter your age : \"))\n",
    "print(\"hello world my name is \" + firstName + \" \" + lastName + \" and i am \" + age + \" years old.\")"
   ]
  },
  {
   "cell_type": "code",
   "execution_count": null,
   "id": "4001eae4-e370-492e-bb57-b26ae1519cea",
   "metadata": {},
   "outputs": [],
   "source": []
  },
  {
   "cell_type": "code",
   "execution_count": 54,
   "id": "d2233e4f-7c44-4d3f-9e05-ac0e7d62d187",
   "metadata": {},
   "outputs": [],
   "source": [
    "# Formatted string : insertion | injection : f\"\" \\ f'' (variable | expression)"
   ]
  },
  {
   "cell_type": "code",
   "execution_count": 58,
   "id": "f2557b5e-e59d-45d7-85e3-eb36786c1ddd",
   "metadata": {},
   "outputs": [
    {
     "name": "stdout",
     "output_type": "stream",
     "text": [
      "Hello world my name is ROHAN sharma  and i am 1600 years old.\n"
     ]
    }
   ],
   "source": [
    "print(f\"Hello world my name is {firstName.upper()} {lastName}  and i am {age**2} years old.\")"
   ]
  },
  {
   "cell_type": "code",
   "execution_count": 60,
   "id": "dc7967be-5663-4c54-a798-3763c377384c",
   "metadata": {},
   "outputs": [
    {
     "name": "stdout",
     "output_type": "stream",
     "text": [
      "<class 'type'>\n"
     ]
    }
   ],
   "source": [
    "print(type)"
   ]
  },
  {
   "cell_type": "code",
   "execution_count": null,
   "id": "2c216902-1d39-434a-8c41-b1102bc900fc",
   "metadata": {},
   "outputs": [],
   "source": []
  },
  {
   "cell_type": "markdown",
   "id": "69fc5240-c684-44dd-ad1b-8d957cebc0b7",
   "metadata": {},
   "source": [
    "# indexing : counting starting from 0 , used to access characters of a string\n",
    "str[indexNo] \n",
    "\n",
    "string[start : stop : step]\n",
    "\n",
    "#### First character is always on the 0th position\n",
    "#### Last character is always on the len(str) - 1"
   ]
  },
  {
   "cell_type": "code",
   "execution_count": 1,
   "id": "43c36f75-0305-420f-83d6-3c5d0879effd",
   "metadata": {},
   "outputs": [],
   "source": [
    "x = \"rohan sharma is a web developer\""
   ]
  },
  {
   "cell_type": "code",
   "execution_count": 89,
   "id": "31d90eca-4329-4a26-b5ae-b3cb8be25f6b",
   "metadata": {},
   "outputs": [
    {
     "name": "stdout",
     "output_type": "stream",
     "text": [
      "h\n"
     ]
    }
   ],
   "source": [
    "print(x[2])"
   ]
  },
  {
   "cell_type": "code",
   "execution_count": 91,
   "id": "1bd7ca0a-de94-4a2c-93ec-0e4022b0602d",
   "metadata": {},
   "outputs": [
    {
     "name": "stdout",
     "output_type": "stream",
     "text": [
      "n\n"
     ]
    }
   ],
   "source": [
    "print(x[4])"
   ]
  },
  {
   "cell_type": "code",
   "execution_count": 95,
   "id": "526bbb2d-cf87-44fb-9631-4452bef7670e",
   "metadata": {},
   "outputs": [
    {
     "name": "stdout",
     "output_type": "stream",
     "text": [
      "r\n"
     ]
    }
   ],
   "source": [
    "print(x[len(x) - 1])"
   ]
  },
  {
   "cell_type": "code",
   "execution_count": 100,
   "id": "36781b28-6d41-42ff-acec-a5e0a0dd9e7d",
   "metadata": {},
   "outputs": [
    {
     "name": "stdout",
     "output_type": "stream",
     "text": [
      "rohan sharma\n"
     ]
    }
   ],
   "source": [
    "print(x[ 0 : 12]) # start : stop ( 0 - 11)"
   ]
  },
  {
   "cell_type": "code",
   "execution_count": 102,
   "id": "ddaaab16-0d80-4868-a8b3-5e3d1c917463",
   "metadata": {},
   "outputs": [
    {
     "name": "stdout",
     "output_type": "stream",
     "text": [
      "rohan sharma is a web developer\n"
     ]
    }
   ],
   "source": [
    "print(x)"
   ]
  },
  {
   "cell_type": "code",
   "execution_count": 108,
   "id": "f7547ae5-daf9-47ea-b4eb-da1b4c55b34a",
   "metadata": {},
   "outputs": [
    {
     "name": "stdout",
     "output_type": "stream",
     "text": [
      "rohan sharma is a web developer\n"
     ]
    }
   ],
   "source": [
    "print(x[0 : 31]) # 0-30"
   ]
  },
  {
   "cell_type": "code",
   "execution_count": 106,
   "id": "2a855ca2-0da8-40f5-9c3d-5d5283cd3bbf",
   "metadata": {},
   "outputs": [
    {
     "name": "stdout",
     "output_type": "stream",
     "text": [
      "31\n"
     ]
    }
   ],
   "source": [
    "print(len(x))"
   ]
  },
  {
   "cell_type": "code",
   "execution_count": 3,
   "id": "47043f53-4744-4ceb-b632-405286d7732d",
   "metadata": {},
   "outputs": [],
   "source": [
    "#negative indexing"
   ]
  },
  {
   "cell_type": "code",
   "execution_count": 5,
   "id": "1f40b5a2-8419-4c7d-b423-0c65cea018b6",
   "metadata": {},
   "outputs": [
    {
     "name": "stdout",
     "output_type": "stream",
     "text": [
      "r\n"
     ]
    }
   ],
   "source": [
    "print(x[-1])"
   ]
  },
  {
   "cell_type": "code",
   "execution_count": 7,
   "id": "8eb0a54a-31e2-4d7f-ac56-f752a9ba4e83",
   "metadata": {},
   "outputs": [
    {
     "name": "stdout",
     "output_type": "stream",
     "text": [
      "e\n"
     ]
    }
   ],
   "source": [
    "print(x[-2:-1]) # -2"
   ]
  },
  {
   "cell_type": "code",
   "execution_count": 9,
   "id": "012a9bc3-e0b3-4302-b20f-bfc0714d9211",
   "metadata": {},
   "outputs": [
    {
     "name": "stdout",
     "output_type": "stream",
     "text": [
      "develope\n"
     ]
    }
   ],
   "source": [
    "print(x[-9 : -1])"
   ]
  },
  {
   "cell_type": "code",
   "execution_count": 11,
   "id": "ff25c7f6-d5f8-453b-83e7-00b7aa24b966",
   "metadata": {},
   "outputs": [
    {
     "name": "stdout",
     "output_type": "stream",
     "text": [
      "developer\n"
     ]
    }
   ],
   "source": [
    "print(x[-9 : ]) #-9 : end"
   ]
  },
  {
   "cell_type": "code",
   "execution_count": 17,
   "id": "deaebd7b-f305-4642-b15a-61e8c8308106",
   "metadata": {},
   "outputs": [
    {
     "name": "stdout",
     "output_type": "stream",
     "text": [
      "rohan sharma\n"
     ]
    }
   ],
   "source": [
    "print(x[ : 12]) # start : 11"
   ]
  },
  {
   "cell_type": "code",
   "execution_count": 19,
   "id": "a67016fb-ab3c-49a4-8ac9-b87aafe9b169",
   "metadata": {},
   "outputs": [
    {
     "name": "stdout",
     "output_type": "stream",
     "text": [
      "is a web developer\n"
     ]
    }
   ],
   "source": [
    "print(x[13 : ]) # 13 : end"
   ]
  },
  {
   "cell_type": "code",
   "execution_count": 24,
   "id": "c708dad4-b9d9-4376-9a39-214ab23fa638",
   "metadata": {},
   "outputs": [
    {
     "name": "stdout",
     "output_type": "stream",
     "text": [
      "rohan sharma is a web developer\n"
     ]
    }
   ],
   "source": [
    "print(x[::1]) # the default value of step is 1"
   ]
  },
  {
   "cell_type": "code",
   "execution_count": 26,
   "id": "4f7f7ed8-1126-473c-ae1e-0670e4928eb1",
   "metadata": {},
   "outputs": [
    {
     "name": "stdout",
     "output_type": "stream",
     "text": [
      "rhnsam sawbdvlpr\n"
     ]
    }
   ],
   "source": [
    "print(x[::2]) # start skipping every next character"
   ]
  },
  {
   "cell_type": "code",
   "execution_count": 28,
   "id": "5ad52964-f123-4718-a939-d6b9a89f2d5c",
   "metadata": {},
   "outputs": [
    {
     "name": "stdout",
     "output_type": "stream",
     "text": [
      "rasr  w vor\n"
     ]
    }
   ],
   "source": [
    "print(x[::3]) # start skipping every next character"
   ]
  },
  {
   "cell_type": "code",
   "execution_count": null,
   "id": "87367b24-ba22-4d52-a810-ce3869e5a1c1",
   "metadata": {},
   "outputs": [],
   "source": []
  },
  {
   "cell_type": "code",
   "execution_count": null,
   "id": "82760474-47ed-4bd5-b4fb-f531e030795e",
   "metadata": {},
   "outputs": [],
   "source": []
  },
  {
   "cell_type": "code",
   "execution_count": 32,
   "id": "02773796-b3cd-4d20-8144-76ca91d3d326",
   "metadata": {},
   "outputs": [],
   "source": [
    "# String methods : functionalities "
   ]
  },
  {
   "cell_type": "code",
   "execution_count": 40,
   "id": "3bd9ae30-1c85-4f00-9850-480087320334",
   "metadata": {},
   "outputs": [],
   "source": [
    "#return a new string with all letters in uppercase\n",
    "x_up = x.upper()"
   ]
  },
  {
   "cell_type": "code",
   "execution_count": 42,
   "id": "f5b47199-57c3-4023-adcf-761fde791eac",
   "metadata": {},
   "outputs": [
    {
     "name": "stdout",
     "output_type": "stream",
     "text": [
      "ROHAN SHARMA IS A WEB DEVELOPER\n"
     ]
    }
   ],
   "source": [
    "print(x_up)"
   ]
  },
  {
   "cell_type": "code",
   "execution_count": 44,
   "id": "7267c473-3984-41a7-bdb8-b4221cb25ece",
   "metadata": {},
   "outputs": [
    {
     "name": "stdout",
     "output_type": "stream",
     "text": [
      "ROHAN SHARMA IS A WEB DEVELOPER\n"
     ]
    }
   ],
   "source": [
    "print(x.upper())"
   ]
  },
  {
   "cell_type": "code",
   "execution_count": 49,
   "id": "04284b05-fc49-4b41-8ac7-eff381b79c5f",
   "metadata": {},
   "outputs": [
    {
     "name": "stdout",
     "output_type": "stream",
     "text": [
      "Rohan Sharma Is A Web Developer\n"
     ]
    }
   ],
   "source": [
    "print(x.title())"
   ]
  },
  {
   "cell_type": "code",
   "execution_count": 51,
   "id": "5fba7a59-c328-4787-b2e0-bb610966692b",
   "metadata": {},
   "outputs": [
    {
     "name": "stdout",
     "output_type": "stream",
     "text": [
      "Hello Worlds This Is Rohan\n"
     ]
    }
   ],
   "source": [
    "print(\"HeLLO WorlDS This Is RoHan\".title())"
   ]
  },
  {
   "cell_type": "code",
   "execution_count": 53,
   "id": "30e54ec0-0d67-4b5d-8376-dbd8516de545",
   "metadata": {},
   "outputs": [
    {
     "name": "stdout",
     "output_type": "stream",
     "text": [
      "Rohan sharma is a web developer\n"
     ]
    }
   ],
   "source": [
    "print(x.capitalize())"
   ]
  },
  {
   "cell_type": "code",
   "execution_count": 55,
   "id": "57a94c34-bee0-4c24-9b72-2a405c48e352",
   "metadata": {},
   "outputs": [
    {
     "name": "stdout",
     "output_type": "stream",
     "text": [
      "rohan sharma is a web developer\n"
     ]
    }
   ],
   "source": [
    "print(x.lower())"
   ]
  },
  {
   "cell_type": "code",
   "execution_count": null,
   "id": "1153e1e4-917a-491f-bf64-b6b59cce4f4c",
   "metadata": {},
   "outputs": [],
   "source": []
  },
  {
   "cell_type": "code",
   "execution_count": null,
   "id": "f7504497-2d44-41b5-b178-9a7eb6bdeb5a",
   "metadata": {},
   "outputs": [],
   "source": []
  },
  {
   "cell_type": "code",
   "execution_count": 83,
   "id": "546b442f-981a-4a93-a411-9ebffc11bf54",
   "metadata": {},
   "outputs": [
    {
     "name": "stdin",
     "output_type": "stream",
     "text": [
      "Enter brand name :  zara\n"
     ]
    },
    {
     "name": "stdout",
     "output_type": "stream",
     "text": [
      "ZaRa\n"
     ]
    }
   ],
   "source": [
    "# Prompt the user to enter the brand name and store it in the variable 'brand'\n",
    "brand = input(\"Enter brand name : \")\n",
    "\n",
    "# Take the first two characters of the brand name (brand[0:2]) and capitalize them\n",
    "# Then take the rest of the brand name (brand[2:]) and capitalize it as well\n",
    "# Concatenate the two parts and print the result\n",
    "print(brand[0:2].capitalize() + brand[2:].capitalize())"
   ]
  },
  {
   "cell_type": "code",
   "execution_count": 75,
   "id": "85e912a2-b5d5-41b2-8c30-7be53898f959",
   "metadata": {},
   "outputs": [
    {
     "name": "stdout",
     "output_type": "stream",
     "text": [
      "McDonalds\n"
     ]
    }
   ],
   "source": []
  },
  {
   "cell_type": "code",
   "execution_count": 85,
   "id": "ccf20eda-f6ba-4382-8e66-1e5813920862",
   "metadata": {},
   "outputs": [
    {
     "name": "stdout",
     "output_type": "stream",
     "text": [
      "hELlo wORld\n"
     ]
    }
   ],
   "source": [
    "print(\"HelLO WorLD\".swapcase())"
   ]
  },
  {
   "cell_type": "code",
   "execution_count": 88,
   "id": "870ac274-6fad-4299-a445-7c638e8207e5",
   "metadata": {},
   "outputs": [],
   "source": [
    "fresh = \"                  HELLLO WORLD               \".strip() # REMOVE LEADING AND TRAILING WHITSPACE"
   ]
  },
  {
   "cell_type": "code",
   "execution_count": 90,
   "id": "8de78210-7fab-4855-b43b-1ecfe85c3e23",
   "metadata": {},
   "outputs": [
    {
     "data": {
      "text/plain": [
       "'HELLLO WORLD'"
      ]
     },
     "execution_count": 90,
     "metadata": {},
     "output_type": "execute_result"
    }
   ],
   "source": [
    "fresh"
   ]
  },
  {
   "cell_type": "code",
   "execution_count": 92,
   "id": "f27feb8b-dcd3-4508-92c5-5783933603d7",
   "metadata": {},
   "outputs": [],
   "source": [
    "sp = \"                  HELLLO WORLD               \""
   ]
  },
  {
   "cell_type": "code",
   "execution_count": 94,
   "id": "947bc8fb-a013-4e5b-a32c-6a9de39db3f0",
   "metadata": {},
   "outputs": [
    {
     "name": "stdout",
     "output_type": "stream",
     "text": [
      "                  HELLLO WORLD\n"
     ]
    }
   ],
   "source": [
    "print(sp.rstrip())"
   ]
  },
  {
   "cell_type": "code",
   "execution_count": 96,
   "id": "9c38771c-1569-4fa5-8aac-7deede944cbd",
   "metadata": {},
   "outputs": [
    {
     "name": "stdout",
     "output_type": "stream",
     "text": [
      "HELLLO WORLD               \n"
     ]
    }
   ],
   "source": [
    "print(sp.lstrip())"
   ]
  },
  {
   "cell_type": "code",
   "execution_count": null,
   "id": "510ecbc7-ee70-409f-ae24-7139de8467fa",
   "metadata": {},
   "outputs": [],
   "source": []
  },
  {
   "cell_type": "code",
   "execution_count": 99,
   "id": "1bc211a3-ac70-4d21-8156-63f8957e79b8",
   "metadata": {},
   "outputs": [
    {
     "data": {
      "text/plain": [
       "1"
      ]
     },
     "execution_count": 99,
     "metadata": {},
     "output_type": "execute_result"
    }
   ],
   "source": [
    "x.count(\"is\") # return number of occurance of the substring specified "
   ]
  },
  {
   "cell_type": "code",
   "execution_count": 101,
   "id": "970240a1-704c-4113-9121-76b378134a91",
   "metadata": {},
   "outputs": [
    {
     "data": {
      "text/plain": [
       "4"
      ]
     },
     "execution_count": 101,
     "metadata": {},
     "output_type": "execute_result"
    }
   ],
   "source": [
    "x.count(\"a\")"
   ]
  },
  {
   "cell_type": "code",
   "execution_count": 103,
   "id": "ecd58126-aac4-40b3-a9a0-403f164af262",
   "metadata": {},
   "outputs": [
    {
     "data": {
      "text/plain": [
       "3"
      ]
     },
     "execution_count": 103,
     "metadata": {},
     "output_type": "execute_result"
    }
   ],
   "source": [
    "x.find(\"a\") # return the index of the first occurance"
   ]
  },
  {
   "cell_type": "code",
   "execution_count": 105,
   "id": "004f2a46-0ae8-4634-b380-3113678cda0b",
   "metadata": {},
   "outputs": [
    {
     "data": {
      "text/plain": [
       "8"
      ]
     },
     "execution_count": 105,
     "metadata": {},
     "output_type": "execute_result"
    }
   ],
   "source": [
    "x.find(\"a\" , 4) # find string , position (inclusive)"
   ]
  },
  {
   "cell_type": "code",
   "execution_count": 107,
   "id": "0c79c6b2-38bc-4afc-8caa-62ed4565f1ea",
   "metadata": {},
   "outputs": [
    {
     "data": {
      "text/plain": [
       "'rohxn shxrmx is x web developer'"
      ]
     },
     "execution_count": 107,
     "metadata": {},
     "output_type": "execute_result"
    }
   ],
   "source": [
    "x.replace(\"a\" ,\"x\") # find string , replace string"
   ]
  },
  {
   "cell_type": "code",
   "execution_count": 113,
   "id": "9bd4734b-612d-4134-96f0-385acaa494e4",
   "metadata": {},
   "outputs": [
    {
     "data": {
      "text/plain": [
       "False"
      ]
     },
     "execution_count": 113,
     "metadata": {},
     "output_type": "execute_result"
    }
   ],
   "source": [
    "x.startswith(\"a\") # return True(boolean) if the string starts with the specified string,else false"
   ]
  },
  {
   "cell_type": "code",
   "execution_count": 117,
   "id": "d2fde412-52d7-448a-b03b-42429d90d362",
   "metadata": {},
   "outputs": [
    {
     "data": {
      "text/plain": [
       "True"
      ]
     },
     "execution_count": 117,
     "metadata": {},
     "output_type": "execute_result"
    }
   ],
   "source": [
    "x.startswith(\"ro\")"
   ]
  },
  {
   "cell_type": "code",
   "execution_count": 119,
   "id": "0d5f1a88-aad6-43ca-bc7f-266e9cea957b",
   "metadata": {},
   "outputs": [
    {
     "data": {
      "text/plain": [
       "False"
      ]
     },
     "execution_count": 119,
     "metadata": {},
     "output_type": "execute_result"
    }
   ],
   "source": [
    "x.startswith(\"ro\" , 4) # find string  ,  start position inclusive"
   ]
  },
  {
   "cell_type": "code",
   "execution_count": 123,
   "id": "db6fb482-5747-42ab-94a3-2f8751ffffe0",
   "metadata": {},
   "outputs": [
    {
     "data": {
      "text/plain": [
       "True"
      ]
     },
     "execution_count": 123,
     "metadata": {},
     "output_type": "execute_result"
    }
   ],
   "source": [
    "x.startswith(\"n\" , 4) # find string  ,  start position inclusive"
   ]
  },
  {
   "cell_type": "code",
   "execution_count": 125,
   "id": "6fa78731-7178-4409-bad1-15ac0644d8b3",
   "metadata": {},
   "outputs": [
    {
     "data": {
      "text/plain": [
       "['rohan', 'sharma', 'is', 'a', 'web', 'developer']"
      ]
     },
     "execution_count": 125,
     "metadata": {},
     "output_type": "execute_result"
    }
   ],
   "source": [
    "x.split() # split the list on \" \" whitespace (by default) and return a list"
   ]
  },
  {
   "cell_type": "code",
   "execution_count": 127,
   "id": "09d8744f-8ac9-478a-8c9b-a06b2475cc67",
   "metadata": {},
   "outputs": [
    {
     "data": {
      "text/plain": [
       "['roh', 'n sh', 'rm', ' is ', ' web developer']"
      ]
     },
     "execution_count": 127,
     "metadata": {},
     "output_type": "execute_result"
    }
   ],
   "source": [
    "x.split(\"a\") "
   ]
  },
  {
   "cell_type": "code",
   "execution_count": 15,
   "id": "fde47c8e-e312-4d45-b146-f7d9a1c70f9f",
   "metadata": {},
   "outputs": [
    {
     "name": "stdout",
     "output_type": "stream",
     "text": [
      "31\n"
     ]
    },
    {
     "data": {
      "text/plain": [
       "'     rohan sharma is a web developer     '"
      ]
     },
     "execution_count": 15,
     "metadata": {},
     "output_type": "execute_result"
    }
   ],
   "source": [
    "print(len(x))\n",
    "x.center(41) # new length (more than the existing length)"
   ]
  },
  {
   "cell_type": "code",
   "execution_count": 33,
   "id": "7326dc10-67c6-44be-87cb-ebf5a6912b81",
   "metadata": {},
   "outputs": [
    {
     "name": "stdout",
     "output_type": "stream",
     "text": [
      "$$$$$rohan sharma is a web developer$$$$$\n"
     ]
    }
   ],
   "source": [
    "print(x.center(41,\"$\")) # new length , fillChar"
   ]
  },
  {
   "cell_type": "code",
   "execution_count": 37,
   "id": "96303fb7-3445-4e84-b86f-83c1d43b46ec",
   "metadata": {},
   "outputs": [
    {
     "data": {
      "text/plain": [
       "'0000000000rohan sharma is a web developer'"
      ]
     },
     "execution_count": 37,
     "metadata": {},
     "output_type": "execute_result"
    }
   ],
   "source": [
    "x.zfill(41) # new length(more than the existing length)"
   ]
  },
  {
   "cell_type": "code",
   "execution_count": null,
   "id": "e96060f8-e897-489d-8258-6a67c07e8d87",
   "metadata": {},
   "outputs": [],
   "source": []
  },
  {
   "cell_type": "code",
   "execution_count": 48,
   "id": "9b176875-3bb5-4d7b-9f32-bffe20b5bafa",
   "metadata": {},
   "outputs": [],
   "source": [
    "\n",
    "mujheNahiPata = \"hello world my name is {} and i am {} years old.\""
   ]
  },
  {
   "cell_type": "code",
   "execution_count": 50,
   "id": "e4c2e6ed-6da6-4569-8fd3-53b056e317c9",
   "metadata": {},
   "outputs": [],
   "source": [
    "# mujheNahiPata.format(\"John doe\",100)"
   ]
  },
  {
   "cell_type": "code",
   "execution_count": 57,
   "id": "465d6088-ca55-45b4-962b-6f9ec29315ac",
   "metadata": {},
   "outputs": [
    {
     "name": "stdin",
     "output_type": "stream",
     "text": [
      "Enter your name :  gabbar singh\n",
      "Enter your age :  100\n"
     ]
    }
   ],
   "source": [
    "name = input(\"Enter your name : \")\n",
    "age = int(input(\"Enter your age : \"))\n",
    "new_mess = mujheNahiPata.format(name,age)"
   ]
  },
  {
   "cell_type": "code",
   "execution_count": null,
   "id": "8cd16c81-ee7e-474a-bd4c-c1ba26626b3a",
   "metadata": {},
   "outputs": [],
   "source": []
  },
  {
   "cell_type": "code",
   "execution_count": 59,
   "id": "26d2579c-7aae-453e-b3b0-d2eec202901e",
   "metadata": {},
   "outputs": [
    {
     "data": {
      "text/plain": [
       "'hello world my name is {} and i am {} years old.'"
      ]
     },
     "execution_count": 59,
     "metadata": {},
     "output_type": "execute_result"
    }
   ],
   "source": [
    "mujheNahiPata"
   ]
  },
  {
   "cell_type": "code",
   "execution_count": 61,
   "id": "0f3354e5-d5a9-4970-87ef-e0448ef2c064",
   "metadata": {},
   "outputs": [
    {
     "data": {
      "text/plain": [
       "'hello world my name is gabbar singh and i am 100 years old.'"
      ]
     },
     "execution_count": 61,
     "metadata": {},
     "output_type": "execute_result"
    }
   ],
   "source": [
    "new_mess"
   ]
  },
  {
   "cell_type": "code",
   "execution_count": null,
   "id": "9c28060d-fc7f-4a45-b17b-d48439b711ed",
   "metadata": {},
   "outputs": [],
   "source": []
  },
  {
   "cell_type": "code",
   "execution_count": 64,
   "id": "d2504cc7-18ff-4949-a3b9-8b7abede86cb",
   "metadata": {},
   "outputs": [
    {
     "data": {
      "text/plain": [
       "-1"
      ]
     },
     "execution_count": 64,
     "metadata": {},
     "output_type": "execute_result"
    }
   ],
   "source": [
    "x.find(\"z\")"
   ]
  },
  {
   "cell_type": "code",
   "execution_count": 66,
   "id": "eed6005d-ec23-473e-8223-bff4ec304fa8",
   "metadata": {},
   "outputs": [
    {
     "data": {
      "text/plain": [
       "3"
      ]
     },
     "execution_count": 66,
     "metadata": {},
     "output_type": "execute_result"
    }
   ],
   "source": [
    "x.index(\"a\")"
   ]
  },
  {
   "cell_type": "code",
   "execution_count": 68,
   "id": "cdbbd458-e119-4e92-84ab-52d6b8aace3f",
   "metadata": {},
   "outputs": [
    {
     "data": {
      "text/plain": [
       "8"
      ]
     },
     "execution_count": 68,
     "metadata": {},
     "output_type": "execute_result"
    }
   ],
   "source": [
    "x.index(\"a\",4)"
   ]
  },
  {
   "cell_type": "code",
   "execution_count": 70,
   "id": "a2dcf40b-e105-4079-930e-a002c38719bf",
   "metadata": {},
   "outputs": [
    {
     "data": {
      "text/plain": [
       "11"
      ]
     },
     "execution_count": 70,
     "metadata": {},
     "output_type": "execute_result"
    }
   ],
   "source": [
    "x.index(\"a\",9)"
   ]
  },
  {
   "cell_type": "code",
   "execution_count": 72,
   "id": "3551bd3a-3d2a-4dc9-8af2-812ccfb9c1ce",
   "metadata": {},
   "outputs": [
    {
     "ename": "ValueError",
     "evalue": "substring not found",
     "output_type": "error",
     "traceback": [
      "\u001b[0;31m---------------------------------------------------------------------------\u001b[0m",
      "\u001b[0;31mValueError\u001b[0m                                Traceback (most recent call last)",
      "Cell \u001b[0;32mIn[72], line 1\u001b[0m\n\u001b[0;32m----> 1\u001b[0m x\u001b[38;5;241m.\u001b[39mindex(\u001b[38;5;124m\"\u001b[39m\u001b[38;5;124mz\u001b[39m\u001b[38;5;124m\"\u001b[39m)\n",
      "\u001b[0;31mValueError\u001b[0m: substring not found"
     ]
    }
   ],
   "source": [
    "x.index(\"z\")"
   ]
  },
  {
   "cell_type": "code",
   "execution_count": null,
   "id": "fc6ed3be-21ba-499a-ba62-16fbcad3c6c8",
   "metadata": {},
   "outputs": [],
   "source": []
  },
  {
   "cell_type": "code",
   "execution_count": 79,
   "id": "a56b0fbc-6094-46d9-b416-aea9e052ad37",
   "metadata": {},
   "outputs": [
    {
     "name": "stdout",
     "output_type": "stream",
     "text": [
      "True\n"
     ]
    }
   ],
   "source": [
    "print(\"rohan11shrma\".isalnum())"
   ]
  },
  {
   "cell_type": "code",
   "execution_count": 81,
   "id": "a62f63bb-3fc6-4531-805d-5e53a0bee081",
   "metadata": {},
   "outputs": [
    {
     "name": "stdout",
     "output_type": "stream",
     "text": [
      "False\n"
     ]
    }
   ],
   "source": [
    "print(\"      rohan sharma     \".isspace())"
   ]
  },
  {
   "cell_type": "code",
   "execution_count": 83,
   "id": "35262ee2-7f8e-416e-bcdd-8a1dd841aff7",
   "metadata": {},
   "outputs": [
    {
     "name": "stdout",
     "output_type": "stream",
     "text": [
      "True\n"
     ]
    }
   ],
   "source": [
    "print(\"           \".isspace())"
   ]
  },
  {
   "cell_type": "code",
   "execution_count": 85,
   "id": "ebfc4b89-0a76-460f-8fbf-6917cb790433",
   "metadata": {},
   "outputs": [
    {
     "name": "stdout",
     "output_type": "stream",
     "text": [
      "True\n"
     ]
    }
   ],
   "source": [
    "print(\"123\".isdigit())"
   ]
  },
  {
   "cell_type": "code",
   "execution_count": 87,
   "id": "3221f6d6-3d73-4e09-b17b-e1c9df1325cf",
   "metadata": {},
   "outputs": [
    {
     "name": "stdout",
     "output_type": "stream",
     "text": [
      "False\n"
     ]
    }
   ],
   "source": [
    "print(\"my name\".isidentifier())"
   ]
  },
  {
   "cell_type": "code",
   "execution_count": 89,
   "id": "be1b22a2-32e5-41a6-8e19-52e70988075e",
   "metadata": {},
   "outputs": [
    {
     "name": "stdout",
     "output_type": "stream",
     "text": [
      "True\n"
     ]
    }
   ],
   "source": [
    "print(\"myname\".isidentifier())"
   ]
  },
  {
   "cell_type": "code",
   "execution_count": 93,
   "id": "a0f1ae1c-22c4-4a77-b020-1d59903d22b6",
   "metadata": {},
   "outputs": [
    {
     "name": "stdout",
     "output_type": "stream",
     "text": [
      "True\n"
     ]
    }
   ],
   "source": [
    "print(\"my1name\".isidentifier())"
   ]
  },
  {
   "cell_type": "code",
   "execution_count": 102,
   "id": "5002d807-4bd0-4f00-8fe8-304938d31641",
   "metadata": {},
   "outputs": [],
   "source": [
    "myItems = \"~\".join([\"apple\",\"banana\",\"Cherry\"])"
   ]
  },
  {
   "cell_type": "code",
   "execution_count": 104,
   "id": "ca6e1912-efcc-4beb-bb00-3f29f228ef62",
   "metadata": {},
   "outputs": [
    {
     "data": {
      "text/plain": [
       "'apple~banana~Cherry'"
      ]
     },
     "execution_count": 104,
     "metadata": {},
     "output_type": "execute_result"
    }
   ],
   "source": [
    "myItems"
   ]
  },
  {
   "cell_type": "code",
   "execution_count": 106,
   "id": "dd4a1624-eb4e-40d9-85e7-ea15b5153bf5",
   "metadata": {},
   "outputs": [
    {
     "data": {
      "text/plain": [
       "'~banana~Cherry'"
      ]
     },
     "execution_count": 106,
     "metadata": {},
     "output_type": "execute_result"
    }
   ],
   "source": [
    "\n",
    "myItems.removeprefix(\"apple\")"
   ]
  },
  {
   "cell_type": "code",
   "execution_count": 108,
   "id": "8924cfb6-9621-4b8e-8924-e57c788b0cc4",
   "metadata": {},
   "outputs": [
    {
     "data": {
      "text/plain": [
       "'apple~banana~Cherry'"
      ]
     },
     "execution_count": 108,
     "metadata": {},
     "output_type": "execute_result"
    }
   ],
   "source": [
    "myItems.removeprefix(\"cherry\")"
   ]
  },
  {
   "cell_type": "code",
   "execution_count": 113,
   "id": "16f2a984-45f9-4eee-88cd-3774308054de",
   "metadata": {},
   "outputs": [
    {
     "data": {
      "text/plain": [
       "16"
      ]
     },
     "execution_count": 113,
     "metadata": {},
     "output_type": "execute_result"
    }
   ],
   "source": [
    "x.rfind(\"a\")"
   ]
  },
  {
   "cell_type": "code",
   "execution_count": 115,
   "id": "208e844e-72c4-4a2a-a5f9-3aa6b5a743f3",
   "metadata": {},
   "outputs": [
    {
     "data": {
      "text/plain": [
       "'rohan sharma is a web developer'"
      ]
     },
     "execution_count": 115,
     "metadata": {},
     "output_type": "execute_result"
    }
   ],
   "source": [
    "x"
   ]
  },
  {
   "cell_type": "code",
   "execution_count": 153,
   "id": "3d88fe30-774f-4c68-969c-4e6ab1914deb",
   "metadata": {},
   "outputs": [],
   "source": [
    "myAddress = \"\"\"M-18, Ground Floor\n",
    "Old DLF Colony, Sector-14\n",
    "Gurgaon, Haryana (122001)\"\"\""
   ]
  },
  {
   "cell_type": "code",
   "execution_count": 155,
   "id": "1bb2214b-9ba6-4ebd-8c96-758844bf36db",
   "metadata": {},
   "outputs": [
    {
     "name": "stdout",
     "output_type": "stream",
     "text": [
      "M-18, Ground Floor\n",
      "Old DLF Colony, Sector-14\n",
      "Gurgaon, Haryana (122001)\n"
     ]
    }
   ],
   "source": [
    "print(myAddress)"
   ]
  },
  {
   "cell_type": "code",
   "execution_count": 157,
   "id": "cc397929-52a5-4c4f-aa13-b86e5a471da4",
   "metadata": {},
   "outputs": [],
   "source": [
    "yourAddress = \"M-18, Ground Floor,\\nOld DLF Colony, Sector-14,\\nGurgaon, Haryana (122001)\""
   ]
  },
  {
   "cell_type": "code",
   "execution_count": 159,
   "id": "884a4981-ec75-44d7-8daa-8e9ef43e5602",
   "metadata": {},
   "outputs": [
    {
     "name": "stdout",
     "output_type": "stream",
     "text": [
      "M-18, Ground Floor,\n",
      "Old DLF Colony, Sector-14,\n",
      "Gurgaon, Haryana (122001)\n"
     ]
    }
   ],
   "source": [
    "print(yourAddress)"
   ]
  },
  {
   "cell_type": "code",
   "execution_count": 161,
   "id": "08d677ce-f273-4d66-9ded-558f57e052ba",
   "metadata": {},
   "outputs": [
    {
     "name": "stdout",
     "output_type": "stream",
     "text": [
      "['M-18, Ground Floor,', 'Old DLF Colony, Sector-14,', 'Gurgaon, Haryana (122001)']\n"
     ]
    }
   ],
   "source": [
    "print(yourAddress.splitlines())"
   ]
  },
  {
   "cell_type": "code",
   "execution_count": 163,
   "id": "9e7e5d95-47e7-4202-a22c-6ca94d82dc95",
   "metadata": {},
   "outputs": [
    {
     "name": "stdout",
     "output_type": "stream",
     "text": [
      "['M-18, Ground Floor', 'Old DLF Colony, Sector-14', 'Gurgaon, Haryana (122001)']\n"
     ]
    }
   ],
   "source": [
    "print(myAddress.splitlines())"
   ]
  },
  {
   "cell_type": "code",
   "execution_count": null,
   "id": "9b505cc7-8962-4cb9-8e12-cd8dccbaafc7",
   "metadata": {},
   "outputs": [],
   "source": []
  },
  {
   "cell_type": "code",
   "execution_count": null,
   "id": "6db574d3-50bb-474b-aadc-7c3bec7a0570",
   "metadata": {},
   "outputs": [],
   "source": []
  }
 ],
 "metadata": {
  "kernelspec": {
   "display_name": "Python 3 (ipykernel)",
   "language": "python",
   "name": "python3"
  },
  "language_info": {
   "codemirror_mode": {
    "name": "ipython",
    "version": 3
   },
   "file_extension": ".py",
   "mimetype": "text/x-python",
   "name": "python",
   "nbconvert_exporter": "python",
   "pygments_lexer": "ipython3",
   "version": "3.11.7"
  }
 },
 "nbformat": 4,
 "nbformat_minor": 5
}
