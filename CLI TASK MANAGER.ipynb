{
 "cells": [
  {
   "cell_type": "code",
   "execution_count": 2,
   "id": "a78768cb-5e0c-49f7-a4ad-263d57d1e730",
   "metadata": {},
   "outputs": [],
   "source": [
    "tasks = []"
   ]
  },
  {
   "cell_type": "code",
   "execution_count": 10,
   "id": "f2c95c27-c1c9-4633-ae1a-836c46e471a7",
   "metadata": {},
   "outputs": [],
   "source": [
    "def addTask(name , priority=\"medium\"):\n",
    "    if priority not in [\"low\",\"medium\",\"high\"]:\n",
    "        return \"The priority Must be 'low', 'medium' or 'high'\"\n",
    "\n",
    "    tasks.append({\"name\" : name , \"priority\" : priority , \"completed\" : False})\n",
    "    print(f\"Task '{name}' added successfully!\")"
   ]
  },
  {
   "cell_type": "code",
   "execution_count": 12,
   "id": "513348c9-245a-4e0f-a2ce-614b180732bd",
   "metadata": {},
   "outputs": [
    {
     "name": "stdout",
     "output_type": "stream",
     "text": [
      "Task 'Sleep' added successfully!\n"
     ]
    }
   ],
   "source": [
    "addTask(\"Sleep\")"
   ]
  },
  {
   "cell_type": "code",
   "execution_count": 14,
   "id": "1843bb22-a85a-456c-adef-c7d2cb730732",
   "metadata": {},
   "outputs": [
    {
     "data": {
      "text/plain": [
       "[{'name': 'Sleep', 'priority': 'medium', 'completed': False}]"
      ]
     },
     "execution_count": 14,
     "metadata": {},
     "output_type": "execute_result"
    }
   ],
   "source": [
    "tasks"
   ]
  },
  {
   "cell_type": "code",
   "execution_count": 30,
   "id": "d3e266c7-9fea-4fd3-b21c-1004f69b4259",
   "metadata": {},
   "outputs": [],
   "source": [
    "def removeTask(name):  # Define a function called removeTask that takes 'name' as input\n",
    "    for task in tasks:  # Loop through each task in the list called 'tasks'\n",
    "        if task[\"name\"] == name:  # Check if the task's name matches the given name\n",
    "            tasks.remove(task)  # If it matches, remove the task from the list\n",
    "            print(f\"Task '{name}' removed.\")  # Print a message saying the task was removed\n",
    "            return  # Stop the function here (so it does not continue checking)\n",
    "    print(f\"Task '{name}' not found.\")  # If the task was not found, print a message"
   ]
  },
  {
   "cell_type": "code",
   "execution_count": 32,
   "id": "c30e0726-70cb-4c14-99b2-16462b95370e",
   "metadata": {},
   "outputs": [
    {
     "name": "stdout",
     "output_type": "stream",
     "text": [
      "Task 'Sleep' not found.\n"
     ]
    }
   ],
   "source": [
    "removeTask(\"Sleep\")"
   ]
  },
  {
   "cell_type": "code",
   "execution_count": null,
   "id": "c27d54a5-0660-4f5e-ae41-9fee5b8ecd75",
   "metadata": {},
   "outputs": [],
   "source": [
    "def removeTask(name):  # Ek function define kar rahe hain jiska naam removeTask hai, jo 'name' input lega\n",
    "    for task in tasks:  # 'tasks' list ke har task ko ek-ek karke check karenge\n",
    "        if task[\"name\"] == name:  # Agar task ka naam given 'name' ke barabar hai to aage badhenge\n",
    "            tasks.remove(task)  # List se ye task hata denge\n",
    "            print(f\"Task '{name}' removed.\")  # User ko batayenge ki task remove ho gaya\n",
    "            return  # Yahan function ko stop karenge taaki baaki list na check ho\n",
    "    print(f\"Task '{name}' not found.\")  # Agar task nahi mila to user ko bata denge"
   ]
  },
  {
   "cell_type": "code",
   "execution_count": null,
   "id": "74bb97ab-aa48-4860-8421-8f261f260a01",
   "metadata": {},
   "outputs": [],
   "source": []
  },
  {
   "cell_type": "code",
   "execution_count": 4,
   "id": "674e67fc-692d-44ad-a765-6b3f79201592",
   "metadata": {},
   "outputs": [
    {
     "name": "stdout",
     "output_type": "stream",
     "text": [
      "\n",
      "Task Manager Menu:\n",
      "1. Add Task\n",
      "2. Remove Task\n",
      "3. Show Tasks\n",
      "4. Exit\n"
     ]
    },
    {
     "name": "stdin",
     "output_type": "stream",
     "text": [
      "Enter your choice (1-4):  3\n"
     ]
    },
    {
     "name": "stdout",
     "output_type": "stream",
     "text": [
      "No tasks available.\n",
      "\n",
      "Task Manager Menu:\n",
      "1. Add Task\n",
      "2. Remove Task\n",
      "3. Show Tasks\n",
      "4. Exit\n"
     ]
    },
    {
     "name": "stdin",
     "output_type": "stream",
     "text": [
      "Enter your choice (1-4):  1\n",
      "Enter the task to add:  go to sleep\n"
     ]
    },
    {
     "name": "stdout",
     "output_type": "stream",
     "text": [
      "Task \"go to sleep\" added successfully!\n",
      "\n",
      "Task Manager Menu:\n",
      "1. Add Task\n",
      "2. Remove Task\n",
      "3. Show Tasks\n",
      "4. Exit\n"
     ]
    },
    {
     "name": "stdin",
     "output_type": "stream",
     "text": [
      "Enter your choice (1-4):  3\n"
     ]
    },
    {
     "name": "stdout",
     "output_type": "stream",
     "text": [
      "\n",
      "Your Task List:\n",
      "1. go to sleep\n",
      "\n",
      "Task Manager Menu:\n",
      "1. Add Task\n",
      "2. Remove Task\n",
      "3. Show Tasks\n",
      "4. Exit\n"
     ]
    },
    {
     "name": "stdin",
     "output_type": "stream",
     "text": [
      "Enter your choice (1-4):  2\n",
      "Enter the task to remove:  go to sleep\n"
     ]
    },
    {
     "name": "stdout",
     "output_type": "stream",
     "text": [
      "Task \"go to sleep\" removed successfully!\n",
      "\n",
      "Task Manager Menu:\n",
      "1. Add Task\n",
      "2. Remove Task\n",
      "3. Show Tasks\n",
      "4. Exit\n"
     ]
    },
    {
     "name": "stdin",
     "output_type": "stream",
     "text": [
      "Enter your choice (1-4):  4\n"
     ]
    },
    {
     "name": "stdout",
     "output_type": "stream",
     "text": [
      "Exiting Task Manager. Goodbye!\n"
     ]
    }
   ],
   "source": [
    "# Practical Assignment: CLI Task Manager in Python\n",
    "# Objective: Create a simple task manager that allows users to add, remove, and view tasks.\n",
    "# Restrictions: No OOP, no try-except, only basic programming concepts.\n",
    "# Estimated Time: 15-20 minutes\n",
    "\n",
    "# Step 1: Initialize an Empty Task List\n",
    "# Create an empty list to store tasks\n",
    "tasks = []\n",
    "\n",
    "# Step 2: Function to Add a Task\n",
    "# This function takes a task as input and appends it to the tasks list\n",
    "def add_task(task):\n",
    "    tasks.append(task)  # Append the task to the list\n",
    "    print(f'Task \"{task}\" added successfully!')\n",
    "\n",
    "# Step 3: Function to Remove a Task\n",
    "# This function removes a task if it exists in the tasks list\n",
    "def remove_task(task):\n",
    "    if task in tasks:  # Check if the task exists in the list\n",
    "        tasks.remove(task)  # Remove the task\n",
    "        print(f'Task \"{task}\" removed successfully!')\n",
    "    else:\n",
    "        print(f'Task \"{task}\" not found!')\n",
    "\n",
    "# Step 4: Function to Display All Tasks\n",
    "# This function prints all tasks in the list\n",
    "def show_tasks():\n",
    "    if not tasks:  # Check if the list is empty\n",
    "        print(\"No tasks available.\")\n",
    "    else:\n",
    "        print(\"\\nYour Task List:\")\n",
    "        for index, task in enumerate(tasks, start=1):  # Enumerate through tasks\n",
    "            print(f\"{index}. {task}\")  # Print tasks with numbering\n",
    "\n",
    "# Step 5: Create a Menu-Driven CLI Interface\n",
    "# This loop allows the user to interact with the task manager\n",
    "while True:\n",
    "    # Display menu options\n",
    "    print(\"\\nTask Manager Menu:\")\n",
    "    print(\"1. Add Task\")\n",
    "    print(\"2. Remove Task\")\n",
    "    print(\"3. Show Tasks\")\n",
    "    print(\"4. Exit\")\n",
    "\n",
    "    # Get user choice\n",
    "    choice = input(\"Enter your choice (1-4): \")\n",
    "\n",
    "    # Option 1: Add a new task\n",
    "    if choice == \"1\":\n",
    "        task_name = input(\"Enter the task to add: \")\n",
    "        add_task(task_name)  # Call the add_task function\n",
    "\n",
    "    # Option 2: Remove a task\n",
    "    elif choice == \"2\":\n",
    "        task_name = input(\"Enter the task to remove: \")\n",
    "        remove_task(task_name)  # Call the remove_task function\n",
    "\n",
    "    # Option 3: Show all tasks\n",
    "    elif choice == \"3\":\n",
    "        show_tasks()  # Call the show_tasks function\n",
    "\n",
    "    # Option 4: Exit the program\n",
    "    elif choice == \"4\":\n",
    "        print(\"Exiting Task Manager. Goodbye!\")\n",
    "        break  # Exit the loop\n",
    "\n",
    "    # If an invalid choice is entered\n",
    "    else:\n",
    "        print(\"Invalid choice! Please enter a number between 1 and 4.\")"
   ]
  },
  {
   "cell_type": "code",
   "execution_count": null,
   "id": "179fa5ec-205b-4e29-acd8-5953478fc00b",
   "metadata": {},
   "outputs": [],
   "source": []
  }
 ],
 "metadata": {
  "kernelspec": {
   "display_name": "Python (myenv)",
   "language": "python",
   "name": "myenv"
  },
  "language_info": {
   "codemirror_mode": {
    "name": "ipython",
    "version": 3
   },
   "file_extension": ".py",
   "mimetype": "text/x-python",
   "name": "python",
   "nbconvert_exporter": "python",
   "pygments_lexer": "ipython3",
   "version": "3.11.7"
  }
 },
 "nbformat": 4,
 "nbformat_minor": 5
}
