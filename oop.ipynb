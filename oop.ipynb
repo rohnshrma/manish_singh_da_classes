{
 "cells": [
  {
   "cell_type": "code",
   "execution_count": null,
   "id": "f083d378-308d-42ee-9348-06d301272b8d",
   "metadata": {},
   "outputs": [],
   "source": [
    "#static class"
   ]
  },
  {
   "cell_type": "code",
   "execution_count": 2,
   "id": "4970a114-085f-42d0-b3ba-af4d8d3ab033",
   "metadata": {},
   "outputs": [],
   "source": [
    "class Car:\n",
    "\t# properties\n",
    "\tmodel = \"i20\"\n",
    "\tyear = 2020\n",
    "\tbrand = \"hyundai\"\n",
    "\twheels = 4\n",
    "\tcolors = [\"red\",\"green\",\"blue\"]\n",
    "\n",
    "\t# methods\n",
    "\tdef start(self):\n",
    "\t\tprint(\"car started\")"
   ]
  },
  {
   "cell_type": "code",
   "execution_count": 4,
   "id": "cc063287-aacf-4f0b-a789-01281a2be3b7",
   "metadata": {},
   "outputs": [],
   "source": [
    "car_one = Car() # creating a new instance of a class"
   ]
  },
  {
   "cell_type": "code",
   "execution_count": 6,
   "id": "78239ce2-1e03-4467-901a-25c2b5181923",
   "metadata": {},
   "outputs": [
    {
     "data": {
      "text/plain": [
       "'hyundai'"
      ]
     },
     "execution_count": 6,
     "metadata": {},
     "output_type": "execute_result"
    }
   ],
   "source": [
    "car_one.brand"
   ]
  },
  {
   "cell_type": "code",
   "execution_count": 8,
   "id": "0d3e97cf-2329-4a1b-ae3d-51af95587efe",
   "metadata": {},
   "outputs": [
    {
     "data": {
      "text/plain": [
       "['red', 'green', 'blue']"
      ]
     },
     "execution_count": 8,
     "metadata": {},
     "output_type": "execute_result"
    }
   ],
   "source": [
    "car_one.colors"
   ]
  },
  {
   "cell_type": "code",
   "execution_count": 10,
   "id": "854cf89c-59fa-4474-b571-a3117987c23d",
   "metadata": {},
   "outputs": [
    {
     "name": "stdout",
     "output_type": "stream",
     "text": [
      "car started\n"
     ]
    }
   ],
   "source": [
    "car_one.start()"
   ]
  },
  {
   "cell_type": "code",
   "execution_count": null,
   "id": "c43ce88e-79e7-435c-b789-bbac9692c644",
   "metadata": {},
   "outputs": [],
   "source": []
  },
  {
   "cell_type": "code",
   "execution_count": 13,
   "id": "05134c37-0aae-4cae-8626-e355083bc6ec",
   "metadata": {},
   "outputs": [],
   "source": [
    "car_two = Car()"
   ]
  },
  {
   "cell_type": "code",
   "execution_count": 15,
   "id": "9286d338-0ca3-4ddb-a4ae-a8f29f1efb56",
   "metadata": {},
   "outputs": [
    {
     "name": "stdout",
     "output_type": "stream",
     "text": [
      "car started\n"
     ]
    }
   ],
   "source": [
    "car_two.start()"
   ]
  },
  {
   "cell_type": "code",
   "execution_count": null,
   "id": "a94b8117-714d-4622-92e7-79314945176e",
   "metadata": {},
   "outputs": [],
   "source": []
  },
  {
   "cell_type": "code",
   "execution_count": null,
   "id": "638e2902-75e6-4687-b042-b0b7e3ea5c94",
   "metadata": {},
   "outputs": [],
   "source": []
  },
  {
   "cell_type": "code",
   "execution_count": 89,
   "id": "ac4d72ff-653e-4848-b414-e4b66b769a39",
   "metadata": {},
   "outputs": [],
   "source": [
    "class Person():\n",
    "    def takeValues(self,name,gender,age):\n",
    "        self.person_name = name\n",
    "        self.person_gender = gender\n",
    "        self.person_age = age\n",
    "\n",
    "    def printInfo(self):\n",
    "        print(f\"Name -> {self.person_name}\\nGender -> {self.person_gender}\\nAge -> {self.person_age}\")"
   ]
  },
  {
   "cell_type": "code",
   "execution_count": 91,
   "id": "11a3e130-3104-4b5e-965b-0e55ad093882",
   "metadata": {},
   "outputs": [],
   "source": [
    "manish = Person()"
   ]
  },
  {
   "cell_type": "code",
   "execution_count": 93,
   "id": "94b014bd-1567-4fe9-aef0-63741be4b595",
   "metadata": {},
   "outputs": [],
   "source": [
    "manish.takeValues(\"Manish\",\"Male\",27)"
   ]
  },
  {
   "cell_type": "code",
   "execution_count": 95,
   "id": "3d51ea10-97ce-4bf3-888e-facaab4885e0",
   "metadata": {},
   "outputs": [
    {
     "data": {
      "text/plain": [
       "'Manish'"
      ]
     },
     "execution_count": 95,
     "metadata": {},
     "output_type": "execute_result"
    }
   ],
   "source": [
    "manish.person_name"
   ]
  },
  {
   "cell_type": "code",
   "execution_count": null,
   "id": "f351c580-18b9-44aa-b2ed-9edcec5c857a",
   "metadata": {},
   "outputs": [],
   "source": []
  },
  {
   "cell_type": "code",
   "execution_count": 98,
   "id": "2a79ba14-af00-43bb-ac42-deb9ba5cd5d1",
   "metadata": {},
   "outputs": [],
   "source": [
    "rohan = Person()"
   ]
  },
  {
   "cell_type": "code",
   "execution_count": 100,
   "id": "457bb09e-6921-4862-8b9e-9c3a76cdd360",
   "metadata": {},
   "outputs": [],
   "source": [
    "rohan.takeValues(\"Rohan\",\"Male\",26)"
   ]
  },
  {
   "cell_type": "code",
   "execution_count": 102,
   "id": "07ff3236-9a71-4fef-b3a6-97a57d02204e",
   "metadata": {},
   "outputs": [
    {
     "data": {
      "text/plain": [
       "26"
      ]
     },
     "execution_count": 102,
     "metadata": {},
     "output_type": "execute_result"
    }
   ],
   "source": [
    "rohan.person_age"
   ]
  },
  {
   "cell_type": "code",
   "execution_count": 104,
   "id": "b3366edc-942f-4102-a883-20e6e79f7902",
   "metadata": {},
   "outputs": [
    {
     "name": "stdout",
     "output_type": "stream",
     "text": [
      "<__main__.Person object at 0x156ca6810>\n"
     ]
    }
   ],
   "source": [
    "print(rohan)"
   ]
  },
  {
   "cell_type": "code",
   "execution_count": 106,
   "id": "321e25a7-00ea-40cc-b2b5-87770b1bab5d",
   "metadata": {},
   "outputs": [
    {
     "name": "stdout",
     "output_type": "stream",
     "text": [
      "<__main__.Person object at 0x152708d90>\n"
     ]
    }
   ],
   "source": [
    "print(manish)"
   ]
  },
  {
   "cell_type": "code",
   "execution_count": null,
   "id": "7a6a7314-07a4-497a-a19b-e8002dde4c1b",
   "metadata": {},
   "outputs": [],
   "source": []
  },
  {
   "cell_type": "code",
   "execution_count": null,
   "id": "7bcd2d08-fea1-49ca-8ccc-56ee5c1243bb",
   "metadata": {},
   "outputs": [],
   "source": []
  },
  {
   "cell_type": "code",
   "execution_count": 110,
   "id": "e44d7f52-1505-47fe-9892-98b3c7154f4e",
   "metadata": {},
   "outputs": [
    {
     "name": "stdout",
     "output_type": "stream",
     "text": [
      "Name -> Rohan\n",
      "Gender -> Male\n",
      "Age -> 26\n"
     ]
    }
   ],
   "source": [
    "rohan.printInfo()"
   ]
  },
  {
   "cell_type": "code",
   "execution_count": null,
   "id": "01959f86-692f-49bb-917e-63697d5ccc25",
   "metadata": {},
   "outputs": [],
   "source": []
  },
  {
   "cell_type": "code",
   "execution_count": 123,
   "id": "d7ef19f2-5e35-467a-be72-3d07e3b6efe6",
   "metadata": {},
   "outputs": [],
   "source": [
    "# 📌 Defining a class `Employee`\n",
    "class Employee():\n",
    "    # Constructor method (__init__) is automatically called when an instance is created\n",
    "    def __init__(self, employeeId, name, department):\n",
    "        # `self` refers to the instance of the class\n",
    "        # Initializing instance attributes with given values\n",
    "        self.employeeId = employeeId  # Storing employee ID\n",
    "        self.name = name  # Storing employee name\n",
    "        self.department = department  # Storing department name\n",
    "        \n",
    "        # Printing a message when a new employee object is created\n",
    "        print(f\"New employee '{self.name}' joined in '{self.department}' department\")\n",
    "\n",
    "# 📌 Creating an instance (object) of the `Employee` class\n",
    "rohan = Employee(101, \"Rohan Sharma\", \"IT\")  \n",
    "# When this line executes:\n",
    "# - `__init__` method is called with values: employeeId=101, name=\"Rohan Sharma\", department=\"IT\"\n",
    "# - The attributes `self.employeeId`, `self.name`, and `self.department` get assigned\n",
    "# - The message \"New employee 'Rohan Sharma' joined in 'IT' department\" is printed"
   ]
  },
  {
   "cell_type": "code",
   "execution_count": 39,
   "id": "b05f51a0-4d66-47e7-ba45-66c8b3a8a416",
   "metadata": {},
   "outputs": [],
   "source": [
    "# class Book:\n",
    "#     def __init__(self,author,bookName,year,pages,genre):\n",
    "#         self.author = author\n",
    "#         self.bookName = bookName\n",
    "#         self.year = year\n",
    "#         self.pages = pages\n",
    "#         self.genre = genre\n",
    "#         print(f\"'{self.bookName}' by '{self.author}' has been created.\")\n",
    "    \n",
    "#     def __str__(self): #magical methods\n",
    "#         return f\"Book Name : {self.bookName}\\nAuthor : {self.author}\\nYear : {self.year}\\nPages : {self.pages}\\nGenre : {self.genre}\""
   ]
  },
  {
   "cell_type": "code",
   "execution_count": 41,
   "id": "2932035d-c835-41aa-b754-ecb951152cc5",
   "metadata": {},
   "outputs": [
    {
     "name": "stdout",
     "output_type": "stream",
     "text": [
      "'Harry Potter and The Goblet of Fire' by 'J K Rowlings' has been created.\n"
     ]
    }
   ],
   "source": [
    "hp = Book(\"J K Rowlings\",\"Harry Potter and The Goblet of Fire\",1990,1234,\"Fantasy\")"
   ]
  },
  {
   "cell_type": "code",
   "execution_count": 43,
   "id": "9e451509-0f4f-45bb-8e27-8b65dffa093f",
   "metadata": {},
   "outputs": [
    {
     "name": "stdout",
     "output_type": "stream",
     "text": [
      "Book Name : Harry Potter and The Goblet of Fire\n",
      "Author : J K Rowlings\n",
      "Year : 1990\n",
      "Pages : 1234\n",
      "Genre : Fantasy\n"
     ]
    }
   ],
   "source": [
    "print(hp)"
   ]
  },
  {
   "cell_type": "code",
   "execution_count": 45,
   "id": "41f546a4-8d75-4cfc-b6d6-1fdd1e1100f0",
   "metadata": {},
   "outputs": [
    {
     "name": "stdout",
     "output_type": "stream",
     "text": [
      "'Mathematics' by 'RD Sharma' has been created.\n"
     ]
    }
   ],
   "source": [
    "maths = Book(\"RD Sharma\",\"Mathematics\",1990,1000,\"Horror\")"
   ]
  },
  {
   "cell_type": "code",
   "execution_count": 47,
   "id": "9dbe9c5c-4295-44dd-a1af-dbc74580cd91",
   "metadata": {},
   "outputs": [
    {
     "name": "stdout",
     "output_type": "stream",
     "text": [
      "Book Name : Mathematics\n",
      "Author : RD Sharma\n",
      "Year : 1990\n",
      "Pages : 1000\n",
      "Genre : Horror\n"
     ]
    }
   ],
   "source": [
    "print(maths)"
   ]
  },
  {
   "cell_type": "code",
   "execution_count": 67,
   "id": "91d82848-67a0-4739-bf1f-50ffc2c92385",
   "metadata": {},
   "outputs": [
    {
     "name": "stdout",
     "output_type": "stream",
     "text": [
      "Book name'Harry poter' authored by 'JK Rowlings' publshed in'1990\n",
      "title:Harry poter\n",
      "Author:JK Rowlings\n",
      "Year:1990\n"
     ]
    }
   ],
   "source": [
    "class MyBook:\n",
    "    def __init__(self,title,author,year_published):\n",
    "        self.title = title\n",
    "        self.author = author\n",
    "        self.year_published = year_published\n",
    "        print(f\"Book name'{self.title}' authored by '{self.author}' publshed in'{self.year_published}\")\n",
    "    def __str__(self):\n",
    "        return f\"title:{self.title}\\nAuthor:{self.author}\\nYear:{self.year_published}\"\n",
    "new_book= MyBook(\"Harry poter\", \"JK Rowlings\",1990)\n",
    "print(new_book)"
   ]
  },
  {
   "cell_type": "code",
   "execution_count": null,
   "id": "529bea39-956c-43a6-95e0-73303b79203f",
   "metadata": {},
   "outputs": [],
   "source": []
  },
  {
   "cell_type": "code",
   "execution_count": 69,
   "id": "e116ef24-3777-4031-bacc-e46344b7b59c",
   "metadata": {},
   "outputs": [],
   "source": [
    "class Calculator:\n",
    "    def __init__(self,x,y):\n",
    "        self.x = x\n",
    "        self.y = y\n",
    "\n",
    "    def add(self):\n",
    "        print(x+y)"
   ]
  },
  {
   "cell_type": "code",
   "execution_count": 37,
   "id": "067c64ce-637a-4af2-9917-398e06a14f54",
   "metadata": {},
   "outputs": [],
   "source": [
    "# Practical Assignment: To-Do List Management System (Single Class Version)\n",
    "\n",
    "# Objective:\n",
    "# Create a Python class that manages a to-do list using an array (list).\n",
    "# This assignment will help practice class creation, methods, and list manipulation.\n",
    "\n",
    "    # Steps to Implement:\n",
    "    \n",
    "    # 1. Create a class named ToDoList to manage tasks.\n",
    "    # 2. Inside the class, define an empty list to store tasks.\n",
    "    # 3. Implement the following methods:\n",
    "    \n",
    "    #    - add_task(task): \n",
    "    #      - Accept a task (string).\n",
    "    #      - Add the task to the list.\n",
    "    #      - Print a confirmation message.\n",
    "    \n",
    "    #    - remove_task(task): \n",
    "    #      - Check if the task exists in the list.\n",
    "    #      - If it exists, remove it and print a confirmation message.\n",
    "    #      - If not, display a message that the task was not found.\n",
    "    \n",
    "    #    - update_task(old_task, new_task): \n",
    "    #      - Check if old_task exists in the list.\n",
    "    #      - If found, replace it with new_task and print a confirmation message.\n",
    "    #      - If not found, display an appropriate message.\n",
    "\n",
    "#    - show_tasks(): \n",
    "#      - If there are tasks in the list, display them.\n",
    "#      - If the list is empty, print a message saying there are no tasks.\n",
    "\n",
    "# 4. Create an instance of ToDoList and perform the following steps:\n",
    "#    - Add at least three different tasks.\n",
    "#    - Display all tasks.\n",
    "#    - Update one of the tasks.\n",
    "#    - Remove one task.\n",
    "#    - Display the remaining tasks.\n",
    "\n",
    "# 5. Handle errors such as:\n",
    "#    - Trying to remove or update a task that does not exist.\n",
    "#    - Displaying a message if the list is empty.\n",
    "\n",
    "# Expected Outcome:\n",
    "# - The user should be able to add, update, remove, and view tasks efficiently.\n",
    "# - The program should provide clear messages for each operation.\n",
    "\n",
    "class ToDolist:\n",
    "    def __init__(self):\n",
    "        self.tasks = []\n",
    "    def add_task(self, task):\n",
    "        self.tasks.append(task)\n",
    "        print(f'Task \"{task}\" added successfully!')\n",
    "    def remove_task(self,task):\n",
    "        if task in self.tasks:\n",
    "            self.tasks.remove(task)\n",
    "            print(f'Task \"{task}\" removed successfully!')\n",
    "        else:\n",
    "            print(f'Task \"{task}\" not found!')\n",
    "    def update_task(self,old_task,new_task):\n",
    "        if old_task in self.tasks:\n",
    "            index = self.tasks.index(old_task)\n",
    "            self.tasks[index]= new_task\n",
    "            print(f'Task \"{old_task}\" updated to \"{new_task}\" successfully!')\n",
    "        else:\n",
    "            print(f'Task \"{old_task}\" not found!')\n",
    "    def show_tasks(self):\n",
    "        if len(self.tasks) > 0:\n",
    "            for i,task in enumerate(self.tasks):\n",
    "                print(f\"{i+1}. {task}\")\n",
    "        else:\n",
    "            print(\"No Tasks Found\")"
   ]
  },
  {
   "cell_type": "code",
   "execution_count": 39,
   "id": "7d8feb81-d13c-4f06-b18a-47886852cc30",
   "metadata": {},
   "outputs": [],
   "source": [
    "list_one = ToDolist()"
   ]
  },
  {
   "cell_type": "code",
   "execution_count": 41,
   "id": "e18e3837-54f7-424a-bb6d-9d2fce464137",
   "metadata": {},
   "outputs": [
    {
     "name": "stdout",
     "output_type": "stream",
     "text": [
      "Task \"Have Food\" added successfully!\n",
      "Task \"Have Drinks\" added successfully!\n",
      "Task \"Go TO Sleep\" added successfully!\n"
     ]
    }
   ],
   "source": [
    "list_one.add_task(\"Have Food\")\n",
    "list_one.add_task(\"Have Drinks\")\n",
    "list_one.add_task(\"Go TO Sleep\")"
   ]
  },
  {
   "cell_type": "code",
   "execution_count": 43,
   "id": "4d5d7a01-ccf7-4b58-92f3-02f3371f0e85",
   "metadata": {},
   "outputs": [
    {
     "name": "stdout",
     "output_type": "stream",
     "text": [
      "1. Have Food\n",
      "2. Have Drinks\n",
      "3. Go TO Sleep\n"
     ]
    }
   ],
   "source": [
    "list_one.show_tasks()"
   ]
  },
  {
   "cell_type": "code",
   "execution_count": 47,
   "id": "5a52fabd-a61c-47d0-bd60-f4f7b04d3ec8",
   "metadata": {},
   "outputs": [
    {
     "name": "stdout",
     "output_type": "stream",
     "text": [
      "Task \"Have Drinks\" updated to \"Have lots of Drinks\" successfully!\n"
     ]
    }
   ],
   "source": [
    "list_one.update_task(\"Have Drinks\",\"Have lots of Drinks\")"
   ]
  },
  {
   "cell_type": "code",
   "execution_count": 49,
   "id": "28a47ef7-b06b-4b95-a6f3-60bc8ad9e620",
   "metadata": {},
   "outputs": [
    {
     "name": "stdout",
     "output_type": "stream",
     "text": [
      "1. Have Food\n",
      "2. Have lots of Drinks\n",
      "3. Go TO Sleep\n"
     ]
    }
   ],
   "source": [
    "list_one.show_tasks()"
   ]
  },
  {
   "cell_type": "code",
   "execution_count": 51,
   "id": "431472e7-411f-4db5-b32e-8152d22292f5",
   "metadata": {},
   "outputs": [
    {
     "name": "stdout",
     "output_type": "stream",
     "text": [
      "Task \"Go TO Sleep\" removed successfully!\n"
     ]
    }
   ],
   "source": [
    "list_one.remove_task(\"Go TO Sleep\")"
   ]
  },
  {
   "cell_type": "code",
   "execution_count": null,
   "id": "92f57802-bb0c-4d07-a7ec-2030ea015475",
   "metadata": {},
   "outputs": [],
   "source": []
  },
  {
   "cell_type": "code",
   "execution_count": null,
   "id": "76dd79ae-52ee-4289-a5ca-df18536944bc",
   "metadata": {},
   "outputs": [],
   "source": []
  },
  {
   "cell_type": "code",
   "execution_count": 57,
   "id": "d7d7d7c3-75d0-4adb-9e8c-4cdc4a401df8",
   "metadata": {},
   "outputs": [],
   "source": [
    "list_two = ToDolist()"
   ]
  },
  {
   "cell_type": "code",
   "execution_count": 59,
   "id": "de3231d7-bf84-45b0-baea-f27cc58c798b",
   "metadata": {},
   "outputs": [
    {
     "name": "stdout",
     "output_type": "stream",
     "text": [
      "No Tasks Found\n"
     ]
    }
   ],
   "source": [
    "list_two.show_tasks()"
   ]
  },
  {
   "cell_type": "code",
   "execution_count": null,
   "id": "84abf47b-fc8e-4f7e-93fb-5846a261903a",
   "metadata": {},
   "outputs": [],
   "source": []
  }
 ],
 "metadata": {
  "kernelspec": {
   "display_name": "Python (myenv)",
   "language": "python",
   "name": "myenv"
  },
  "language_info": {
   "codemirror_mode": {
    "name": "ipython",
    "version": 3
   },
   "file_extension": ".py",
   "mimetype": "text/x-python",
   "name": "python",
   "nbconvert_exporter": "python",
   "pygments_lexer": "ipython3",
   "version": "3.11.7"
  }
 },
 "nbformat": 4,
 "nbformat_minor": 5
}
