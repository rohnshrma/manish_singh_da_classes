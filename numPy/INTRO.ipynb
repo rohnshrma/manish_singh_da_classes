{
 "cells": [
  {
   "cell_type": "code",
   "execution_count": 1,
   "id": "8d50105d-100d-4f1e-9dfa-928f09eb0e32",
   "metadata": {},
   "outputs": [
    {
     "name": "stdout",
     "output_type": "stream",
     "text": [
      "Requirement already satisfied: numpy in /opt/anaconda3/lib/python3.11/site-packages (1.26.4)\n",
      "Note: you may need to restart the kernel to use updated packages.\n"
     ]
    }
   ],
   "source": [
    "pip install numpy\n"
   ]
  },
  {
   "cell_type": "code",
   "execution_count": 3,
   "id": "4a396567-9951-447e-945e-56b429a26939",
   "metadata": {},
   "outputs": [],
   "source": [
    "import numpy as np"
   ]
  },
  {
   "cell_type": "code",
   "execution_count": 7,
   "id": "e969b688-50b1-4583-b522-cab165615e43",
   "metadata": {},
   "outputs": [],
   "source": [
    "arr1 = np.array([12,34,45,56,23,23])"
   ]
  },
  {
   "cell_type": "code",
   "execution_count": 9,
   "id": "4e53bc26-0e22-43cf-ab6c-fcb10a41fbb0",
   "metadata": {},
   "outputs": [
    {
     "name": "stdout",
     "output_type": "stream",
     "text": [
      "1D Array [12 34 45 56 23 23]\n"
     ]
    }
   ],
   "source": [
    "print(\"1D Array\" , arr1)"
   ]
  },
  {
   "cell_type": "code",
   "execution_count": 11,
   "id": "43024372-8fa6-4b44-b3ef-cc03d016271a",
   "metadata": {},
   "outputs": [],
   "source": [
    "arr2 = np.array([[12,34,45,56,23,23] , [23,34,323,45,23,45]])"
   ]
  },
  {
   "cell_type": "code",
   "execution_count": 13,
   "id": "5cf2b9b1-b099-4c41-8948-b0263121ad4a",
   "metadata": {},
   "outputs": [
    {
     "name": "stdout",
     "output_type": "stream",
     "text": [
      "2D Array [[ 12  34  45  56  23  23]\n",
      " [ 23  34 323  45  23  45]]\n"
     ]
    }
   ],
   "source": [
    "print(\"2D Array\" , arr2)"
   ]
  },
  {
   "cell_type": "code",
   "execution_count": null,
   "id": "f9001bda-b066-4c66-a781-4a5af2290bb5",
   "metadata": {},
   "outputs": [],
   "source": []
  },
  {
   "cell_type": "code",
   "execution_count": null,
   "id": "79f00ae1-a074-4296-a64d-63681f131ef1",
   "metadata": {},
   "outputs": [],
   "source": []
  },
  {
   "cell_type": "code",
   "execution_count": 19,
   "id": "475fa845-a9e0-460c-a9e9-f1da672af091",
   "metadata": {},
   "outputs": [],
   "source": [
    "z = np.zeros((2,3))"
   ]
  },
  {
   "cell_type": "code",
   "execution_count": 21,
   "id": "780a9226-7d46-4951-bef3-cf062111afab",
   "metadata": {},
   "outputs": [
    {
     "data": {
      "text/plain": [
       "array([[0., 0., 0.],\n",
       "       [0., 0., 0.]])"
      ]
     },
     "execution_count": 21,
     "metadata": {},
     "output_type": "execute_result"
    }
   ],
   "source": [
    "z"
   ]
  },
  {
   "cell_type": "code",
   "execution_count": 25,
   "id": "c0ea1757-8c1a-4401-9084-2f8f9fb0039d",
   "metadata": {},
   "outputs": [],
   "source": [
    "ones = np.ones((3,3))"
   ]
  },
  {
   "cell_type": "code",
   "execution_count": 27,
   "id": "22db3825-f0d5-4274-bee7-3e74627e48d2",
   "metadata": {},
   "outputs": [
    {
     "data": {
      "text/plain": [
       "array([[1., 1., 1.],\n",
       "       [1., 1., 1.],\n",
       "       [1., 1., 1.]])"
      ]
     },
     "execution_count": 27,
     "metadata": {},
     "output_type": "execute_result"
    }
   ],
   "source": [
    "ones"
   ]
  },
  {
   "cell_type": "code",
   "execution_count": 33,
   "id": "e6a540a9-5d19-4ca2-9201-25c783239f96",
   "metadata": {},
   "outputs": [],
   "source": [
    "rng = np.arange(0,10,2) # s : s : s"
   ]
  },
  {
   "cell_type": "code",
   "execution_count": 35,
   "id": "7cb1a429-6f90-4946-933a-20ac7150e6b3",
   "metadata": {},
   "outputs": [
    {
     "data": {
      "text/plain": [
       "array([0, 2, 4, 6, 8])"
      ]
     },
     "execution_count": 35,
     "metadata": {},
     "output_type": "execute_result"
    }
   ],
   "source": [
    "rng"
   ]
  },
  {
   "cell_type": "code",
   "execution_count": null,
   "id": "8908d601-0b86-452b-b421-124dd0749f83",
   "metadata": {},
   "outputs": [],
   "source": []
  },
  {
   "cell_type": "code",
   "execution_count": null,
   "id": "941d8977-086a-428a-9b8d-b5eb1570dd05",
   "metadata": {},
   "outputs": [],
   "source": []
  },
  {
   "cell_type": "code",
   "execution_count": null,
   "id": "3802c55e-58b6-4e3e-b558-4e21d4171568",
   "metadata": {},
   "outputs": [],
   "source": []
  },
  {
   "cell_type": "code",
   "execution_count": 40,
   "id": "b4c2e62e-09ef-42c6-bf9c-c56c7d11ebcd",
   "metadata": {},
   "outputs": [],
   "source": [
    "a = np.array([1,2,4])\n",
    "b = np.array([4,6,0])\n"
   ]
  },
  {
   "cell_type": "code",
   "execution_count": 44,
   "id": "a4ff2bef-d54b-4880-9739-938ef4523906",
   "metadata": {},
   "outputs": [],
   "source": [
    "x = a+b"
   ]
  },
  {
   "cell_type": "code",
   "execution_count": 46,
   "id": "2cc501ca-53b9-4a83-85f6-2352454907f6",
   "metadata": {},
   "outputs": [
    {
     "data": {
      "text/plain": [
       "array([5, 8, 4])"
      ]
     },
     "execution_count": 46,
     "metadata": {},
     "output_type": "execute_result"
    }
   ],
   "source": [
    "x"
   ]
  },
  {
   "cell_type": "code",
   "execution_count": 48,
   "id": "5ef2c568-f535-4396-9f1a-06ef799d62a9",
   "metadata": {},
   "outputs": [],
   "source": [
    "z = a*b"
   ]
  },
  {
   "cell_type": "code",
   "execution_count": 50,
   "id": "fcac7111-ddce-4487-a2d9-6767153c8ef6",
   "metadata": {},
   "outputs": [
    {
     "data": {
      "text/plain": [
       "array([ 4, 12,  0])"
      ]
     },
     "execution_count": 50,
     "metadata": {},
     "output_type": "execute_result"
    }
   ],
   "source": [
    "z"
   ]
  },
  {
   "cell_type": "code",
   "execution_count": null,
   "id": "4a5bc4eb-18e7-400c-9252-d0851bee9972",
   "metadata": {},
   "outputs": [],
   "source": []
  },
  {
   "cell_type": "code",
   "execution_count": null,
   "id": "6cab8acb-10a9-4058-9d3e-e4f23c9c2332",
   "metadata": {},
   "outputs": [],
   "source": []
  },
  {
   "cell_type": "code",
   "execution_count": 54,
   "id": "fd467d12-036d-496b-ae51-182746d68c75",
   "metadata": {},
   "outputs": [
    {
     "data": {
      "text/plain": [
       "1"
      ]
     },
     "execution_count": 54,
     "metadata": {},
     "output_type": "execute_result"
    }
   ],
   "source": [
    "a[0]"
   ]
  },
  {
   "cell_type": "code",
   "execution_count": 56,
   "id": "4621fedc-8944-4078-9f84-359fb00325e3",
   "metadata": {},
   "outputs": [
    {
     "data": {
      "text/plain": [
       "4"
      ]
     },
     "execution_count": 56,
     "metadata": {},
     "output_type": "execute_result"
    }
   ],
   "source": [
    "a[2]"
   ]
  },
  {
   "cell_type": "code",
   "execution_count": 58,
   "id": "c6ea612a-8927-4993-ab92-7d21e6b7311d",
   "metadata": {},
   "outputs": [],
   "source": [
    "arr_2d = np.array([[1, 2, 3], [4, 5, 6]])"
   ]
  },
  {
   "cell_type": "code",
   "execution_count": 64,
   "id": "9123f37b-8c06-4698-a9cb-7a28e0530048",
   "metadata": {},
   "outputs": [
    {
     "data": {
      "text/plain": [
       "6"
      ]
     },
     "execution_count": 64,
     "metadata": {},
     "output_type": "execute_result"
    }
   ],
   "source": [
    "arr_2d[1,2]"
   ]
  },
  {
   "cell_type": "code",
   "execution_count": 66,
   "id": "74ed54b1-b33d-4f56-9ff9-be66ff75661d",
   "metadata": {},
   "outputs": [],
   "source": [
    "lst = [[1, 2, 3], [4, 5, 6]]"
   ]
  },
  {
   "cell_type": "code",
   "execution_count": 72,
   "id": "373848ea-683c-4686-a88f-129a09bbdce3",
   "metadata": {},
   "outputs": [
    {
     "data": {
      "text/plain": [
       "6"
      ]
     },
     "execution_count": 72,
     "metadata": {},
     "output_type": "execute_result"
    }
   ],
   "source": [
    "lst[1][2]"
   ]
  },
  {
   "cell_type": "code",
   "execution_count": 86,
   "id": "85ec4921-4538-4d4d-97ba-d0d0f12f6f62",
   "metadata": {},
   "outputs": [],
   "source": [
    "data = np.array([10, 20, 30,23,23,23, 40, 50])"
   ]
  },
  {
   "cell_type": "code",
   "execution_count": 92,
   "id": "9c6c5ce8-f72b-4147-8c59-0a73fa9ba8bf",
   "metadata": {},
   "outputs": [
    {
     "name": "stdout",
     "output_type": "stream",
     "text": [
      "27.375\n",
      "23.0\n",
      "10\n",
      "50\n"
     ]
    }
   ],
   "source": [
    "print(np.mean(data))\n",
    "print(np.median(data))\n",
    "print(np.min(data))\n",
    "print(np.max(data))"
   ]
  },
  {
   "cell_type": "code",
   "execution_count": 94,
   "id": "141b149c-3e59-47aa-b99b-faa537e475b3",
   "metadata": {},
   "outputs": [
    {
     "data": {
      "text/plain": [
       "array([5, 7, 9])"
      ]
     },
     "execution_count": 94,
     "metadata": {},
     "output_type": "execute_result"
    }
   ],
   "source": [
    "np.sum(arr_2d , axis=0)"
   ]
  },
  {
   "cell_type": "code",
   "execution_count": 96,
   "id": "833cfd2c-3d5a-4f16-9995-14d89bf8c2a2",
   "metadata": {},
   "outputs": [
    {
     "data": {
      "text/plain": [
       "array([ 6, 15])"
      ]
     },
     "execution_count": 96,
     "metadata": {},
     "output_type": "execute_result"
    }
   ],
   "source": [
    "np.sum(arr_2d , axis=1)"
   ]
  },
  {
   "cell_type": "code",
   "execution_count": 98,
   "id": "3e7d4d33-a8f6-48a5-8fa0-f79566638a8e",
   "metadata": {},
   "outputs": [
    {
     "data": {
      "text/plain": [
       "array([1, 2, 3, 4, 5, 6])"
      ]
     },
     "execution_count": 98,
     "metadata": {},
     "output_type": "execute_result"
    }
   ],
   "source": [
    "arr_2d.flatten()"
   ]
  },
  {
   "cell_type": "code",
   "execution_count": 119,
   "id": "139d3945-7d3f-403d-9915-db001fe61bf4",
   "metadata": {},
   "outputs": [
    {
     "data": {
      "text/plain": [
       "array([[1, 2],\n",
       "       [3, 4],\n",
       "       [5, 6]])"
      ]
     },
     "execution_count": 119,
     "metadata": {},
     "output_type": "execute_result"
    }
   ],
   "source": [
    "arr_2d.reshape((3,2))"
   ]
  },
  {
   "cell_type": "code",
   "execution_count": null,
   "id": "ac7f8050-c6f4-45a6-8101-69918778b5ef",
   "metadata": {},
   "outputs": [],
   "source": []
  },
  {
   "cell_type": "code",
   "execution_count": null,
   "id": "186e24af-3110-46ef-a76b-66361ecfcf7b",
   "metadata": {},
   "outputs": [],
   "source": []
  },
  {
   "cell_type": "code",
   "execution_count": 107,
   "id": "435da64e-07e5-44ca-9236-67c61e23797b",
   "metadata": {},
   "outputs": [],
   "source": [
    "list_2d = [[1, 2, 3], [4, 5, 6]]"
   ]
  },
  {
   "cell_type": "code",
   "execution_count": 115,
   "id": "8e92afa7-d63f-45bc-87e1-9a717ca6014d",
   "metadata": {},
   "outputs": [],
   "source": [
    "flat = []\n",
    "for sub in list_2d:\n",
    "    for item in sub:\n",
    "        flat.append(item)"
   ]
  },
  {
   "cell_type": "code",
   "execution_count": 117,
   "id": "5c8b93d3-d024-4ba6-9bf4-b86e3c5a4b8f",
   "metadata": {},
   "outputs": [
    {
     "data": {
      "text/plain": [
       "[1, 2, 3, 4, 5, 6]"
      ]
     },
     "execution_count": 117,
     "metadata": {},
     "output_type": "execute_result"
    }
   ],
   "source": [
    "flat"
   ]
  },
  {
   "cell_type": "code",
   "execution_count": null,
   "id": "656ebb47-2a1b-4a32-8423-cfbcb98e09db",
   "metadata": {},
   "outputs": [],
   "source": []
  },
  {
   "cell_type": "code",
   "execution_count": null,
   "id": "8c409e8c-547c-4611-befb-6e585cd63f67",
   "metadata": {},
   "outputs": [],
   "source": []
  },
  {
   "cell_type": "code",
   "execution_count": null,
   "id": "ec4e00d3-415d-4eb3-bef7-75b5a3d7cc21",
   "metadata": {},
   "outputs": [],
   "source": []
  },
  {
   "cell_type": "code",
   "execution_count": 130,
   "id": "d006f476-9f24-4dae-8bfc-b16f2cee2e11",
   "metadata": {},
   "outputs": [],
   "source": [
    "mixedData = np.array([12,34,12,np.nan,34])"
   ]
  },
  {
   "cell_type": "code",
   "execution_count": 132,
   "id": "bd285470-4055-43b0-b350-7402a469f408",
   "metadata": {},
   "outputs": [
    {
     "data": {
      "text/plain": [
       "23.0"
      ]
     },
     "execution_count": 132,
     "metadata": {},
     "output_type": "execute_result"
    }
   ],
   "source": [
    "np.nanmean(mixedData)"
   ]
  },
  {
   "cell_type": "code",
   "execution_count": 134,
   "id": "af68ce00-9886-4e28-882e-24f54a229a0e",
   "metadata": {},
   "outputs": [],
   "source": [
    "sales = np.array([500, 200, 800, 150])"
   ]
  },
  {
   "cell_type": "code",
   "execution_count": 140,
   "id": "b39578b0-6206-4eb5-8a22-14eee1959284",
   "metadata": {},
   "outputs": [
    {
     "data": {
      "text/plain": [
       "3"
      ]
     },
     "execution_count": 140,
     "metadata": {},
     "output_type": "execute_result"
    }
   ],
   "source": [
    "np.argmax(sales) + 1"
   ]
  },
  {
   "cell_type": "code",
   "execution_count": null,
   "id": "e4dcb4b3-56c9-4523-8ae0-7718643c5911",
   "metadata": {},
   "outputs": [],
   "source": []
  }
 ],
 "metadata": {
  "kernelspec": {
   "display_name": "Python (myenv)",
   "language": "python",
   "name": "myenv"
  },
  "language_info": {
   "codemirror_mode": {
    "name": "ipython",
    "version": 3
   },
   "file_extension": ".py",
   "mimetype": "text/x-python",
   "name": "python",
   "nbconvert_exporter": "python",
   "pygments_lexer": "ipython3",
   "version": "3.11.7"
  }
 },
 "nbformat": 4,
 "nbformat_minor": 5
}
