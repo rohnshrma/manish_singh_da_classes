{
 "cells": [
  {
   "cell_type": "code",
   "execution_count": 1,
   "id": "efdc5ea4-789d-4135-ab70-9fbfb6d0cfe5",
   "metadata": {},
   "outputs": [
    {
     "name": "stdout",
     "output_type": "stream",
     "text": [
      "Requirement already satisfied: numpy in /opt/anaconda3/lib/python3.11/site-packages (1.26.4)\n",
      "Note: you may need to restart the kernel to use updated packages.\n"
     ]
    }
   ],
   "source": [
    "pip install numpy"
   ]
  },
  {
   "cell_type": "code",
   "execution_count": 5,
   "id": "b3f4d79e-cf58-4dde-8dea-67b28bfca03f",
   "metadata": {},
   "outputs": [],
   "source": [
    "# import numpy\n",
    "import numpy as np"
   ]
  },
  {
   "cell_type": "code",
   "execution_count": 7,
   "id": "4f7cbe71-9a04-4550-93c4-43e233c64dba",
   "metadata": {},
   "outputs": [
    {
     "name": "stdout",
     "output_type": "stream",
     "text": [
      "1.26.4\n"
     ]
    }
   ],
   "source": [
    "print(np.__version__)"
   ]
  },
  {
   "cell_type": "code",
   "execution_count": 9,
   "id": "27b98173-2fd1-4315-bb67-52f1056f2aea",
   "metadata": {},
   "outputs": [],
   "source": [
    "\n",
    "\n",
    "marks = np.array([12,23,35,23,23,56])"
   ]
  },
  {
   "cell_type": "code",
   "execution_count": 11,
   "id": "5efa6485-3607-4232-8207-79a32c8ac60c",
   "metadata": {},
   "outputs": [
    {
     "name": "stdout",
     "output_type": "stream",
     "text": [
      "<class 'numpy.ndarray'>\n"
     ]
    }
   ],
   "source": [
    "print(type(marks))"
   ]
  },
  {
   "cell_type": "code",
   "execution_count": 13,
   "id": "61481f89-41f1-4f3d-b75b-50a3392df47b",
   "metadata": {},
   "outputs": [],
   "source": [
    "yourMarks = np.array(42)"
   ]
  },
  {
   "cell_type": "code",
   "execution_count": null,
   "id": "190de55c-6c31-4f2f-a7fb-1ab9a77c3e47",
   "metadata": {},
   "outputs": [],
   "source": []
  },
  {
   "cell_type": "code",
   "execution_count": null,
   "id": "25b72619-58ea-4a6d-b1b1-175b7b667819",
   "metadata": {},
   "outputs": [],
   "source": []
  },
  {
   "cell_type": "code",
   "execution_count": 17,
   "id": "7fd372db-6279-4e8b-b170-86b07626a77f",
   "metadata": {},
   "outputs": [],
   "source": [
    "arr = np.array([[1,2,3] , [4,5,6]])"
   ]
  },
  {
   "cell_type": "code",
   "execution_count": 19,
   "id": "81ddfd1b-91e2-4d05-a22b-cc27fe4f27aa",
   "metadata": {},
   "outputs": [
    {
     "data": {
      "text/plain": [
       "array([[1, 2, 3],\n",
       "       [4, 5, 6]])"
      ]
     },
     "execution_count": 19,
     "metadata": {},
     "output_type": "execute_result"
    }
   ],
   "source": [
    "arr"
   ]
  },
  {
   "cell_type": "code",
   "execution_count": null,
   "id": "67f8cb69-1148-431b-b717-4bb204f64c00",
   "metadata": {},
   "outputs": [],
   "source": []
  },
  {
   "cell_type": "code",
   "execution_count": 28,
   "id": "dc391a49-63df-4fcb-b6ec-01a5a4d6fd71",
   "metadata": {},
   "outputs": [],
   "source": [
    "arr0D = np.array(42)\n",
    "arr1D = np.array([12,34,23,2,34])\n",
    "arr2D = np.array([[12,34,23,2,34] , [45,3,4,3,5]])\n",
    "arr3D = np.array([[[12,34,23,2,34] , [45,3,4,3,5]] , [[12,34,23,2,34] , [45,3,3,44,5]]])\n"
   ]
  },
  {
   "cell_type": "code",
   "execution_count": 32,
   "id": "62717163-6459-4e58-b103-e947b69fa16b",
   "metadata": {},
   "outputs": [
    {
     "name": "stdout",
     "output_type": "stream",
     "text": [
      "0\n",
      "1\n",
      "2\n",
      "3\n"
     ]
    }
   ],
   "source": [
    "print(arr0D.ndim)\n",
    "print(arr1D.ndim)\n",
    "print(arr2D.ndim)\n",
    "print(arr3D.ndim)"
   ]
  },
  {
   "cell_type": "code",
   "execution_count": 38,
   "id": "fbd5b32d-8835-4c00-9e9e-1dc815f517a7",
   "metadata": {},
   "outputs": [],
   "source": [
    "arr5d= np.array([1,2,3,4,5] , ndmin = 5)\n"
   ]
  },
  {
   "cell_type": "code",
   "execution_count": 40,
   "id": "f2ff87d6-860b-487d-85ef-9bd2e4a4a6b7",
   "metadata": {},
   "outputs": [
    {
     "name": "stdout",
     "output_type": "stream",
     "text": [
      "5\n"
     ]
    }
   ],
   "source": [
    "print(arr5d.ndim)"
   ]
  },
  {
   "cell_type": "code",
   "execution_count": 42,
   "id": "886b3821-c3a5-4cb2-8fc2-83fda9651781",
   "metadata": {},
   "outputs": [
    {
     "name": "stdout",
     "output_type": "stream",
     "text": [
      "1\n"
     ]
    }
   ],
   "source": [
    "print(len(arr5d))"
   ]
  },
  {
   "cell_type": "code",
   "execution_count": null,
   "id": "8d50105d-100d-4f1e-9dfa-928f09eb0e32",
   "metadata": {},
   "outputs": [],
   "source": []
  }
 ],
 "metadata": {
  "kernelspec": {
   "display_name": "Python (myenv)",
   "language": "python",
   "name": "myenv"
  },
  "language_info": {
   "codemirror_mode": {
    "name": "ipython",
    "version": 3
   },
   "file_extension": ".py",
   "mimetype": "text/x-python",
   "name": "python",
   "nbconvert_exporter": "python",
   "pygments_lexer": "ipython3",
   "version": "3.11.7"
  }
 },
 "nbformat": 4,
 "nbformat_minor": 5
}
