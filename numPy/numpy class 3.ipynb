{
 "cells": [
  {
   "cell_type": "code",
   "execution_count": 3,
   "id": "2a4da0f7-61eb-4b93-b783-e3d37bfc3e91",
   "metadata": {},
   "outputs": [],
   "source": [
    "import numpy as np"
   ]
  },
  {
   "cell_type": "code",
   "execution_count": 5,
   "id": "3ca529f7-d1a2-42b9-80bb-ded4390b768b",
   "metadata": {},
   "outputs": [],
   "source": [
    "original_array = np.array([1, 2, 3, 4])"
   ]
  },
  {
   "cell_type": "code",
   "execution_count": 7,
   "id": "99a26824-8ee7-421f-a039-ffef5601232b",
   "metadata": {},
   "outputs": [],
   "source": [
    "view_array = original_array.view()"
   ]
  },
  {
   "cell_type": "code",
   "execution_count": 11,
   "id": "c592ee98-b446-4219-9625-612e103a95f1",
   "metadata": {},
   "outputs": [
    {
     "name": "stdout",
     "output_type": "stream",
     "text": [
      "[1 2 3 4]\n",
      "[1 2 3 4]\n"
     ]
    }
   ],
   "source": [
    "print(view_array)\n",
    "print(original_array)"
   ]
  },
  {
   "cell_type": "code",
   "execution_count": 13,
   "id": "60f89c32-9955-447c-9456-fd3f268f34c8",
   "metadata": {},
   "outputs": [],
   "source": [
    "view_array[2] = 90"
   ]
  },
  {
   "cell_type": "code",
   "execution_count": 15,
   "id": "6909834c-c42e-45f2-b0db-3690c34f341f",
   "metadata": {},
   "outputs": [
    {
     "name": "stdout",
     "output_type": "stream",
     "text": [
      "[ 1  2 90  4]\n",
      "[ 1  2 90  4]\n"
     ]
    }
   ],
   "source": [
    "print(view_array)\n",
    "print(original_array)"
   ]
  },
  {
   "cell_type": "code",
   "execution_count": null,
   "id": "b17401b4-4f39-4f96-9ab5-9cd763cd1c9e",
   "metadata": {},
   "outputs": [],
   "source": []
  },
  {
   "cell_type": "code",
   "execution_count": null,
   "id": "6bbfca76-ae86-4cfe-b1d8-39774064bcb8",
   "metadata": {},
   "outputs": [],
   "source": []
  },
  {
   "cell_type": "code",
   "execution_count": null,
   "id": "a88ca257-f5df-4b6e-b6a5-6d628d75f422",
   "metadata": {},
   "outputs": [],
   "source": []
  },
  {
   "cell_type": "code",
   "execution_count": null,
   "id": "f8d3757f-2fff-4b5d-8b0d-8a6c137fbf37",
   "metadata": {},
   "outputs": [],
   "source": []
  },
  {
   "cell_type": "code",
   "execution_count": 21,
   "id": "f587de2f-84a9-43ef-bb68-11bfc3e53de4",
   "metadata": {},
   "outputs": [],
   "source": [
    "\n",
    "original_array = np.array([1, 2, 3, 4])\n",
    "copy_arr = original_array.copy()"
   ]
  },
  {
   "cell_type": "code",
   "execution_count": 24,
   "id": "91fadf03-c356-4ff7-bfc2-1ee99adae487",
   "metadata": {},
   "outputs": [
    {
     "name": "stdout",
     "output_type": "stream",
     "text": [
      "[1 2 3 4]\n",
      "[1 2 3 4]\n"
     ]
    }
   ],
   "source": [
    "print(original_array)\n",
    "print(copy_arr)"
   ]
  },
  {
   "cell_type": "code",
   "execution_count": 26,
   "id": "9a0e2cd8-5932-417f-bb3b-d0de663581d6",
   "metadata": {},
   "outputs": [],
   "source": [
    "copy_arr[2] = 100"
   ]
  },
  {
   "cell_type": "code",
   "execution_count": 28,
   "id": "29f9a537-a33d-4643-8d4d-f47b8f40bcf5",
   "metadata": {},
   "outputs": [
    {
     "name": "stdout",
     "output_type": "stream",
     "text": [
      "[1 2 3 4]\n",
      "[  1   2 100   4]\n"
     ]
    }
   ],
   "source": [
    "print(original_array)\n",
    "print(copy_arr)"
   ]
  },
  {
   "cell_type": "code",
   "execution_count": null,
   "id": "f9805f49-3754-4422-94a2-2aa76139977a",
   "metadata": {},
   "outputs": [],
   "source": []
  },
  {
   "cell_type": "code",
   "execution_count": null,
   "id": "934298ad-d73a-40de-b986-976366ce8cf8",
   "metadata": {},
   "outputs": [],
   "source": []
  },
  {
   "cell_type": "code",
   "execution_count": 32,
   "id": "9b9b0422-3986-47e0-bf2b-bdce6cf6e1c6",
   "metadata": {},
   "outputs": [],
   "source": [
    "arr = np.array([[1, 2, 3, 4], [5, 6, 7, 8]])\n"
   ]
  },
  {
   "cell_type": "code",
   "execution_count": 34,
   "id": "e3ac5d20-49ab-44c4-9403-15eba9ed2001",
   "metadata": {},
   "outputs": [
    {
     "name": "stdout",
     "output_type": "stream",
     "text": [
      "(2, 4)\n"
     ]
    }
   ],
   "source": [
    "print(arr.shape)"
   ]
  },
  {
   "cell_type": "code",
   "execution_count": 36,
   "id": "5ca722e4-ec5e-408e-8182-5d9b18add816",
   "metadata": {},
   "outputs": [],
   "source": [
    "\n",
    "\n",
    "\n",
    "d1 = np.array([12,23,34,23])"
   ]
  },
  {
   "cell_type": "code",
   "execution_count": 38,
   "id": "3a46b47d-763a-4672-ac55-a150887c5d8e",
   "metadata": {},
   "outputs": [
    {
     "name": "stdout",
     "output_type": "stream",
     "text": [
      "(4,)\n"
     ]
    }
   ],
   "source": [
    "print(d1.shape)"
   ]
  },
  {
   "cell_type": "code",
   "execution_count": 40,
   "id": "03f42392-cd48-4bb0-ba5e-bb8675b31933",
   "metadata": {},
   "outputs": [],
   "source": [
    "arr2 = np.array([1, 2, 3, 4, 5, 6, 7, 8, 9, 10, 11, 12])"
   ]
  },
  {
   "cell_type": "code",
   "execution_count": 42,
   "id": "0bb87167-6aca-4ea5-adba-497dbb9fa131",
   "metadata": {},
   "outputs": [
    {
     "data": {
      "text/plain": [
       "array([[ 1,  2,  3,  4],\n",
       "       [ 5,  6,  7,  8],\n",
       "       [ 9, 10, 11, 12]])"
      ]
     },
     "execution_count": 42,
     "metadata": {},
     "output_type": "execute_result"
    }
   ],
   "source": [
    "arr2.reshape(3,4)"
   ]
  },
  {
   "cell_type": "code",
   "execution_count": 61,
   "id": "cf8bb006-314d-4b70-a00d-c59dd60a276d",
   "metadata": {},
   "outputs": [],
   "source": [
    "d3 = arr2.reshape(2,3,2)"
   ]
  },
  {
   "cell_type": "code",
   "execution_count": 48,
   "id": "92270dbe-9b91-42ec-9c56-44959f85745f",
   "metadata": {},
   "outputs": [
    {
     "name": "stdout",
     "output_type": "stream",
     "text": [
      "1\n",
      "2\n",
      "3\n",
      "4\n",
      "5\n",
      "6\n",
      "7\n",
      "8\n",
      "9\n",
      "10\n",
      "11\n",
      "12\n"
     ]
    }
   ],
   "source": [
    "for item in arr2:\n",
    "    print(item)"
   ]
  },
  {
   "cell_type": "code",
   "execution_count": 74,
   "id": "2b39bb45-df9b-4694-a484-4e656d1fa19a",
   "metadata": {},
   "outputs": [],
   "source": [
    "d2 = np.array([[1, 2, 3, 4], [5, 6, 7, 8]])\n"
   ]
  },
  {
   "cell_type": "code",
   "execution_count": 59,
   "id": "20e9fa95-280c-45b9-b9e4-fa697409de3d",
   "metadata": {},
   "outputs": [
    {
     "name": "stdout",
     "output_type": "stream",
     "text": [
      "1\n",
      "2\n",
      "3\n",
      "4\n",
      "5\n",
      "6\n",
      "7\n",
      "8\n"
     ]
    }
   ],
   "source": [
    "for d1 in d2:\n",
    "    for d0 in d1:\n",
    "        print(d0)"
   ]
  },
  {
   "cell_type": "code",
   "execution_count": 67,
   "id": "8ef51eb3-71eb-4471-b69c-d78f5c189d25",
   "metadata": {},
   "outputs": [
    {
     "name": "stdout",
     "output_type": "stream",
     "text": [
      "1\n",
      "2\n",
      "3\n",
      "4\n",
      "5\n",
      "6\n",
      "7\n",
      "8\n",
      "9\n",
      "10\n",
      "11\n",
      "12\n"
     ]
    }
   ],
   "source": [
    "for d2 in d3:\n",
    "    for d1 in d2:\n",
    "        for d0 in d1:\n",
    "            print(d0)"
   ]
  },
  {
   "cell_type": "code",
   "execution_count": null,
   "id": "94c37217-6d6e-4034-b5e2-0b6a7e694e31",
   "metadata": {},
   "outputs": [],
   "source": []
  },
  {
   "cell_type": "code",
   "execution_count": 70,
   "id": "f2dd3fc8-5377-46a1-b0e7-635b1b40efd2",
   "metadata": {},
   "outputs": [
    {
     "name": "stdout",
     "output_type": "stream",
     "text": [
      "1\n",
      "2\n",
      "3\n",
      "4\n",
      "5\n",
      "6\n",
      "7\n",
      "8\n",
      "9\n",
      "10\n",
      "11\n",
      "12\n"
     ]
    }
   ],
   "source": [
    "for item in np.nditer(d3):\n",
    "    print(item)"
   ]
  },
  {
   "cell_type": "code",
   "execution_count": 78,
   "id": "99db81bb-e27f-4169-96a0-b697e13251dc",
   "metadata": {},
   "outputs": [
    {
     "name": "stdout",
     "output_type": "stream",
     "text": [
      "1\n",
      "3\n",
      "5\n",
      "7\n"
     ]
    }
   ],
   "source": [
    "for item in np.nditer(d2[:,::2]):\n",
    "    print(item)"
   ]
  },
  {
   "cell_type": "code",
   "execution_count": 80,
   "id": "e737171a-f55f-4000-9860-1b78132686c2",
   "metadata": {},
   "outputs": [],
   "source": [
    "arr1 =  np.array([1, 2, 3, 4, 5, 6, 7, 8, 9, 10, 11, 12])"
   ]
  },
  {
   "cell_type": "code",
   "execution_count": 86,
   "id": "9a9ad83a-f3af-4823-b973-fc9c1e6e529b",
   "metadata": {},
   "outputs": [
    {
     "name": "stdout",
     "output_type": "stream",
     "text": [
      "(0,) 1\n",
      "(1,) 2\n",
      "(2,) 3\n",
      "(3,) 4\n",
      "(4,) 5\n",
      "(5,) 6\n",
      "(6,) 7\n",
      "(7,) 8\n",
      "(8,) 9\n",
      "(9,) 10\n",
      "(10,) 11\n",
      "(11,) 12\n"
     ]
    }
   ],
   "source": [
    "for index,item in np.ndenumerate(arr1):\n",
    "    print(index , item)"
   ]
  },
  {
   "cell_type": "code",
   "execution_count": null,
   "id": "455197f7-36d2-4888-a0d0-6cf056d7eef4",
   "metadata": {},
   "outputs": [],
   "source": []
  },
  {
   "cell_type": "code",
   "execution_count": null,
   "id": "6f194c30-023b-4958-a13f-e8b524d1796d",
   "metadata": {},
   "outputs": [],
   "source": []
  },
  {
   "cell_type": "code",
   "execution_count": null,
   "id": "961fd418-e276-4e9f-b3c8-1436eabdad86",
   "metadata": {},
   "outputs": [],
   "source": []
  },
  {
   "cell_type": "code",
   "execution_count": 91,
   "id": "cfb1c387-ca80-4505-89f4-4be26cfc21b8",
   "metadata": {},
   "outputs": [],
   "source": [
    "arr1 = np.array([1, 2, 3])\n",
    "\n",
    "arr2 = np.array([4, 5, 6])"
   ]
  },
  {
   "cell_type": "code",
   "execution_count": 93,
   "id": "3019fdff-3e99-4df6-ad7a-3408f9e1866f",
   "metadata": {},
   "outputs": [],
   "source": [
    "x = arr1 + arr2"
   ]
  },
  {
   "cell_type": "code",
   "execution_count": 95,
   "id": "6712714d-54ad-42dc-877a-904400d41f1d",
   "metadata": {},
   "outputs": [
    {
     "data": {
      "text/plain": [
       "array([5, 7, 9])"
      ]
     },
     "execution_count": 95,
     "metadata": {},
     "output_type": "execute_result"
    }
   ],
   "source": [
    "x"
   ]
  },
  {
   "cell_type": "code",
   "execution_count": 99,
   "id": "e169f416-57e8-4067-bf5f-6fd7249a1793",
   "metadata": {},
   "outputs": [],
   "source": [
    "z = np.concatenate((arr1, arr2))"
   ]
  },
  {
   "cell_type": "code",
   "execution_count": 101,
   "id": "1733ff76-37f2-4ee7-88a8-57200943332e",
   "metadata": {},
   "outputs": [
    {
     "data": {
      "text/plain": [
       "array([1, 2, 3, 4, 5, 6])"
      ]
     },
     "execution_count": 101,
     "metadata": {},
     "output_type": "execute_result"
    }
   ],
   "source": [
    "z"
   ]
  },
  {
   "cell_type": "code",
   "execution_count": null,
   "id": "47223f47-b3a9-499e-89b0-6e0968cae3c2",
   "metadata": {},
   "outputs": [],
   "source": []
  }
 ],
 "metadata": {
  "kernelspec": {
   "display_name": "Python (myenv)",
   "language": "python",
   "name": "myenv"
  },
  "language_info": {
   "codemirror_mode": {
    "name": "ipython",
    "version": 3
   },
   "file_extension": ".py",
   "mimetype": "text/x-python",
   "name": "python",
   "nbconvert_exporter": "python",
   "pygments_lexer": "ipython3",
   "version": "3.11.7"
  }
 },
 "nbformat": 4,
 "nbformat_minor": 5
}
