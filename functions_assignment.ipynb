{
 "cells": [
  {
   "cell_type": "code",
   "execution_count": 27,
   "id": "317cedc5-bb64-42d2-9291-db4b56bea918",
   "metadata": {},
   "outputs": [
    {
     "name": "stdout",
     "output_type": "stream",
     "text": [
      "name -> Amit\n",
      "age -> 25\n",
      "city -> Delhi\n"
     ]
    }
   ],
   "source": [
    "# 1. Ek function banao jo name le aur \"Hello, <name>!\" return kare.\n",
    "#    Step 1: Function ka naam aur ek parameter define karo.\n",
    "#    Step 2: Return statement ke saath string interpolation use karo.\n",
    "\n",
    "# 2. Ek function likho jo ek number ka square calculate kare.\n",
    "#    Step 1: Ek parameter wala function banao.\n",
    "#    Step 2: Return karo number ka square (number * number).\n",
    "\n",
    "# 3. Ek function likho jo check kare ki number even hai ya odd.\n",
    "#    Step 1: Ek parameter lo function ke liye.\n",
    "#    Step 2: Number % 2 ka use karke even ya odd return karo.\n",
    "\n",
    "# 4. Ek function banao jo list ke numbers ka sum calculate kare.\n",
    "#    Step 1: Function define karo jo list ko accept kare.\n",
    "#    Step 2: sum() function ka use karke total calculate karo aur return karo.\n",
    "\n",
    "# 5. Ek function likho jo ek string ko reverse karke return kare.\n",
    "#    Step 1: Function define karo jo ek string input le.\n",
    "#    Step 2: String slicing use karke reversed string return karo.\n",
    "\n",
    "# def rev():\n",
    "#     txt = input(\"Enter your string : \")\n",
    "#     return txt[::-1]\n",
    "\n",
    "\n",
    "# 6. Ek function likho jo check kare ki string palindrome hai ya nahi.\n",
    "#    Step 1: Function define karo jo ek string input le.\n",
    "#    Step 2: String ko reverse karo aur compare karo original string ke saath.\n",
    "\n",
    "# def checkPalindrome():\n",
    "#     txt = input(\"Enter your string : \")\n",
    "#     print(txt[::-1], txt, txt[::-1] == txt)\n",
    "#     return txt[::-1] == txt \n",
    "    \n",
    "# 7. Ek function banao jo list ke andar largest number return kare.\n",
    "#    Step 1: Function define karo jo ek list input le.\n",
    "#    Step 2: max() function ka use karo aur largest number return karo.\n",
    "\n",
    "# 8. Ek function likho jo ek string ke andar vowels ki counting kare.\n",
    "#    Step 1: Function define karo jo ek string input le.\n",
    "#    Step 2: Har character ko check karo vowels list ke against aur count badhao.\n",
    "\n",
    "# def countVowel():\n",
    "#     txt = input(\"Enter your string : \").lower()\n",
    "#     count = 0\n",
    "#     for char in txt:\n",
    "#         if char in [\"a\",\"e\",\"i\",\"o\",\"u\"]:\n",
    "#             count+=1\n",
    "#     print(count)\n",
    "            \n",
    "        \n",
    "\n",
    "# 9. Ek function likho jo do numbers ka GCD find kare.\n",
    "#    Step 1: Function define karo jo do parameters le.\n",
    "#    Step 2: while loop ka use karke GCD calculate karo.\n",
    "\n",
    "# 10. Ek function banao jo recursion ka use karke factorial calculate kare.\n",
    "#     Step 1: Function define karo jo ek number input le.\n",
    "#     Step 2: Base case define karo (if number == 0, return 1).\n",
    "#     Step 3: Recursively number * factorial(number - 1) return karo.\n",
    "\n",
    "# 11. Ek function likho jo check kare ki number prime hai ya nahi.\n",
    "#     Step 1: Function define karo jo ek number input le.\n",
    "#     Step 2: Loop chalakar divisors check karo (number % i == 0).\n",
    "\n",
    "# 12. Ek function banao jo do dictionaries ko merge kare.\n",
    "#     Step 1: Function define karo jo do dictionaries le.\n",
    "#     Step 2: ** operator ka use karke dictionaries ko merge karo.\n",
    "\n",
    "# 13. Ek function likho jo list ke duplicates remove kare.\n",
    "#     Step 1: Function define karo jo ek list input le.\n",
    "#     Step 2: set() ka use karke unique items return karo.\n",
    "def removeDuplicates(items):\n",
    "    return list(set(items))\n",
    "    \n",
    "\n",
    "# 14. Ek function banao jo ek list ke numbers ko double karke nayi list return kare.\n",
    "#     Step 1: Function define karo jo ek list input le.\n",
    "#     Step 2: List comprehension use karo aur doubled values return karo.\n",
    "\n",
    "def doubleItem(nums):\n",
    "    doubleNums = []\n",
    "    for n in nums:\n",
    "        doubleNums.append(n*2)\n",
    "    return doubleNums\n",
    "\n",
    "# 15. Ek function likho jo Celsius temperature ko Fahrenheit mein convert kare.\n",
    "#     Step 1: Function define karo jo Celsius value le.\n",
    "#     Step 2: Formula (Celsius * 9/5 + 32) ka use karke Fahrenheit return karo.\n",
    "\n",
    "# Ek function define kar rahe hain jo temperature convert karega\n",
    "def tempConverter(temp):\n",
    "    \n",
    "    # User se input le rahe hain ki temperature kis unit me convert karna hai (Celsius ya Fahrenheit)\n",
    "    unit = input(\"Enter the unit to convert 'Celcius' or 'Fahrenheit' : \").lower()\n",
    "    \n",
    "    # Jab tak user valid input (celcius ya fahrenheit) nahi deta, tab tak dubara input lene ka loop chalega\n",
    "    while not unit in [\"celcius\", \"fahrenheit\"]:  \n",
    "        unit = input(\"Enter the unit to convert 'Celcius' or 'Fahrenheit' : \").lower()\n",
    "\n",
    "    # Agar user \"fahrenheit\" choose karega, toh Celsius se Fahrenheit me convert karega\n",
    "    if unit == \"fahrenheit\":\n",
    "        return (temp * 9/5 + 32)  # Formula: (C × 9/5) + 32 = F\n",
    "    \n",
    "    else:  # Agar unit \"celcius\" hai, toh Fahrenheit se Celsius me convert karega\n",
    "        return (temp - 32) * 5/9  # Formula: (F - 32) × 5/9 = C\n",
    "\n",
    "\n",
    "\n",
    "# 16. Ek function banao jo string list ke andar longest string return kare.\n",
    "#     Step 1: Function define karo jo string list le.\n",
    "#     Step 2: max() function ka use karo string length ke basis par.\n",
    "\n",
    "def findMaxLength(strings):\n",
    "    maxi = len(strings[0])\n",
    "    for word in strings:\n",
    "        if len(word) > maxi:\n",
    "            maxi = len(word)\n",
    "    return maxi\n",
    "            \n",
    "        \n",
    "\n",
    "# 17. Ek function likho jo check kare ki year leap year hai ya nahi.\n",
    "#     Step 1: Function define karo jo ek year input le.\n",
    "#     Step 2: if-else conditions ka use karo (year % 4 == 0 aur year % 100 != 0 ya year % 400 == 0).\n",
    "\n",
    "# 18. Ek function banao jo ek dictionary ke sare key-value pairs print kare.\n",
    "#     Step 1: Function define karo jo ek dictionary input le.\n",
    "#     Step 2: Loop chalakar har key aur value print karo.\n",
    "\n",
    "# Ek function define kar rahe hain jo dictionary ke key-value pairs ko print karega\n",
    "def printValues(dic):  \n",
    "    \n",
    "    # Dictionary ke saare key-value pairs ko loop se access karenge\n",
    "    # dic.items() ek list of tuples return karta hai jisme har tuple (key, value) pair hota hai\n",
    "    for k, v in dic.items():  \n",
    "        \n",
    "        # Har key-value pair ko formatted string ke through print karenge\n",
    "        # yahan 'k' key hai aur 'v' uski corresponding value hai\n",
    "        print(f\"{k} -> {v}\")  \n",
    "\n",
    "# Example dictionary\n",
    "dic = {\"name\": \"Amit\", \"age\": 25, \"city\": \"Delhi\"}\n",
    "\n",
    "# Function ko call kar rahe hain taaki dictionary ke saare key-value pairs print ho jayein\n",
    "printValues(dic)\n",
    "\n",
    "# Expected Output:\n",
    "# name -> Amit\n",
    "# age -> 25\n",
    "# city -> Delhi\n",
    "\n",
    "# 19. Ek function likho jo check kare ki do strings anagrams hain ya nahi.\n",
    "#     Step 1: Function define karo jo do strings le.\n",
    "#     Step 2: sorted() function ka use karo dono strings ko compare karne ke liye.\n",
    "\n"
   ]
  },
  {
   "cell_type": "code",
   "execution_count": 29,
   "id": "334bed7c-27e2-4362-a6e7-f0acd42505d4",
   "metadata": {},
   "outputs": [],
   "source": [
    "# 1. Ek function banao jo name le aur \"Hello, <name>!\" return kare.\n",
    "#    Step 1: Function ka naam aur ek parameter define karo.\n",
    "#    Step 2: Return statement ke saath string interpolation use karo.\n",
    "\n",
    "    "
   ]
  },
  {
   "cell_type": "code",
   "execution_count": 3,
   "id": "304bc6fe-44ca-4ce2-8774-4473c91621c3",
   "metadata": {},
   "outputs": [],
   "source": [
    "# printValues( {\n",
    "#     \"name\": \"Amit\",         \n",
    "#     \"age\": 25,              \n",
    "#     \"city\": \"Delhi\",         \n",
    "#     \"profession\": \"Engineer\", \n",
    "#     \"married\": False        \n",
    "# })"
   ]
  },
  {
   "cell_type": "code",
   "execution_count": 9,
   "id": "861d9d76-d26a-402d-bdc5-0865b2634dfb",
   "metadata": {},
   "outputs": [
    {
     "data": {
      "text/plain": [
       "[24, 4668, 90, 112, 134]"
      ]
     },
     "execution_count": 9,
     "metadata": {},
     "output_type": "execute_result"
    }
   ],
   "source": [
    "doubleItem([12,2334,45,56,67])"
   ]
  },
  {
   "cell_type": "code",
   "execution_count": null,
   "id": "bc46e0ba-ab8c-4689-8e58-b99d71493791",
   "metadata": {},
   "outputs": [],
   "source": []
  },
  {
   "cell_type": "code",
   "execution_count": 10,
   "id": "0e644460-ed64-467a-8cf2-fc9d3cff4c13",
   "metadata": {},
   "outputs": [],
   "source": [
    "# def calcSum(nums):\n",
    "#     print(sum(nums))"
   ]
  },
  {
   "cell_type": "code",
   "execution_count": 12,
   "id": "7e657522-7d84-4bc0-9c6f-7fabde5a67c4",
   "metadata": {},
   "outputs": [
    {
     "name": "stdout",
     "output_type": "stream",
     "text": [
      "2514\n"
     ]
    }
   ],
   "source": [
    "calcSum([12,2334,45,56,67])"
   ]
  },
  {
   "cell_type": "code",
   "execution_count": null,
   "id": "d5879cd3-4d95-4d8a-ac76-380edaa910b6",
   "metadata": {},
   "outputs": [],
   "source": []
  },
  {
   "cell_type": "code",
   "execution_count": 15,
   "id": "8d7d77a7-8756-446a-b537-520ebadac0ab",
   "metadata": {},
   "outputs": [],
   "source": [
    "def calcSum(nums):\n",
    "    total = 0\n",
    "    i = 0\n",
    "    while i < len(nums):\n",
    "       total += nums[i])\n",
    "        i+=1"
   ]
  },
  {
   "cell_type": "code",
   "execution_count": 17,
   "id": "971c160d-5936-447f-8edf-d55be011c9b5",
   "metadata": {},
   "outputs": [
    {
     "name": "stdout",
     "output_type": "stream",
     "text": [
      "12\n",
      "2334\n",
      "45\n",
      "56\n",
      "67\n"
     ]
    }
   ],
   "source": [
    "calcSum([12,2334,45,56,67])"
   ]
  },
  {
   "cell_type": "code",
   "execution_count": null,
   "id": "2d4c3e62-df94-4a64-9ec1-eeed23c7656e",
   "metadata": {},
   "outputs": [],
   "source": []
  },
  {
   "cell_type": "code",
   "execution_count": 5,
   "id": "751d7778-4429-410b-aaef-832276846cbd",
   "metadata": {},
   "outputs": [],
   "source": [
    "marks = [12,2334,45,56,67]"
   ]
  },
  {
   "cell_type": "code",
   "execution_count": 7,
   "id": "816fc12b-12f8-4501-b9dc-40d247722809",
   "metadata": {},
   "outputs": [],
   "source": []
  },
  {
   "cell_type": "code",
   "execution_count": 29,
   "id": "771f9999-2454-4529-aad3-31a96f83367f",
   "metadata": {},
   "outputs": [],
   "source": [
    "def findLargest(nums):\n",
    "    largest = marks[0] #12\n",
    "    i = 0\n",
    "    while i < len(nums):\n",
    "        if nums[i] > largest:\n",
    "            largest = nums[i]\n",
    "        i+=1\n",
    "    print(largest)"
   ]
  },
  {
   "cell_type": "code",
   "execution_count": 31,
   "id": "ed2ec1da-8d3b-427b-81be-87767f95c2ed",
   "metadata": {},
   "outputs": [
    {
     "name": "stdout",
     "output_type": "stream",
     "text": [
      "2334\n"
     ]
    }
   ],
   "source": [
    "findLargest(marks)\n"
   ]
  },
  {
   "cell_type": "code",
   "execution_count": 33,
   "id": "65ab03c7-5946-422a-ac21-4461973ea2f1",
   "metadata": {},
   "outputs": [],
   "source": [
    "def findLargest(nums):\n",
    "    largest = marks[0] #12\n",
    "    for m in marks :\n",
    "        if m  > largest:\n",
    "            largest = m\n",
    "    print(largest)"
   ]
  },
  {
   "cell_type": "code",
   "execution_count": 35,
   "id": "315fb884-63e5-4ef0-be54-750a7a32f6d4",
   "metadata": {},
   "outputs": [
    {
     "name": "stdout",
     "output_type": "stream",
     "text": [
      "2334\n"
     ]
    }
   ],
   "source": [
    "findLargest(marks)"
   ]
  },
  {
   "cell_type": "code",
   "execution_count": 39,
   "id": "03824938-fe3b-4dde-911b-555c1fe62941",
   "metadata": {},
   "outputs": [
    {
     "name": "stdin",
     "output_type": "stream",
     "text": [
      "Enter your string :  rphan\n"
     ]
    },
    {
     "data": {
      "text/plain": [
       "'nahpr'"
      ]
     },
     "execution_count": 39,
     "metadata": {},
     "output_type": "execute_result"
    }
   ],
   "source": [
    "\n",
    "rev()"
   ]
  },
  {
   "cell_type": "code",
   "execution_count": null,
   "id": "954264dc-a551-4823-ad8c-411e358656fc",
   "metadata": {},
   "outputs": [],
   "source": []
  },
  {
   "cell_type": "code",
   "execution_count": 48,
   "id": "6fb82683-a0f1-471b-9ac1-fae8320e3d97",
   "metadata": {},
   "outputs": [
    {
     "name": "stdin",
     "output_type": "stream",
     "text": [
      "Enter your string :  racecar\n"
     ]
    },
    {
     "name": "stdout",
     "output_type": "stream",
     "text": [
      "racecar racecar True\n"
     ]
    },
    {
     "data": {
      "text/plain": [
       "True"
      ]
     },
     "execution_count": 48,
     "metadata": {},
     "output_type": "execute_result"
    }
   ],
   "source": [
    "checkPalindrome()"
   ]
  },
  {
   "cell_type": "code",
   "execution_count": 52,
   "id": "06d626b4-caf8-4e8c-8636-317cde0c7299",
   "metadata": {},
   "outputs": [
    {
     "name": "stdin",
     "output_type": "stream",
     "text": [
      "Enter your string :  rohan sharma is a web developer\n"
     ]
    },
    {
     "name": "stdout",
     "output_type": "stream",
     "text": [
      "11\n"
     ]
    }
   ],
   "source": [
    "countVowel()"
   ]
  },
  {
   "cell_type": "code",
   "execution_count": null,
   "id": "92af935f-0ee4-48ea-9ae0-777c906df4c7",
   "metadata": {},
   "outputs": [],
   "source": []
  },
  {
   "cell_type": "code",
   "execution_count": null,
   "id": "652c088c-f38e-4296-9360-23698d54d8b0",
   "metadata": {},
   "outputs": [],
   "source": []
  },
  {
   "cell_type": "code",
   "execution_count": 19,
   "id": "172fe314-0830-4dbe-b425-24be056e0ef7",
   "metadata": {},
   "outputs": [
    {
     "data": {
      "text/plain": [
       "[1, 3, 324, 5, 12, 23]"
      ]
     },
     "execution_count": 19,
     "metadata": {},
     "output_type": "execute_result"
    }
   ],
   "source": [
    "removeDuplicates([12,23,23,12,5,23,1,3,23,23,324,3,1])"
   ]
  },
  {
   "cell_type": "code",
   "execution_count": null,
   "id": "68209205-4297-4ccb-964c-292c1ae81adb",
   "metadata": {},
   "outputs": [],
   "source": []
  },
  {
   "cell_type": "code",
   "execution_count": null,
   "id": "05bc47af-6ae4-458f-b0e4-fb71521c6bef",
   "metadata": {},
   "outputs": [],
   "source": []
  },
  {
   "cell_type": "code",
   "execution_count": 31,
   "id": "d97b13f9-b7bd-4884-a762-2af86e99529c",
   "metadata": {},
   "outputs": [
    {
     "data": {
      "text/plain": [
       "8"
      ]
     },
     "execution_count": 31,
     "metadata": {},
     "output_type": "execute_result"
    }
   ],
   "source": [
    "findMaxLength([\"rohan\",\"Manish\",\"jethalal\"])"
   ]
  },
  {
   "cell_type": "code",
   "execution_count": null,
   "id": "b349aa59-9d84-46c6-b790-f4e9a4173271",
   "metadata": {},
   "outputs": [],
   "source": []
  }
 ],
 "metadata": {
  "kernelspec": {
   "display_name": "Python (myenv)",
   "language": "python",
   "name": "myenv"
  },
  "language_info": {
   "codemirror_mode": {
    "name": "ipython",
    "version": 3
   },
   "file_extension": ".py",
   "mimetype": "text/x-python",
   "name": "python",
   "nbconvert_exporter": "python",
   "pygments_lexer": "ipython3",
   "version": "3.11.7"
  }
 },
 "nbformat": 4,
 "nbformat_minor": 5
}
