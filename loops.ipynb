{
 "cells": [
  {
   "cell_type": "code",
   "execution_count": 1,
   "id": "25719664-1d22-45c0-8337-e208bf439f74",
   "metadata": {},
   "outputs": [
    {
     "name": "stdout",
     "output_type": "stream",
     "text": [
      "hello world 1\n",
      "hello world 2\n",
      "hello world 3\n",
      "hello world 4\n",
      "hello world 5\n",
      "hello world 6\n",
      "hello world 7\n",
      "hello world 8\n",
      "hello world 9\n"
     ]
    }
   ],
   "source": [
    "i = 1\n",
    "while i < 10:\n",
    "    print(\"hello world\" , i)\n",
    "    i+=1 # increment by 1"
   ]
  },
  {
   "cell_type": "code",
   "execution_count": null,
   "id": "08c94282-fab2-4cc6-8209-08b472c7fa00",
   "metadata": {},
   "outputs": [],
   "source": []
  },
  {
   "cell_type": "code",
   "execution_count": 12,
   "id": "1e260fb2-f5ca-48c7-91a8-f4e00e3b643e",
   "metadata": {},
   "outputs": [
    {
     "name": "stdout",
     "output_type": "stream",
     "text": [
      "1\n",
      "2\n",
      "3\n",
      "4\n",
      "5\n",
      "6\n",
      "7\n",
      "8\n",
      "9\n",
      "10\n",
      "11\n",
      "12\n",
      "13\n",
      "14\n",
      "15\n",
      "16\n",
      "17\n",
      "18\n",
      "19\n",
      "20\n",
      "21\n",
      "22\n",
      "23\n",
      "24\n",
      "25\n",
      "26\n",
      "27\n",
      "28\n",
      "29\n",
      "30\n",
      "31\n",
      "32\n",
      "33\n",
      "34\n",
      "35\n",
      "36\n",
      "37\n",
      "38\n",
      "39\n",
      "40\n",
      "41\n",
      "42\n",
      "43\n",
      "44\n",
      "45\n",
      "46\n",
      "47\n",
      "48\n",
      "49\n",
      "50\n",
      "51\n",
      "52\n",
      "53\n",
      "54\n",
      "55\n",
      "56\n",
      "57\n",
      "58\n",
      "59\n",
      "60\n",
      "61\n",
      "62\n",
      "63\n",
      "64\n",
      "65\n",
      "66\n",
      "67\n",
      "68\n",
      "69\n",
      "70\n",
      "71\n",
      "72\n",
      "73\n",
      "74\n",
      "75\n",
      "76\n",
      "77\n",
      "78\n",
      "79\n",
      "80\n",
      "81\n",
      "82\n",
      "83\n",
      "84\n",
      "85\n",
      "86\n",
      "87\n",
      "88\n",
      "89\n",
      "90\n",
      "91\n",
      "92\n",
      "93\n",
      "94\n",
      "95\n",
      "96\n",
      "97\n",
      "98\n",
      "99\n",
      "100\n"
     ]
    }
   ],
   "source": [
    "i = 1 # initialization\n",
    "while i <= 100 : # condition\n",
    "    print(i) # code to be executed\n",
    "    i+=1 # increment\n"
   ]
  },
  {
   "cell_type": "code",
   "execution_count": null,
   "id": "f8ea9c33-2d63-47f4-8eae-a096f66cce86",
   "metadata": {},
   "outputs": [],
   "source": []
  },
  {
   "cell_type": "code",
   "execution_count": 19,
   "id": "afb8f1f1-ad22-4405-8dc9-7ba2a2497058",
   "metadata": {},
   "outputs": [
    {
     "name": "stdout",
     "output_type": "stream",
     "text": [
      "1 Odd\n",
      "2 Even\n",
      "3 Odd\n",
      "4 Even\n",
      "5 Odd\n",
      "6 Even\n",
      "7 Odd\n",
      "8 Even\n",
      "9 Odd\n",
      "10 Even\n",
      "11 Odd\n",
      "12 Even\n",
      "13 Odd\n",
      "14 Even\n",
      "15 Odd\n",
      "16 Even\n",
      "17 Odd\n",
      "18 Even\n",
      "19 Odd\n",
      "20 Even\n",
      "21 Odd\n",
      "22 Even\n",
      "23 Odd\n",
      "24 Even\n",
      "25 Odd\n",
      "26 Even\n",
      "27 Odd\n",
      "28 Even\n",
      "29 Odd\n",
      "30 Even\n",
      "31 Odd\n",
      "32 Even\n",
      "33 Odd\n",
      "34 Even\n",
      "35 Odd\n",
      "36 Even\n",
      "37 Odd\n",
      "38 Even\n",
      "39 Odd\n",
      "40 Even\n",
      "41 Odd\n",
      "42 Even\n",
      "43 Odd\n",
      "44 Even\n",
      "45 Odd\n",
      "46 Even\n",
      "47 Odd\n",
      "48 Even\n",
      "49 Odd\n",
      "50 Even\n",
      "51 Odd\n",
      "52 Even\n",
      "53 Odd\n",
      "54 Even\n",
      "55 Odd\n",
      "56 Even\n",
      "57 Odd\n",
      "58 Even\n",
      "59 Odd\n",
      "60 Even\n",
      "61 Odd\n",
      "62 Even\n",
      "63 Odd\n",
      "64 Even\n",
      "65 Odd\n",
      "66 Even\n",
      "67 Odd\n",
      "68 Even\n",
      "69 Odd\n",
      "70 Even\n",
      "71 Odd\n",
      "72 Even\n",
      "73 Odd\n",
      "74 Even\n",
      "75 Odd\n",
      "76 Even\n",
      "77 Odd\n",
      "78 Even\n",
      "79 Odd\n",
      "80 Even\n",
      "81 Odd\n",
      "82 Even\n",
      "83 Odd\n",
      "84 Even\n",
      "85 Odd\n",
      "86 Even\n",
      "87 Odd\n",
      "88 Even\n",
      "89 Odd\n",
      "90 Even\n",
      "91 Odd\n",
      "92 Even\n",
      "93 Odd\n",
      "94 Even\n",
      "95 Odd\n",
      "96 Even\n",
      "97 Odd\n",
      "98 Even\n",
      "99 Odd\n",
      "100 Even\n"
     ]
    }
   ],
   "source": [
    "i = 1\n",
    "while i <= 100:\n",
    "    if i % 2 == 0:\n",
    "        print(i , \"Even\")\n",
    "    else:\n",
    "        print(i , \"Odd\")\n",
    "    i+=1"
   ]
  },
  {
   "cell_type": "code",
   "execution_count": 27,
   "id": "ce81ecae-7a97-4548-b299-141d1ee83764",
   "metadata": {},
   "outputs": [
    {
     "name": "stdin",
     "output_type": "stream",
     "text": [
      "Enter number :  23\n"
     ]
    },
    {
     "name": "stdout",
     "output_type": "stream",
     "text": [
      "23 x 1 = 23\n",
      "23 x 2 = 46\n",
      "23 x 3 = 69\n",
      "23 x 4 = 92\n",
      "23 x 5 = 115\n",
      "23 x 6 = 138\n",
      "23 x 7 = 161\n",
      "23 x 8 = 184\n",
      "23 x 9 = 207\n",
      "23 x 10 = 230\n"
     ]
    }
   ],
   "source": [
    "num = int(input(\"Enter number : \"))\n",
    "i = 1\n",
    "while i <= 10:\n",
    "    print(f\"{num} x {i} = {num*i}\")\n",
    "    i+=1"
   ]
  },
  {
   "cell_type": "code",
   "execution_count": null,
   "id": "ddadd395-62a0-4165-86f8-2f493addb388",
   "metadata": {},
   "outputs": [],
   "source": []
  },
  {
   "cell_type": "code",
   "execution_count": null,
   "id": "ca1366c4-8500-420f-b64a-ccef88f367f3",
   "metadata": {},
   "outputs": [],
   "source": []
  },
  {
   "cell_type": "code",
   "execution_count": 6,
   "id": "11607b0d-8552-4ebb-91f7-278d2b5a3a59",
   "metadata": {},
   "outputs": [],
   "source": [
    "# list,tuple,set,dict,string,range,..."
   ]
  },
  {
   "cell_type": "code",
   "execution_count": 8,
   "id": "a9d1b666-df44-4a79-a1c7-145b3dde4036",
   "metadata": {},
   "outputs": [
    {
     "name": "stdout",
     "output_type": "stream",
     "text": [
      "h\n",
      "e\n",
      "l\n",
      "l\n",
      "o\n",
      " \n",
      "w\n",
      "o\n",
      "r\n",
      "l\n",
      "d\n"
     ]
    }
   ],
   "source": [
    "for i in \"hello world\":\n",
    "    print(i)"
   ]
  },
  {
   "cell_type": "code",
   "execution_count": 22,
   "id": "32d3356b-7f70-45d9-8df9-34b07557af14",
   "metadata": {},
   "outputs": [],
   "source": [
    "marks = [12,2334,45,56,67 , 34,3,45,34,45,3232,32,323,2323,232]\n",
    "largest = marks[0]"
   ]
  },
  {
   "cell_type": "code",
   "execution_count": 24,
   "id": "ed820244-6de8-42f8-8cd6-391550cb8c5d",
   "metadata": {},
   "outputs": [
    {
     "name": "stdout",
     "output_type": "stream",
     "text": [
      "3232\n"
     ]
    }
   ],
   "source": [
    "for mark in marks:\n",
    "    if mark > largest:\n",
    "        largest = mark\n",
    "print(largest)\n",
    "    "
   ]
  },
  {
   "cell_type": "code",
   "execution_count": 26,
   "id": "3f8a786d-d3cc-48a2-8315-84435db43bd4",
   "metadata": {},
   "outputs": [
    {
     "name": "stdout",
     "output_type": "stream",
     "text": [
      "8817\n"
     ]
    }
   ],
   "source": [
    "sum = 0\n",
    "for m in marks:\n",
    "    sum += m\n",
    "print(sum)"
   ]
  },
  {
   "cell_type": "code",
   "execution_count": null,
   "id": "59f5d6cf-b923-4332-b2b6-d99564ee625a",
   "metadata": {},
   "outputs": [],
   "source": []
  },
  {
   "cell_type": "code",
   "execution_count": null,
   "id": "f2e192d7-46a6-47d5-8acd-b653b24d6131",
   "metadata": {},
   "outputs": [],
   "source": []
  },
  {
   "cell_type": "code",
   "execution_count": null,
   "id": "d186a207-b1bc-4839-9aa3-f5ce900e934e",
   "metadata": {},
   "outputs": [],
   "source": []
  },
  {
   "cell_type": "code",
   "execution_count": 4,
   "id": "d33169f6-c8fb-4c1e-a1ef-a9b5c4f5eb22",
   "metadata": {},
   "outputs": [],
   "source": [
    "fruits = [\"apple\",\"banana\",\"cherry\"]"
   ]
  },
  {
   "cell_type": "code",
   "execution_count": 6,
   "id": "3afad218-a35c-4112-bd7f-c6e6e8aa5699",
   "metadata": {},
   "outputs": [
    {
     "name": "stdout",
     "output_type": "stream",
     "text": [
      "apple\n",
      "banana\n",
      "cherry\n"
     ]
    }
   ],
   "source": [
    "for f in fruits:\n",
    "    print(f)"
   ]
  },
  {
   "cell_type": "code",
   "execution_count": 12,
   "id": "5d92d1d7-ec20-4407-b8c4-ad31f980361d",
   "metadata": {},
   "outputs": [
    {
     "name": "stdout",
     "output_type": "stream",
     "text": [
      "1. apple\n",
      "2. banana\n",
      "3. cherry\n"
     ]
    }
   ],
   "source": [
    "for i,f in enumerate(fruits,start=1):\n",
    "    print(f\"{i}. {f}\")"
   ]
  },
  {
   "cell_type": "code",
   "execution_count": null,
   "id": "8c02cb91-9e82-4eee-a555-c14d4d8d5bc2",
   "metadata": {},
   "outputs": [],
   "source": []
  }
 ],
 "metadata": {
  "kernelspec": {
   "display_name": "Python (myenv)",
   "language": "python",
   "name": "myenv"
  },
  "language_info": {
   "codemirror_mode": {
    "name": "ipython",
    "version": 3
   },
   "file_extension": ".py",
   "mimetype": "text/x-python",
   "name": "python",
   "nbconvert_exporter": "python",
   "pygments_lexer": "ipython3",
   "version": "3.11.7"
  }
 },
 "nbformat": 4,
 "nbformat_minor": 5
}
