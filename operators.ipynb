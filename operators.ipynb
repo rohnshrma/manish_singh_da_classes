{
 "cells": [
  {
   "cell_type": "code",
   "execution_count": 2,
   "id": "b78ab2d8-5cdb-4e3d-90a5-2aabc588ed5e",
   "metadata": {},
   "outputs": [],
   "source": [
    "#arithmetic operators (mathmatical operators)\n",
    "x = 20\n",
    "y = 3"
   ]
  },
  {
   "cell_type": "code",
   "execution_count": 8,
   "id": "7537cf82-678a-446c-8f6e-8cd0436048bf",
   "metadata": {},
   "outputs": [
    {
     "name": "stdout",
     "output_type": "stream",
     "text": [
      "23\n",
      "17\n",
      "60\n",
      "6.666666666666667\n",
      "2\n",
      "8000\n",
      "6\n"
     ]
    }
   ],
   "source": [
    "print(x+y) # sum\n",
    "print(x-y) # difference\n",
    "print(x*y) # product\n",
    "print(x/y) # quotient\n",
    "print(x%y) # remainder\n",
    "print(x**y) # exponent\n",
    "print(x//y) # floor division"
   ]
  },
  {
   "cell_type": "code",
   "execution_count": 53,
   "id": "a8f1899f-7806-43f7-b1da-868d61769f40",
   "metadata": {},
   "outputs": [],
   "source": [
    "# assignment operator\n",
    "z = 120000 # value assignment"
   ]
  },
  {
   "cell_type": "code",
   "execution_count": 55,
   "id": "7a2dc4e3-ac20-441b-b438-ced338a93273",
   "metadata": {},
   "outputs": [],
   "source": [
    "z = z + 2 #increment"
   ]
  },
  {
   "cell_type": "code",
   "execution_count": 57,
   "id": "3847f270-6e2a-4548-9233-f48443a65d20",
   "metadata": {},
   "outputs": [
    {
     "data": {
      "text/plain": [
       "120002"
      ]
     },
     "execution_count": 57,
     "metadata": {},
     "output_type": "execute_result"
    }
   ],
   "source": [
    "z"
   ]
  },
  {
   "cell_type": "code",
   "execution_count": 59,
   "id": "ad3492dc-e72b-42ac-98c9-e26d20b2c548",
   "metadata": {},
   "outputs": [],
   "source": [
    "z+=2 # addition assignment"
   ]
  },
  {
   "cell_type": "code",
   "execution_count": 61,
   "id": "55c25763-e77d-4f6b-bac6-83e10c3a45ab",
   "metadata": {},
   "outputs": [
    {
     "data": {
      "text/plain": [
       "120004"
      ]
     },
     "execution_count": 61,
     "metadata": {},
     "output_type": "execute_result"
    }
   ],
   "source": [
    "\n",
    "z"
   ]
  },
  {
   "cell_type": "code",
   "execution_count": 63,
   "id": "c7f00003-cef6-44d8-b56a-0458de9d8f95",
   "metadata": {},
   "outputs": [],
   "source": [
    "z = z - 5 # decrement"
   ]
  },
  {
   "cell_type": "code",
   "execution_count": 65,
   "id": "b961bde2-b640-43d0-9145-d7db2bc5fd7a",
   "metadata": {},
   "outputs": [
    {
     "data": {
      "text/plain": [
       "119999"
      ]
     },
     "execution_count": 65,
     "metadata": {},
     "output_type": "execute_result"
    }
   ],
   "source": [
    "z"
   ]
  },
  {
   "cell_type": "code",
   "execution_count": 67,
   "id": "ef9a857e-0d09-4a7d-b9b3-f8bf7699b4e1",
   "metadata": {},
   "outputs": [],
   "source": [
    "z -= 3 # minus assignment"
   ]
  },
  {
   "cell_type": "code",
   "execution_count": 69,
   "id": "38cf7e4f-8c5f-4dc4-99ee-88a9b5a252d4",
   "metadata": {},
   "outputs": [
    {
     "name": "stdout",
     "output_type": "stream",
     "text": [
      "359988\n",
      "119996.0\n",
      "2.0\n",
      "0.0\n",
      "0.0\n"
     ]
    }
   ],
   "source": [
    "z *= 3 # multiply assignment\n",
    "print(z)\n",
    "z /= 3 # quotient assignment\n",
    "print(z)\n",
    "z %= 3 # quotient assignment\n",
    "print(z)\n",
    "z //= 3 # floor assignment\n",
    "print(z)\n",
    "z **= 3 # exponent assignment\n",
    "print(z)"
   ]
  },
  {
   "cell_type": "code",
   "execution_count": 50,
   "id": "9e8c3dba-1f58-4c76-8e91-20eff647c6f0",
   "metadata": {},
   "outputs": [
    {
     "data": {
      "text/plain": [
       "0.0"
      ]
     },
     "execution_count": 50,
     "metadata": {},
     "output_type": "execute_result"
    }
   ],
   "source": [
    "z"
   ]
  },
  {
   "cell_type": "code",
   "execution_count": null,
   "id": "a81789fc-c6e4-4e4b-9593-44102381107c",
   "metadata": {},
   "outputs": [],
   "source": []
  },
  {
   "cell_type": "code",
   "execution_count": 71,
   "id": "1713a152-91d6-48af-ace6-c7d9239bbfd6",
   "metadata": {},
   "outputs": [],
   "source": [
    "# comparison operators"
   ]
  },
  {
   "cell_type": "code",
   "execution_count": 75,
   "id": "8ac0eef0-e53d-4e29-a37e-7d10dfa87c24",
   "metadata": {},
   "outputs": [
    {
     "name": "stdout",
     "output_type": "stream",
     "text": [
      "True\n",
      "False\n",
      "False\n",
      "True\n",
      "True\n",
      "False\n"
     ]
    }
   ],
   "source": [
    "print(x > y) # greater than\n",
    "print(x < y) # less than\n",
    "print(x == y) # equals to\n",
    "print(x != y) # not equals\n",
    "print(x >= y) # greater than or equals to\n",
    "print(x <= y) # less than or equals to"
   ]
  },
  {
   "cell_type": "code",
   "execution_count": 79,
   "id": "0e682f8b-e9ef-473c-9d4e-f9e7db5d590b",
   "metadata": {},
   "outputs": [],
   "source": [
    "# logical operators\n",
    "# and | or | not\n"
   ]
  },
  {
   "cell_type": "code",
   "execution_count": 87,
   "id": "c4dd76c4-bd6c-4de1-95ca-ae5bd3f010a2",
   "metadata": {},
   "outputs": [
    {
     "name": "stdout",
     "output_type": "stream",
     "text": [
      "True\n",
      "False\n",
      "False\n"
     ]
    }
   ],
   "source": [
    "print(12 > 10 and 10 < 12) # t and t = t\n",
    "print(12 > 10 and 10 > 12) # t and f = f\n",
    "print(12 < 10 and 10 > 12) # f and f = f"
   ]
  },
  {
   "cell_type": "code",
   "execution_count": 89,
   "id": "b6628b31-a795-4ab2-ad13-0ceff60eeb8a",
   "metadata": {},
   "outputs": [
    {
     "name": "stdout",
     "output_type": "stream",
     "text": [
      "True\n",
      "True\n",
      "False\n"
     ]
    }
   ],
   "source": [
    "print(12 > 10 or 10 < 12) # t or t = t\n",
    "print(12 > 10 or 10 > 12) # t or f = t\n",
    "print(12 < 10 or 10 > 12) # f or f = f"
   ]
  },
  {
   "cell_type": "code",
   "execution_count": 91,
   "id": "46cc4dbd-13cd-4284-81b1-530880d20f6e",
   "metadata": {},
   "outputs": [
    {
     "name": "stdout",
     "output_type": "stream",
     "text": [
      "False\n"
     ]
    }
   ],
   "source": [
    "print(not True)"
   ]
  },
  {
   "cell_type": "code",
   "execution_count": 95,
   "id": "ed959e69-04b3-4131-b21e-b9e2dced2b57",
   "metadata": {},
   "outputs": [
    {
     "name": "stdout",
     "output_type": "stream",
     "text": [
      "False\n"
     ]
    }
   ],
   "source": [
    "\n",
    "print(not 12 > 10)"
   ]
  },
  {
   "cell_type": "code",
   "execution_count": null,
   "id": "17a5c773-80ef-4ca1-b51c-f4580b914c35",
   "metadata": {},
   "outputs": [],
   "source": []
  },
  {
   "cell_type": "code",
   "execution_count": null,
   "id": "789db93b-c4d1-4913-a711-16769dfeebba",
   "metadata": {},
   "outputs": [],
   "source": []
  },
  {
   "cell_type": "code",
   "execution_count": 105,
   "id": "55ba5eb4-64c2-4c87-9a6e-160f4134d97e",
   "metadata": {},
   "outputs": [
    {
     "name": "stdin",
     "output_type": "stream",
     "text": [
      "Enter your email :  rohan11shrma@gmail.com\n"
     ]
    },
    {
     "name": "stdout",
     "output_type": "stream",
     "text": [
      "True\n"
     ]
    }
   ],
   "source": [
    "email = input(\"Enter your email : \").lower()\n",
    "print(len(email) > 8 and \"@\" in email and email.endswith(\".com\"))"
   ]
  },
  {
   "cell_type": "code",
   "execution_count": null,
   "id": "7bf8686e-bacb-47ff-8e9f-db8aa15fb081",
   "metadata": {},
   "outputs": [],
   "source": []
  }
 ],
 "metadata": {
  "kernelspec": {
   "display_name": "Python 3 (ipykernel)",
   "language": "python",
   "name": "python3"
  },
  "language_info": {
   "codemirror_mode": {
    "name": "ipython",
    "version": 3
   },
   "file_extension": ".py",
   "mimetype": "text/x-python",
   "name": "python",
   "nbconvert_exporter": "python",
   "pygments_lexer": "ipython3",
   "version": "3.11.7"
  }
 },
 "nbformat": 4,
 "nbformat_minor": 5
}
