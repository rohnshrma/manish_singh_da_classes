{
 "cells": [
  {
   "cell_type": "code",
   "execution_count": 1,
   "id": "97208527-0a15-45f5-bde1-d5869cd9843d",
   "metadata": {},
   "outputs": [],
   "source": [
    "# if statment\n",
    "\n",
    "\n",
    "# if condition :\n",
    "    # code to be executed if the condition above is true"
   ]
  },
  {
   "cell_type": "code",
   "execution_count": 15,
   "id": "ed12100d-4332-42e0-a66d-92f8b4689e77",
   "metadata": {},
   "outputs": [],
   "source": [
    "if 1 > 10:\n",
    "    print(\"Greater\")"
   ]
  },
  {
   "cell_type": "code",
   "execution_count": 25,
   "id": "88e24f29-d926-4d2f-8801-39b50890c2f6",
   "metadata": {},
   "outputs": [
    {
     "name": "stdout",
     "output_type": "stream",
     "text": [
      "hello world\n"
     ]
    }
   ],
   "source": [
    "if \"rohan \" == \"rohan\":\n",
    "    print(\"Same same\")\n",
    "    print(\"hello world\")\n",
    "print(\"hello world\")"
   ]
  },
  {
   "cell_type": "code",
   "execution_count": 27,
   "id": "3d3d95fc-99e4-452a-9d96-6ba78bafe006",
   "metadata": {},
   "outputs": [],
   "source": [
    "# else : the code inside of the else block runs only if all the conditions above are false"
   ]
  },
  {
   "cell_type": "code",
   "execution_count": null,
   "id": "9d8a37e4-1cee-43ff-b2f3-c24268a2bbb8",
   "metadata": {},
   "outputs": [],
   "source": []
  },
  {
   "cell_type": "code",
   "execution_count": null,
   "id": "4d147348-0b33-409f-a8f6-55f2f054b295",
   "metadata": {},
   "outputs": [],
   "source": []
  },
  {
   "cell_type": "code",
   "execution_count": 35,
   "id": "5d08f779-0069-461d-a2b0-f7dde21fdfc3",
   "metadata": {},
   "outputs": [
    {
     "name": "stdin",
     "output_type": "stream",
     "text": [
      "Enter your age :  23\n"
     ]
    },
    {
     "name": "stdout",
     "output_type": "stream",
     "text": [
      "Eligible as your age is 23\n"
     ]
    }
   ],
   "source": [
    "age = int(input(\"Enter your age : \"))\n",
    "if age >= 18:\n",
    "    print(f\"Eligible as your age is {age}\")\n",
    "else:\n",
    "    print(f\"Not Eligible as your age is {age}\")"
   ]
  },
  {
   "cell_type": "code",
   "execution_count": null,
   "id": "2ecbedde-fb5c-4cda-82d9-b2df91ffd6ff",
   "metadata": {},
   "outputs": [],
   "source": []
  },
  {
   "cell_type": "code",
   "execution_count": null,
   "id": "afa57fdb-723b-43f1-8d2d-ed60ffd6d75e",
   "metadata": {},
   "outputs": [],
   "source": []
  },
  {
   "cell_type": "code",
   "execution_count": 41,
   "id": "d8502e50-73b3-486c-b4ea-dac06b24c2a4",
   "metadata": {},
   "outputs": [
    {
     "name": "stdin",
     "output_type": "stream",
     "text": [
      "Enter the day today (0-6) : 4\n"
     ]
    },
    {
     "name": "stdout",
     "output_type": "stream",
     "text": [
      "Thursday\n"
     ]
    }
   ],
   "source": [
    "today = int(input(\"Enter the day today (0-6) :\"))\n",
    "if today == 0:\n",
    "    print(\"Sunday\")\n",
    "elif today == 1:\n",
    "    print(\"Monday\")\n",
    "elif today == 2:\n",
    "    print(\"Tuesday\")\n",
    "elif today == 3:\n",
    "    print(\"Wednesday\")\n",
    "elif today == 4:\n",
    "    print(\"Thursday\")\n",
    "elif today == 5:\n",
    "    print(\"Friday\")\n",
    "elif today == 6:\n",
    "    print(\"Saturday\")\n",
    "else:\n",
    "    print(\"Invalid Day\")"
   ]
  },
  {
   "cell_type": "code",
   "execution_count": null,
   "id": "3315b3de-e562-4acf-a88e-faf59ddf06fe",
   "metadata": {},
   "outputs": [],
   "source": []
  },
  {
   "cell_type": "code",
   "execution_count": null,
   "id": "08131d31-88f7-4c42-99ae-c9aa905304bc",
   "metadata": {},
   "outputs": [],
   "source": []
  },
  {
   "cell_type": "code",
   "execution_count": null,
   "id": "43b5b3a2-3d41-40cf-b3c3-584b38d5d949",
   "metadata": {},
   "outputs": [],
   "source": []
  },
  {
   "cell_type": "code",
   "execution_count": null,
   "id": "97df92a8-3141-4272-8cf4-f4212616512d",
   "metadata": {},
   "outputs": [],
   "source": []
  },
  {
   "cell_type": "code",
   "execution_count": 13,
   "id": "b9993087-1129-49a5-aaee-f45c2030bb79",
   "metadata": {},
   "outputs": [
    {
     "name": "stdin",
     "output_type": "stream",
     "text": [
      "Enter a number :  34\n"
     ]
    },
    {
     "name": "stdout",
     "output_type": "stream",
     "text": [
      "Positive\n"
     ]
    }
   ],
   "source": [
    "num = int(input(\"Enter a number : \"))\n",
    "if num > 0:\n",
    "    print(\"Positive\")\n",
    "elif num < 0:\n",
    "    print(\"Negative\")\n",
    "else:\n",
    "    print(\"Zero\")"
   ]
  },
  {
   "cell_type": "code",
   "execution_count": null,
   "id": "4d7e20fd-a564-46ca-adbc-953283a4cc03",
   "metadata": {},
   "outputs": [],
   "source": []
  },
  {
   "cell_type": "code",
   "execution_count": 18,
   "id": "922cb3cc-4bdb-41da-ac52-523a6d79fd9d",
   "metadata": {},
   "outputs": [
    {
     "name": "stdin",
     "output_type": "stream",
     "text": [
      "Enter year :  2014\n"
     ]
    },
    {
     "name": "stdout",
     "output_type": "stream",
     "text": [
      "2014 is not a leap year.\n"
     ]
    }
   ],
   "source": [
    "year = int(input(\"Enter year : \"))\n",
    "if (year % 4  == 0 and not year % 100 == 0) or (year % 400 == 0):\n",
    "    print(f\"{year} is a leap year.\" )\n",
    "    \n",
    "else:\n",
    "    print(f\"{year} is not a leap year.\" )"
   ]
  },
  {
   "cell_type": "code",
   "execution_count": null,
   "id": "07b2a791-7406-4eae-8b89-b66b0567e95b",
   "metadata": {},
   "outputs": [],
   "source": []
  },
  {
   "cell_type": "code",
   "execution_count": null,
   "id": "f821ceff-cc6b-48ca-8cb1-c6e3f19b1e7d",
   "metadata": {},
   "outputs": [],
   "source": []
  },
  {
   "cell_type": "code",
   "execution_count": null,
   "id": "538586b1-5a09-4063-aa36-2fead5078f1b",
   "metadata": {},
   "outputs": [],
   "source": [
    "num = int(input(\"Enter a number : \"))\n",
    "if num % 2 == 0:\n",
    "    print(\"Even\")\n",
    "else:\n",
    "    print(\"Odd\")"
   ]
  }
 ],
 "metadata": {
  "kernelspec": {
   "display_name": "Python 3 (ipykernel)",
   "language": "python",
   "name": "python3"
  },
  "language_info": {
   "codemirror_mode": {
    "name": "ipython",
    "version": 3
   },
   "file_extension": ".py",
   "mimetype": "text/x-python",
   "name": "python",
   "nbconvert_exporter": "python",
   "pygments_lexer": "ipython3",
   "version": "3.11.7"
  }
 },
 "nbformat": 4,
 "nbformat_minor": 5
}
