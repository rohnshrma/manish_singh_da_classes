{
 "cells": [
  {
   "cell_type": "markdown",
   "id": "dba905e5-6f5e-4319-ae47-2bac8f4fc211",
   "metadata": {},
   "source": [
    "# Sets\n",
    "#### unordered, unindexed, immutable | unchangable , do not allows duplicates\n",
    "##### {item1, item2, item3 ,...}"
   ]
  },
  {
   "cell_type": "code",
   "execution_count": 3,
   "id": "382e11dc-da65-4881-965c-ff365b5d474c",
   "metadata": {},
   "outputs": [],
   "source": [
    "fruits = {\"Apple\",\"Banana\",\"Cherry\",\"Kiwi\",\"DragonFruit\"}"
   ]
  },
  {
   "cell_type": "code",
   "execution_count": 5,
   "id": "e6a8fb63-e5e0-4689-9341-3926987dbade",
   "metadata": {},
   "outputs": [
    {
     "name": "stdout",
     "output_type": "stream",
     "text": [
      "<class 'set'>\n"
     ]
    }
   ],
   "source": [
    "print(type(fruits))"
   ]
  },
  {
   "cell_type": "code",
   "execution_count": 7,
   "id": "7f348134-d49a-4419-bd17-046d71d563d1",
   "metadata": {},
   "outputs": [
    {
     "name": "stdout",
     "output_type": "stream",
     "text": [
      "5\n"
     ]
    }
   ],
   "source": [
    "print(len(fruits))"
   ]
  },
  {
   "cell_type": "code",
   "execution_count": 9,
   "id": "1077571c-9ada-4fa8-9b9a-2d6a48d87465",
   "metadata": {},
   "outputs": [],
   "source": [
    "marks = [12,23,34,455,12,23,435,123]"
   ]
  },
  {
   "cell_type": "code",
   "execution_count": 11,
   "id": "636bf972-5444-475e-9c5d-f1c7aacce6a9",
   "metadata": {},
   "outputs": [],
   "source": [
    "marks_set = set(marks)"
   ]
  },
  {
   "cell_type": "code",
   "execution_count": 13,
   "id": "bb845cf1-5bba-43b3-a1da-3ffb7fbf09db",
   "metadata": {},
   "outputs": [
    {
     "name": "stdout",
     "output_type": "stream",
     "text": [
      "{34, 455, 12, 435, 23, 123}\n"
     ]
    }
   ],
   "source": [
    "\n",
    "print(marks_set)"
   ]
  },
  {
   "cell_type": "code",
   "execution_count": 15,
   "id": "fb1ffed7-d7fa-490d-b572-002650d3dd3b",
   "metadata": {},
   "outputs": [
    {
     "name": "stdout",
     "output_type": "stream",
     "text": [
      "{'Banana', 'Cherry', 'DragonFruit', 'Apple', 'Kiwi'}\n"
     ]
    }
   ],
   "source": [
    "print(fruits)"
   ]
  },
  {
   "cell_type": "code",
   "execution_count": 17,
   "id": "825d587e-bdff-406d-9eea-3b5dbafcadb3",
   "metadata": {},
   "outputs": [
    {
     "ename": "TypeError",
     "evalue": "'set' object is not subscriptable",
     "output_type": "error",
     "traceback": [
      "\u001b[0;31m---------------------------------------------------------------------------\u001b[0m",
      "\u001b[0;31mTypeError\u001b[0m                                 Traceback (most recent call last)",
      "Cell \u001b[0;32mIn[17], line 1\u001b[0m\n\u001b[0;32m----> 1\u001b[0m \u001b[38;5;28mprint\u001b[39m(fruits[\u001b[38;5;241m2\u001b[39m])\n",
      "\u001b[0;31mTypeError\u001b[0m: 'set' object is not subscriptable"
     ]
    }
   ],
   "source": [
    "print(fruits[2])"
   ]
  },
  {
   "cell_type": "code",
   "execution_count": 21,
   "id": "890309c2-2b39-446f-b289-9e2d35238e4a",
   "metadata": {},
   "outputs": [
    {
     "ename": "TypeError",
     "evalue": "'set' object does not support item assignment",
     "output_type": "error",
     "traceback": [
      "\u001b[0;31m---------------------------------------------------------------------------\u001b[0m",
      "\u001b[0;31mTypeError\u001b[0m                                 Traceback (most recent call last)",
      "Cell \u001b[0;32mIn[21], line 1\u001b[0m\n\u001b[0;32m----> 1\u001b[0m fruits[\u001b[38;5;241m2\u001b[39m] \u001b[38;5;241m=\u001b[39m \u001b[38;5;124m\"\u001b[39m\u001b[38;5;124mhawai\u001b[39m\u001b[38;5;124m\"\u001b[39m\n",
      "\u001b[0;31mTypeError\u001b[0m: 'set' object does not support item assignment"
     ]
    }
   ],
   "source": [
    "fruits[2] = \"hawai\""
   ]
  },
  {
   "cell_type": "code",
   "execution_count": null,
   "id": "b93441c1-5665-4c3e-b169-c20bab466099",
   "metadata": {},
   "outputs": [],
   "source": []
  },
  {
   "cell_type": "code",
   "execution_count": null,
   "id": "49118292-b515-46bd-ae7f-8c72a207c784",
   "metadata": {},
   "outputs": [],
   "source": []
  },
  {
   "cell_type": "code",
   "execution_count": 33,
   "id": "64c6823c-1afc-490f-a9a3-72edad8a6a13",
   "metadata": {},
   "outputs": [],
   "source": [
    "fruits.add(\"apple\")"
   ]
  },
  {
   "cell_type": "code",
   "execution_count": 35,
   "id": "7b2ea7c0-9800-403d-8db1-383bd656190a",
   "metadata": {},
   "outputs": [
    {
     "name": "stdout",
     "output_type": "stream",
     "text": [
      "{'Banana', 'apple', 'Cherry', 'Papaya', 'DragonFruit', 'Apple', 'Kiwi'}\n"
     ]
    }
   ],
   "source": [
    "print(fruits)"
   ]
  },
  {
   "cell_type": "code",
   "execution_count": 37,
   "id": "899ccb31-98a3-4c68-8ea8-9ee487f3d298",
   "metadata": {},
   "outputs": [],
   "source": [
    "fruits.update({12,34,45,5,66,7})"
   ]
  },
  {
   "cell_type": "code",
   "execution_count": 39,
   "id": "dee5f57e-fb9a-4ded-9469-e82e671d58a2",
   "metadata": {},
   "outputs": [
    {
     "data": {
      "text/plain": [
       "{12,\n",
       " 34,\n",
       " 45,\n",
       " 5,\n",
       " 66,\n",
       " 7,\n",
       " 'Apple',\n",
       " 'Banana',\n",
       " 'Cherry',\n",
       " 'DragonFruit',\n",
       " 'Kiwi',\n",
       " 'Papaya',\n",
       " 'apple'}"
      ]
     },
     "execution_count": 39,
     "metadata": {},
     "output_type": "execute_result"
    }
   ],
   "source": [
    "fruits"
   ]
  },
  {
   "cell_type": "code",
   "execution_count": 41,
   "id": "348948e5-86a3-4dce-8de5-c44a7e41e853",
   "metadata": {},
   "outputs": [],
   "source": [
    "fruits.remove(7)"
   ]
  },
  {
   "cell_type": "code",
   "execution_count": 43,
   "id": "43a0a2cc-e2e4-4d4e-bb1b-dd728a86b1ad",
   "metadata": {},
   "outputs": [
    {
     "name": "stdout",
     "output_type": "stream",
     "text": [
      "{66, 'apple', 34, 5, 'Cherry', 'Papaya', 'DragonFruit', 12, 45, 'Banana', 'Apple', 'Kiwi'}\n"
     ]
    }
   ],
   "source": [
    "print(fruits)"
   ]
  },
  {
   "cell_type": "code",
   "execution_count": 45,
   "id": "714aa357-3833-4478-9d28-2eb5e70216c9",
   "metadata": {},
   "outputs": [
    {
     "ename": "KeyError",
     "evalue": "700",
     "output_type": "error",
     "traceback": [
      "\u001b[0;31m---------------------------------------------------------------------------\u001b[0m",
      "\u001b[0;31mKeyError\u001b[0m                                  Traceback (most recent call last)",
      "Cell \u001b[0;32mIn[45], line 1\u001b[0m\n\u001b[0;32m----> 1\u001b[0m fruits\u001b[38;5;241m.\u001b[39mremove(\u001b[38;5;241m700\u001b[39m)\n",
      "\u001b[0;31mKeyError\u001b[0m: 700"
     ]
    }
   ],
   "source": [
    "fruits.remove(700)"
   ]
  },
  {
   "cell_type": "code",
   "execution_count": 47,
   "id": "11fa92fc-59ee-41d7-887d-747013376242",
   "metadata": {},
   "outputs": [],
   "source": [
    "fruits.discard(\"apple\")"
   ]
  },
  {
   "cell_type": "code",
   "execution_count": 50,
   "id": "49f81c59-846f-4f31-9fc9-78c1e23a4abd",
   "metadata": {},
   "outputs": [],
   "source": [
    "fruits.discard(700)"
   ]
  },
  {
   "cell_type": "code",
   "execution_count": 54,
   "id": "fd879998-b284-49b8-a0ff-a472d130f63d",
   "metadata": {},
   "outputs": [
    {
     "data": {
      "text/plain": [
       "34"
      ]
     },
     "execution_count": 54,
     "metadata": {},
     "output_type": "execute_result"
    }
   ],
   "source": [
    "fruits.pop()"
   ]
  },
  {
   "cell_type": "code",
   "execution_count": 56,
   "id": "0eaa0ed8-0dc4-47a9-b494-b25ae7b675ce",
   "metadata": {},
   "outputs": [],
   "source": [
    "f = fruits.copy()"
   ]
  },
  {
   "cell_type": "code",
   "execution_count": 58,
   "id": "7495e9f9-141a-40ff-b7b9-2c334e9ce08c",
   "metadata": {},
   "outputs": [
    {
     "data": {
      "text/plain": [
       "{12, 45, 5, 'Apple', 'Banana', 'Cherry', 'DragonFruit', 'Kiwi', 'Papaya'}"
      ]
     },
     "execution_count": 58,
     "metadata": {},
     "output_type": "execute_result"
    }
   ],
   "source": [
    "f"
   ]
  },
  {
   "cell_type": "code",
   "execution_count": 60,
   "id": "a5762c10-fd5d-4ddb-97aa-292925b465db",
   "metadata": {},
   "outputs": [],
   "source": [
    "f.clear()"
   ]
  },
  {
   "cell_type": "code",
   "execution_count": 63,
   "id": "929ba9d6-dd14-4f3a-83e2-e17f204c4b0e",
   "metadata": {},
   "outputs": [
    {
     "data": {
      "text/plain": [
       "set()"
      ]
     },
     "execution_count": 63,
     "metadata": {},
     "output_type": "execute_result"
    }
   ],
   "source": [
    "f"
   ]
  },
  {
   "cell_type": "code",
   "execution_count": 65,
   "id": "5de5e567-dc70-4727-bf45-d420b93791fa",
   "metadata": {},
   "outputs": [],
   "source": [
    "del f"
   ]
  },
  {
   "cell_type": "code",
   "execution_count": 67,
   "id": "b76fec9d-6546-428a-ae5d-6abd0168ace9",
   "metadata": {},
   "outputs": [
    {
     "ename": "NameError",
     "evalue": "name 'f' is not defined",
     "output_type": "error",
     "traceback": [
      "\u001b[0;31m---------------------------------------------------------------------------\u001b[0m",
      "\u001b[0;31mNameError\u001b[0m                                 Traceback (most recent call last)",
      "Cell \u001b[0;32mIn[67], line 1\u001b[0m\n\u001b[0;32m----> 1\u001b[0m f\n",
      "\u001b[0;31mNameError\u001b[0m: name 'f' is not defined"
     ]
    }
   ],
   "source": [
    "f"
   ]
  },
  {
   "cell_type": "code",
   "execution_count": 69,
   "id": "eaa35f0a-7074-4281-8fae-968ba1efffa1",
   "metadata": {},
   "outputs": [],
   "source": [
    "brands = {\"apple\",\"ikea\",\"banana\",\"motorola\",\"cherry\"}\n",
    "edibles = {\"apple\",\"papaya\",\"banana\",\"dragonfruit\",\"cherry\"}\n"
   ]
  },
  {
   "cell_type": "code",
   "execution_count": 71,
   "id": "e9aa8927-8b00-4a5f-bfe5-38613141b7ab",
   "metadata": {},
   "outputs": [
    {
     "data": {
      "text/plain": [
       "{'apple', 'banana', 'cherry'}"
      ]
     },
     "execution_count": 71,
     "metadata": {},
     "output_type": "execute_result"
    }
   ],
   "source": [
    "brands.intersection(edibles) # return a new set containing common items from both the sets"
   ]
  },
  {
   "cell_type": "code",
   "execution_count": 73,
   "id": "7f9a8c67-2e7a-4e9e-a09f-8a81a84b6972",
   "metadata": {},
   "outputs": [
    {
     "data": {
      "text/plain": [
       "{'ikea', 'motorola'}"
      ]
     },
     "execution_count": 73,
     "metadata": {},
     "output_type": "execute_result"
    }
   ],
   "source": [
    "brands.difference(edibles) # return a new set containing items different in brand set when compared with edibles "
   ]
  },
  {
   "cell_type": "code",
   "execution_count": 75,
   "id": "708bee04-0f2a-43ee-bf04-d5e273a7593e",
   "metadata": {},
   "outputs": [
    {
     "data": {
      "text/plain": [
       "{'dragonfruit', 'ikea', 'motorola', 'papaya'}"
      ]
     },
     "execution_count": 75,
     "metadata": {},
     "output_type": "execute_result"
    }
   ],
   "source": [
    "brands.symmetric_difference(edibles) # return a new set containing different items from both the sets"
   ]
  },
  {
   "cell_type": "code",
   "execution_count": null,
   "id": "c5464987-19cb-4894-8d44-c35da55a84be",
   "metadata": {},
   "outputs": [],
   "source": [
    "brands.intersection_update(edibles) #update value of brand with set containing common items from both the sets"
   ]
  },
  {
   "cell_type": "code",
   "execution_count": null,
   "id": "66862c40-ac5b-41b9-8ea9-f8e635ce2028",
   "metadata": {},
   "outputs": [],
   "source": [
    "brands.difference(edibles) # update brands with set containing items different in brand  when compared with edibles "
   ]
  },
  {
   "cell_type": "code",
   "execution_count": null,
   "id": "0a898299-8880-4c6c-9ee8-07c5326c1ab3",
   "metadata": {},
   "outputs": [],
   "source": [
    "brands.symmetric_difference(edibles) #update brands with set containing different items from both the sets"
   ]
  },
  {
   "cell_type": "code",
   "execution_count": 79,
   "id": "afb0bc06-bcae-46af-9212-53d2d2c56fe2",
   "metadata": {},
   "outputs": [],
   "source": [
    "x = brands.union(edibles)"
   ]
  },
  {
   "cell_type": "code",
   "execution_count": 81,
   "id": "f8626674-5e76-4744-8ef7-2b123a7d3a52",
   "metadata": {},
   "outputs": [
    {
     "data": {
      "text/plain": [
       "{'apple', 'banana', 'cherry', 'dragonfruit', 'ikea', 'motorola', 'papaya'}"
      ]
     },
     "execution_count": 81,
     "metadata": {},
     "output_type": "execute_result"
    }
   ],
   "source": [
    "x"
   ]
  },
  {
   "cell_type": "code",
   "execution_count": 87,
   "id": "643592ef-629a-496c-9c98-c6802a291ff8",
   "metadata": {},
   "outputs": [],
   "source": [
    "a = {1,2,3,4,5}\n",
    "b = {1,2,3,4,5,6,7,8,9,10}"
   ]
  },
  {
   "cell_type": "code",
   "execution_count": 89,
   "id": "2980a197-96d6-4d75-9f2c-a17c7edcd2b6",
   "metadata": {},
   "outputs": [
    {
     "data": {
      "text/plain": [
       "True"
      ]
     },
     "execution_count": 89,
     "metadata": {},
     "output_type": "execute_result"
    }
   ],
   "source": [
    "a.issubset(b)"
   ]
  },
  {
   "cell_type": "code",
   "execution_count": 91,
   "id": "1b825d0b-4129-4f56-b297-7fcba3470f95",
   "metadata": {},
   "outputs": [
    {
     "data": {
      "text/plain": [
       "True"
      ]
     },
     "execution_count": 91,
     "metadata": {},
     "output_type": "execute_result"
    }
   ],
   "source": [
    "b.issuperset(a)"
   ]
  },
  {
   "cell_type": "code",
   "execution_count": 93,
   "id": "2809e849-7534-4bdd-a957-82b5adb49359",
   "metadata": {},
   "outputs": [
    {
     "data": {
      "text/plain": [
       "True"
      ]
     },
     "execution_count": 93,
     "metadata": {},
     "output_type": "execute_result"
    }
   ],
   "source": [
    "{1,2,3,4}.isdisjoint({5,6,7,8})"
   ]
  },
  {
   "cell_type": "code",
   "execution_count": null,
   "id": "00b60cf2-eee1-42c7-ad34-3b222eae7666",
   "metadata": {},
   "outputs": [],
   "source": []
  }
 ],
 "metadata": {
  "kernelspec": {
   "display_name": "Python 3 (ipykernel)",
   "language": "python",
   "name": "python3"
  },
  "language_info": {
   "codemirror_mode": {
    "name": "ipython",
    "version": 3
   },
   "file_extension": ".py",
   "mimetype": "text/x-python",
   "name": "python",
   "nbconvert_exporter": "python",
   "pygments_lexer": "ipython3",
   "version": "3.11.7"
  }
 },
 "nbformat": 4,
 "nbformat_minor": 5
}
