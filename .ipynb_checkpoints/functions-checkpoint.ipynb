{
 "cells": [
  {
   "cell_type": "markdown",
   "id": "2f87e562-2dff-4e1f-88ce-65e0001b024f",
   "metadata": {},
   "source": [
    "# Functions\n",
    "#### functions are used to organise code and make them reusable\n",
    "\n",
    "## How to create a function\n"
   ]
  },
  {
   "cell_type": "code",
   "execution_count": 5,
   "id": "8eae34e5-0328-402e-af81-d4f602680646",
   "metadata": {},
   "outputs": [],
   "source": [
    "# def funcName(parameters):\n",
    "#    code to be executed"
   ]
  },
  {
   "cell_type": "code",
   "execution_count": null,
   "id": "71b7651d-b3f4-42a2-8203-1dc8b54dd64a",
   "metadata": {},
   "outputs": [],
   "source": [
    "\t\n",
    "# BMI Categories:\n",
    "# Underweight = <18.5\n",
    "# Normal weight = 18.5–24.9\n",
    "# Overweight = 25–29.9\n",
    "# Obesity = BMI of 30 or greater"
   ]
  },
  {
   "cell_type": "code",
   "execution_count": 25,
   "id": "30287189-6bd8-4cfe-bb6c-23188a115425",
   "metadata": {},
   "outputs": [],
   "source": [
    "\n",
    "# def calcBmi():\n",
    "#     height = float(input(\"Enter your height(meters): \"))\n",
    "#     weight = int(input(\"Enter your weight(kilograms) : \"))\n",
    "#     bmi = weight / height ** 2\n",
    "#     if bmi < 18.5:\n",
    "#         print(f\"You're 'Underweigth' as your bmi is {bmi}\")\n",
    "#     elif bmi >= 18.5 and bmi <= 24.9:\n",
    "#         print(f\"You're of 'Normal weigth' as your bmi is {bmi}\")\n",
    "#     elif bmi >= 25 and bmi <= 29.9:\n",
    "#         print(f\"You're of 'Overweigth' as your bmi is {bmi}\")\n",
    "#     else:\n",
    "#         print(f\"You're 'Obesse' as your bmi is {bmi}\")"
   ]
  },
  {
   "cell_type": "code",
   "execution_count": 23,
   "id": "3dc227e9-6b49-4697-a38d-6519d15ab314",
   "metadata": {},
   "outputs": [
    {
     "name": "stdin",
     "output_type": "stream",
     "text": [
      "Enter your height(meters):  80\n",
      "Enter your weight(kilograms) :  100\n"
     ]
    },
    {
     "name": "stdout",
     "output_type": "stream",
     "text": [
      "You're 'Underweigth' as your bmi is 0.015625\n"
     ]
    },
    {
     "name": "stdin",
     "output_type": "stream",
     "text": [
      "Enter your height(meters):  1.80\n",
      "Enter your weight(kilograms) :  110\n"
     ]
    },
    {
     "name": "stdout",
     "output_type": "stream",
     "text": [
      "You're 'Obesse' as your bmi is 33.95061728395061\n"
     ]
    },
    {
     "name": "stdin",
     "output_type": "stream",
     "text": [
      "Enter your height(meters):  1.90\n",
      "Enter your weight(kilograms) :  100\n"
     ]
    },
    {
     "name": "stdout",
     "output_type": "stream",
     "text": [
      "You're of 'Overweigth' as your bmi is 27.70083102493075\n"
     ]
    },
    {
     "name": "stdin",
     "output_type": "stream",
     "text": [
      "Enter your height(meters):  1.54\n",
      "Enter your weight(kilograms) :  65\n"
     ]
    },
    {
     "name": "stdout",
     "output_type": "stream",
     "text": [
      "You're of 'Overweigth' as your bmi is 27.40765727778715\n"
     ]
    },
    {
     "name": "stdin",
     "output_type": "stream",
     "text": [
      "Enter your height(meters):  1.90\n",
      "Enter your weight(kilograms) :  90\n"
     ]
    },
    {
     "name": "stdout",
     "output_type": "stream",
     "text": [
      "You're 'Obesse' as your bmi is 24.930747922437675\n"
     ]
    }
   ],
   "source": [
    "calcBmi()\n",
    "calcBmi()\n",
    "calcBmi()\n",
    "calcBmi()\n",
    "calcBmi()"
   ]
  },
  {
   "cell_type": "code",
   "execution_count": null,
   "id": "322eb3c4-89ca-490c-93c2-88d2e5512b83",
   "metadata": {},
   "outputs": [],
   "source": []
  },
  {
   "cell_type": "code",
   "execution_count": null,
   "id": "c7967fa3-0acc-401b-8fb0-951e35b097d6",
   "metadata": {},
   "outputs": [],
   "source": []
  },
  {
   "cell_type": "code",
   "execution_count": 33,
   "id": "4abe7648-d712-476c-bcb4-d3cc965e8e42",
   "metadata": {},
   "outputs": [],
   "source": [
    "# def addition():\n",
    "#     x = int(input(\"Enter value of num 1 :\"))\n",
    "#     y = int(input(\"Enter value of num 2 :\"))\n",
    "#     print(x+y)\n",
    "\n",
    "def addition(x,y):\n",
    "    print(x+y)"
   ]
  },
  {
   "cell_type": "code",
   "execution_count": 37,
   "id": "06b5d56e-e85c-41dc-9655-ef0a4e80f2e3",
   "metadata": {},
   "outputs": [
    {
     "name": "stdout",
     "output_type": "stream",
     "text": [
      "46\n",
      "90\n",
      "112\n"
     ]
    }
   ],
   "source": [
    "addition(12,34)\n",
    "addition(34,56)\n",
    "addition(34,78)"
   ]
  },
  {
   "cell_type": "code",
   "execution_count": 39,
   "id": "3eeb0477-dbe9-4100-897a-804e5fad502c",
   "metadata": {},
   "outputs": [],
   "source": [
    "\n",
    "def calcBmi(weight,height):\n",
    "    bmi = weight / height ** 2\n",
    "    if bmi < 18.5:\n",
    "        print(f\"You're 'Underweigth' as your bmi is {bmi}\")\n",
    "    elif bmi >= 18.5 and bmi <= 24.9:\n",
    "        print(f\"You're of 'Normal weigth' as your bmi is {bmi}\")\n",
    "    elif bmi >= 25 and bmi <= 29.9:\n",
    "        print(f\"You're of 'Overweigth' as your bmi is {bmi}\")\n",
    "    else:\n",
    "        print(f\"You're 'Obesse' as your bmi is {bmi}\")"
   ]
  },
  {
   "cell_type": "code",
   "execution_count": 41,
   "id": "e560c7d8-fd52-40a2-8c34-3735c4db4cde",
   "metadata": {},
   "outputs": [
    {
     "name": "stdout",
     "output_type": "stream",
     "text": [
      "You're 'Obesse' as your bmi is 30.864197530864196\n"
     ]
    }
   ],
   "source": [
    "calcBmi(100,1.80)"
   ]
  },
  {
   "cell_type": "code",
   "execution_count": null,
   "id": "6e252388-2456-46b7-8ebe-b9327af20ece",
   "metadata": {},
   "outputs": [],
   "source": []
  },
  {
   "cell_type": "code",
   "execution_count": 44,
   "id": "5a7f358e-776c-4cba-b70e-20d0109a7245",
   "metadata": {},
   "outputs": [],
   "source": [
    "def calSq(n):\n",
    "    print(n**2)"
   ]
  },
  {
   "cell_type": "code",
   "execution_count": 46,
   "id": "09120de9-a073-46aa-a90e-cca06fba6b94",
   "metadata": {},
   "outputs": [
    {
     "name": "stdout",
     "output_type": "stream",
     "text": [
      "144\n"
     ]
    }
   ],
   "source": [
    "calSq(12)"
   ]
  },
  {
   "cell_type": "code",
   "execution_count": 48,
   "id": "74f0866b-2fe9-42c7-8977-ad491e7cbf2b",
   "metadata": {},
   "outputs": [
    {
     "name": "stdout",
     "output_type": "stream",
     "text": [
      "529\n"
     ]
    }
   ],
   "source": [
    "calSq(23)"
   ]
  },
  {
   "cell_type": "code",
   "execution_count": null,
   "id": "5a198fba-2162-4a8e-a21f-957de5591168",
   "metadata": {},
   "outputs": [],
   "source": []
  },
  {
   "cell_type": "markdown",
   "id": "6f8b9ba1-3f10-4ee6-99a3-fd003282e1ae",
   "metadata": {},
   "source": [
    "## Non Fixed Iteration"
   ]
  },
  {
   "cell_type": "code",
   "execution_count": 52,
   "id": "1b12505a-34ec-4ae9-88e0-626ace69cadb",
   "metadata": {},
   "outputs": [
    {
     "name": "stdin",
     "output_type": "stream",
     "text": [
      "Enter your email :  hrsvsv\n",
      "Enter your email :  snsjvn\n",
      "Enter your email :  svjsvbs\n",
      "Enter your email :  svsvs\n",
      "Enter your email :  helloworld@gmail.com\n"
     ]
    }
   ],
   "source": [
    "# correct_email = \"helloworld@gmail.com\"\n",
    "# ask_email = input(\"Enter your email : \")\n",
    "# while not ask_email == correct_email:\n",
    "#     ask_email = input(\"Enter your email : \")"
   ]
  },
  {
   "cell_type": "code",
   "execution_count": 54,
   "id": "b14bcf86-6d6b-488e-9573-798063cdc75a",
   "metadata": {},
   "outputs": [],
   "source": [
    "# create a function which takes age of a person as paramter, and ask for age again till the entered age in not 18 or greater"
   ]
  },
  {
   "cell_type": "code",
   "execution_count": 56,
   "id": "da7df029-68f2-4bfa-8101-5a45e858bd16",
   "metadata": {},
   "outputs": [],
   "source": [
    "def checkAge(age):\n",
    "    while age < 18:\n",
    "        age = int(input(\"Not Eligible\\nEnter correct age : \"))\n",
    "    print(\"Eligible\")"
   ]
  },
  {
   "cell_type": "code",
   "execution_count": 58,
   "id": "b36307f6-0838-4281-aa20-b2affeef600c",
   "metadata": {},
   "outputs": [
    {
     "name": "stdin",
     "output_type": "stream",
     "text": [
      "Not Eligible\n",
      "Enter correct age :  13\n",
      "Not Eligible\n",
      "Enter correct age :  23\n"
     ]
    },
    {
     "name": "stdout",
     "output_type": "stream",
     "text": [
      "Eligible\n"
     ]
    }
   ],
   "source": [
    "checkAge(12)"
   ]
  },
  {
   "cell_type": "code",
   "execution_count": null,
   "id": "9c7e0c2d-c649-4027-a289-97176b8291b5",
   "metadata": {},
   "outputs": [],
   "source": []
  }
 ],
 "metadata": {
  "kernelspec": {
   "display_name": "Python (myenv)",
   "language": "python",
   "name": "myenv"
  },
  "language_info": {
   "codemirror_mode": {
    "name": "ipython",
    "version": 3
   },
   "file_extension": ".py",
   "mimetype": "text/x-python",
   "name": "python",
   "nbconvert_exporter": "python",
   "pygments_lexer": "ipython3",
   "version": "3.11.7"
  }
 },
 "nbformat": 4,
 "nbformat_minor": 5
}
