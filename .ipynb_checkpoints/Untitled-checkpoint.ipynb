{
 "cells": [
  {
   "cell_type": "code",
   "execution_count": 1,
   "id": "c65efa8c-5671-49b7-87cd-57f2feb2cf00",
   "metadata": {},
   "outputs": [],
   "source": [
    "# Dictionary :\n",
    "#### {\"key\" : \"value\" , ...}\n",
    "#### Ordered , unindexed, changable | mutable , do not allows duplicates"
   ]
  },
  {
   "cell_type": "code",
   "execution_count": null,
   "id": "b7abac21-ade4-4efe-b122-49a7e8fd3700",
   "metadata": {},
   "outputs": [],
   "source": [
    "i10 = {\n",
    "    \"Brand\" :\"Hyundai\",\n",
    "    \"Model\" : \"i10\",\n",
    "    \"Year\" : 2020\n",
    "}"
   ]
  }
 ],
 "metadata": {
  "kernelspec": {
   "display_name": "Python 3 (ipykernel)",
   "language": "python",
   "name": "python3"
  },
  "language_info": {
   "codemirror_mode": {
    "name": "ipython",
    "version": 3
   },
   "file_extension": ".py",
   "mimetype": "text/x-python",
   "name": "python",
   "nbconvert_exporter": "python",
   "pygments_lexer": "ipython3",
   "version": "3.11.7"
  }
 },
 "nbformat": 4,
 "nbformat_minor": 5
}
