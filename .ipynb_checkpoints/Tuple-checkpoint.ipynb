{
 "cells": [
  {
   "cell_type": "markdown",
   "id": "33745ac0-4435-4d7e-bb29-f5aaf1050f4e",
   "metadata": {},
   "source": [
    "# tuple\n",
    "\n",
    "### ordered, indexed, unchangable | immutable, and allows duplicates \n",
    "\n",
    "#### (item,item2,item3,...)\n"
   ]
  },
  {
   "cell_type": "code",
   "execution_count": 5,
   "id": "55e1b3e2-acc0-48ee-af73-9dc6668d61e8",
   "metadata": {},
   "outputs": [],
   "source": [
    "fruits = \"apple\",\"banana\",\"cherry\""
   ]
  },
  {
   "cell_type": "code",
   "execution_count": 7,
   "id": "0826cf71-85c3-4b29-b34d-fc9698cbc5b8",
   "metadata": {},
   "outputs": [
    {
     "name": "stdout",
     "output_type": "stream",
     "text": [
      "<class 'tuple'>\n"
     ]
    }
   ],
   "source": [
    "print(type(fruits))"
   ]
  },
  {
   "cell_type": "code",
   "execution_count": 11,
   "id": "a99f5894-6869-4460-a921-cf05b0a7ad51",
   "metadata": {},
   "outputs": [
    {
     "name": "stdout",
     "output_type": "stream",
     "text": [
      "<class 'tuple'>\n"
     ]
    }
   ],
   "source": [
    "all_fruits = (\"apple\",\"banana\",\"cherry\")\n",
    "print(type(all_fruits))"
   ]
  },
  {
   "cell_type": "code",
   "execution_count": null,
   "id": "a4125800-ecc1-4cbd-8642-ac326d84a584",
   "metadata": {},
   "outputs": [],
   "source": []
  },
  {
   "cell_type": "code",
   "execution_count": 22,
   "id": "a6dc0ab2-b5ea-44dc-ad18-c6adcedca9b2",
   "metadata": {},
   "outputs": [],
   "source": [
    "names = \"john\","
   ]
  },
  {
   "cell_type": "code",
   "execution_count": 24,
   "id": "dd9971ca-42de-4818-a10a-6c4f0681f020",
   "metadata": {},
   "outputs": [
    {
     "name": "stdout",
     "output_type": "stream",
     "text": [
      "<class 'tuple'>\n"
     ]
    }
   ],
   "source": [
    "print(type(names))"
   ]
  },
  {
   "cell_type": "code",
   "execution_count": null,
   "id": "431063b8-eede-4848-b464-d7e0b382cba4",
   "metadata": {},
   "outputs": [],
   "source": []
  },
  {
   "cell_type": "code",
   "execution_count": 27,
   "id": "e37896ce-3ac2-46db-8956-3974682851b2",
   "metadata": {},
   "outputs": [
    {
     "name": "stdout",
     "output_type": "stream",
     "text": [
      "('apple', 'banana', 'cherry')\n"
     ]
    }
   ],
   "source": [
    "print(fruits)"
   ]
  },
  {
   "cell_type": "code",
   "execution_count": 29,
   "id": "e74a57e9-1bf5-4607-8628-5305058456d8",
   "metadata": {},
   "outputs": [
    {
     "name": "stdout",
     "output_type": "stream",
     "text": [
      "banana\n"
     ]
    }
   ],
   "source": [
    "print(fruits[1])"
   ]
  },
  {
   "cell_type": "code",
   "execution_count": null,
   "id": "0b5242cf-4cb0-4cf3-8d09-67d9a53c1ddb",
   "metadata": {},
   "outputs": [],
   "source": []
  },
  {
   "cell_type": "code",
   "execution_count": 32,
   "id": "3ceebc44-eb44-400e-b49c-824e4887f867",
   "metadata": {},
   "outputs": [
    {
     "ename": "TypeError",
     "evalue": "'tuple' object does not support item assignment",
     "output_type": "error",
     "traceback": [
      "\u001b[0;31m---------------------------------------------------------------------------\u001b[0m",
      "\u001b[0;31mTypeError\u001b[0m                                 Traceback (most recent call last)",
      "Cell \u001b[0;32mIn[32], line 1\u001b[0m\n\u001b[0;32m----> 1\u001b[0m fruits[\u001b[38;5;241m1\u001b[39m] \u001b[38;5;241m=\u001b[39m \u001b[38;5;124m\"\u001b[39m\u001b[38;5;124mbye bye\u001b[39m\u001b[38;5;124m\"\u001b[39m\n",
      "\u001b[0;31mTypeError\u001b[0m: 'tuple' object does not support item assignment"
     ]
    }
   ],
   "source": [
    "fruits[1] = \"bye bye\""
   ]
  },
  {
   "cell_type": "code",
   "execution_count": null,
   "id": "37ec53e9-fa6f-4095-a052-2b775fdebc7c",
   "metadata": {},
   "outputs": [],
   "source": []
  },
  {
   "cell_type": "code",
   "execution_count": 35,
   "id": "60cdec04-0406-41d8-ba37-e468bc064daa",
   "metadata": {},
   "outputs": [],
   "source": [
    "marks = (1,2,3,4,5,5,5,5,5)"
   ]
  },
  {
   "cell_type": "code",
   "execution_count": 37,
   "id": "0c070c09-16c3-492c-9783-e7282f19e07d",
   "metadata": {},
   "outputs": [
    {
     "name": "stdout",
     "output_type": "stream",
     "text": [
      "(1, 2, 3, 4, 5, 5, 5, 5, 5)\n"
     ]
    }
   ],
   "source": [
    "print(marks)"
   ]
  },
  {
   "cell_type": "code",
   "execution_count": null,
   "id": "39dcab05-4cab-448d-af54-dd1982f9eb5c",
   "metadata": {},
   "outputs": [],
   "source": []
  },
  {
   "cell_type": "code",
   "execution_count": null,
   "id": "8c487a50-4d74-4cfc-91f6-4296af1f854e",
   "metadata": {},
   "outputs": [],
   "source": []
  },
  {
   "cell_type": "code",
   "execution_count": 41,
   "id": "14b6a3f6-e078-4baa-bd14-b619d4d1d02c",
   "metadata": {},
   "outputs": [
    {
     "data": {
      "text/plain": [
       "5"
      ]
     },
     "execution_count": 41,
     "metadata": {},
     "output_type": "execute_result"
    }
   ],
   "source": [
    "#return number of occurances\n",
    "marks.count(5)"
   ]
  },
  {
   "cell_type": "code",
   "execution_count": null,
   "id": "5e741c90-ec3a-4aa1-8db7-0b7b4d751c44",
   "metadata": {},
   "outputs": [],
   "source": []
  },
  {
   "cell_type": "code",
   "execution_count": 46,
   "id": "a6380f1e-7d0e-4c9b-8a0f-bdfe4755070a",
   "metadata": {},
   "outputs": [
    {
     "data": {
      "text/plain": [
       "4"
      ]
     },
     "execution_count": 46,
     "metadata": {},
     "output_type": "execute_result"
    }
   ],
   "source": [
    "# return index of first occurance \n",
    "marks.index(5) # search item , start position (inclusive)"
   ]
  },
  {
   "cell_type": "code",
   "execution_count": 48,
   "id": "e55b6bf3-f577-448f-b549-5099660ee825",
   "metadata": {},
   "outputs": [
    {
     "data": {
      "text/plain": [
       "5"
      ]
     },
     "execution_count": 48,
     "metadata": {},
     "output_type": "execute_result"
    }
   ],
   "source": [
    "marks.index(5 ,5) # search item , start position (inclusive)"
   ]
  },
  {
   "cell_type": "code",
   "execution_count": 50,
   "id": "0cfa9633-10b6-46fe-9418-2e6ced73dd15",
   "metadata": {},
   "outputs": [],
   "source": [
    "#tuple unpacking | destructuring"
   ]
  },
  {
   "cell_type": "code",
   "execution_count": 52,
   "id": "211c7382-478d-4aa4-ace2-ba7f9af8cb61",
   "metadata": {},
   "outputs": [],
   "source": [
    "app , bana , cher = fruits"
   ]
  },
  {
   "cell_type": "code",
   "execution_count": 54,
   "id": "94ed9197-9fa5-481e-ac4f-3a779563ad3e",
   "metadata": {},
   "outputs": [
    {
     "data": {
      "text/plain": [
       "'apple'"
      ]
     },
     "execution_count": 54,
     "metadata": {},
     "output_type": "execute_result"
    }
   ],
   "source": [
    "app"
   ]
  },
  {
   "cell_type": "code",
   "execution_count": 56,
   "id": "aee5f3a4-7010-4569-bf45-9f643995d663",
   "metadata": {},
   "outputs": [
    {
     "data": {
      "text/plain": [
       "'banana'"
      ]
     },
     "execution_count": 56,
     "metadata": {},
     "output_type": "execute_result"
    }
   ],
   "source": [
    "bana"
   ]
  },
  {
   "cell_type": "code",
   "execution_count": 58,
   "id": "5c531b8f-ab4a-4cf0-8658-8c8628c19a8f",
   "metadata": {},
   "outputs": [
    {
     "data": {
      "text/plain": [
       "'cherry'"
      ]
     },
     "execution_count": 58,
     "metadata": {},
     "output_type": "execute_result"
    }
   ],
   "source": [
    "cher"
   ]
  },
  {
   "cell_type": "code",
   "execution_count": null,
   "id": "e98f48fa-1af0-4711-bb05-029a6261d3fe",
   "metadata": {},
   "outputs": [],
   "source": []
  },
  {
   "cell_type": "code",
   "execution_count": 61,
   "id": "1d3d787e-d8cc-47a8-b0bd-4a407ee92c3a",
   "metadata": {},
   "outputs": [
    {
     "ename": "ValueError",
     "evalue": "too many values to unpack (expected 2)",
     "output_type": "error",
     "traceback": [
      "\u001b[0;31m---------------------------------------------------------------------------\u001b[0m",
      "\u001b[0;31mValueError\u001b[0m                                Traceback (most recent call last)",
      "Cell \u001b[0;32mIn[61], line 1\u001b[0m\n\u001b[0;32m----> 1\u001b[0m x,y \u001b[38;5;241m=\u001b[39m fruits\n",
      "\u001b[0;31mValueError\u001b[0m: too many values to unpack (expected 2)"
     ]
    }
   ],
   "source": [
    "x,y = fruits"
   ]
  },
  {
   "cell_type": "code",
   "execution_count": null,
   "id": "d8519b31-3c4e-455d-8c0f-83f70717f0b1",
   "metadata": {},
   "outputs": [],
   "source": []
  },
  {
   "cell_type": "code",
   "execution_count": 69,
   "id": "843b8120-c929-4dbc-b501-2cbdbf024767",
   "metadata": {},
   "outputs": [],
   "source": [
    "*x,y = fruits"
   ]
  },
  {
   "cell_type": "code",
   "execution_count": 71,
   "id": "8f317663-f965-4577-985b-a800f9465af5",
   "metadata": {},
   "outputs": [
    {
     "data": {
      "text/plain": [
       "['apple', 'banana']"
      ]
     },
     "execution_count": 71,
     "metadata": {},
     "output_type": "execute_result"
    }
   ],
   "source": [
    "x"
   ]
  },
  {
   "cell_type": "code",
   "execution_count": 73,
   "id": "9a97440f-f704-43d5-90a5-04b31600b924",
   "metadata": {},
   "outputs": [
    {
     "data": {
      "text/plain": [
       "'cherry'"
      ]
     },
     "execution_count": 73,
     "metadata": {},
     "output_type": "execute_result"
    }
   ],
   "source": [
    "y"
   ]
  },
  {
   "cell_type": "code",
   "execution_count": null,
   "id": "2f841d16-3153-48a6-b898-068c105ea875",
   "metadata": {},
   "outputs": [],
   "source": [
    "[\"item1\", \"item2\", \"item3\"] #list\n",
    "{\"item1\", \"item2\", \"item3\"} #Set\n",
    "{\"item1\" : \"apple\", \"item2\" : \"banana\", \"item3\" : \"cherry\"} #Dictionary\n",
    "(\"item1\" , \"item2\", \"item3\")  ,   \"item1\" , \"item2\", \"item3\" #Tuple"
   ]
  }
 ],
 "metadata": {
  "kernelspec": {
   "display_name": "Python (myenv)",
   "language": "python",
   "name": "myenv"
  },
  "language_info": {
   "codemirror_mode": {
    "name": "ipython",
    "version": 3
   },
   "file_extension": ".py",
   "mimetype": "text/x-python",
   "name": "python",
   "nbconvert_exporter": "python",
   "pygments_lexer": "ipython3",
   "version": "3.11.7"
  }
 },
 "nbformat": 4,
 "nbformat_minor": 5
}
