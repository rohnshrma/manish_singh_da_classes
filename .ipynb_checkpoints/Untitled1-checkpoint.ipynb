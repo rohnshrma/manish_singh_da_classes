{
 "cells": [
  {
   "cell_type": "code",
   "execution_count": 1,
   "id": "9eaa9447-18a1-4dfd-b4f3-d6afdfba4055",
   "metadata": {},
   "outputs": [],
   "source": [
    "## Task 3:\n",
    "# Check if a given number (x) is a multiple of 4.\n",
    "# x = 16  # Example value\n"
   ]
  },
  {
   "cell_type": "code",
   "execution_count": 5,
   "id": "d2c216d4-3f4a-4256-9ebf-835d732ac2f2",
   "metadata": {},
   "outputs": [
    {
     "name": "stdin",
     "output_type": "stream",
     "text": [
      "Enter a number :  12\n"
     ]
    },
    {
     "name": "stdout",
     "output_type": "stream",
     "text": [
      "Divisible\n"
     ]
    }
   ],
   "source": [
    "num = int(input(\"Enter a number : \"))\n",
    "if num % 4 == 0:\n",
    "    print(\"Divisible\")\n",
    "else:\n",
    "    print(\"Not Divisible\")"
   ]
  },
  {
   "cell_type": "code",
   "execution_count": null,
   "id": "33cafec7-5a04-46f7-8fad-ca3c23ffc852",
   "metadata": {},
   "outputs": [],
   "source": []
  },
  {
   "cell_type": "code",
   "execution_count": null,
   "id": "12e03798-80bb-4639-8e13-100f60562be4",
   "metadata": {},
   "outputs": [],
   "source": [
    "age = int(input(\"Enter a number : \"))\n",
    "if age >= 60:\n",
    "    print(\"Senior citizen\")\n",
    "elif age >= 20 and age <= 59:\n",
    "    print(\"Adult\")\n",
    "elif age >= 13 and age <= 19:\n",
    "    print(\"Teenager\")\n",
    "elif age >= 0 and age <= 12:\n",
    "    print(\"Chile\")\n",
    "else:\n",
    "    print(\"Invalid age)"
   ]
  }
 ],
 "metadata": {
  "kernelspec": {
   "display_name": "Python (myenv)",
   "language": "python",
   "name": "myenv"
  },
  "language_info": {
   "codemirror_mode": {
    "name": "ipython",
    "version": 3
   },
   "file_extension": ".py",
   "mimetype": "text/x-python",
   "name": "python",
   "nbconvert_exporter": "python",
   "pygments_lexer": "ipython3",
   "version": "3.11.7"
  }
 },
 "nbformat": 4,
 "nbformat_minor": 5
}
