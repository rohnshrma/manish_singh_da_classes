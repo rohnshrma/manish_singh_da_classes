{
 "cells": [
  {
   "cell_type": "code",
   "execution_count": 1,
   "id": "c8759e3a-3581-4314-8453-7fb4a846fa80",
   "metadata": {},
   "outputs": [],
   "source": [
    "# def funcName(parameters,...):\n",
    "    # code to be executed"
   ]
  },
  {
   "cell_type": "code",
   "execution_count": null,
   "id": "1aef7f04-3f46-4295-9bab-56a3c94302e7",
   "metadata": {},
   "outputs": [],
   "source": [
    "#default parameter"
   ]
  },
  {
   "cell_type": "code",
   "execution_count": 4,
   "id": "df9e3ea3-f2a4-445d-b4e9-b14a85beec1e",
   "metadata": {},
   "outputs": [],
   "source": [
    "def printName(name=\"user\"):\n",
    "    print(\"hello\",name)"
   ]
  },
  {
   "cell_type": "code",
   "execution_count": 8,
   "id": "d0ba6930-2685-427f-8fe6-f6d48df11790",
   "metadata": {},
   "outputs": [
    {
     "name": "stdout",
     "output_type": "stream",
     "text": [
      "hello Manish\n"
     ]
    }
   ],
   "source": [
    "printName(\"Manish\")"
   ]
  },
  {
   "cell_type": "code",
   "execution_count": 10,
   "id": "b6a8ec38-f8a3-44a0-a461-b108230be625",
   "metadata": {},
   "outputs": [
    {
     "ename": "TypeError",
     "evalue": "printName() missing 1 required positional argument: 'name'",
     "output_type": "error",
     "traceback": [
      "\u001b[0;31m---------------------------------------------------------------------------\u001b[0m",
      "\u001b[0;31mTypeError\u001b[0m                                 Traceback (most recent call last)",
      "Cell \u001b[0;32mIn[10], line 1\u001b[0m\n\u001b[0;32m----> 1\u001b[0m printName()\n",
      "\u001b[0;31mTypeError\u001b[0m: printName() missing 1 required positional argument: 'name'"
     ]
    }
   ],
   "source": [
    "printName()"
   ]
  },
  {
   "cell_type": "code",
   "execution_count": null,
   "id": "8684bfc0-1b7e-4665-bac7-8e9cb64d4e88",
   "metadata": {},
   "outputs": [],
   "source": []
  }
 ],
 "metadata": {
  "kernelspec": {
   "display_name": "Python (myenv)",
   "language": "python",
   "name": "myenv"
  },
  "language_info": {
   "codemirror_mode": {
    "name": "ipython",
    "version": 3
   },
   "file_extension": ".py",
   "mimetype": "text/x-python",
   "name": "python",
   "nbconvert_exporter": "python",
   "pygments_lexer": "ipython3",
   "version": "3.11.7"
  }
 },
 "nbformat": 4,
 "nbformat_minor": 5
}
