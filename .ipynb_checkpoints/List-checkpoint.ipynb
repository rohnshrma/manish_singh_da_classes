{
 "cells": [
  {
   "cell_type": "markdown",
   "id": "9092c55c-c27a-46c5-91de-91dd3eb64c55",
   "metadata": {},
   "source": [
    "# List : to store multiple value of different or same data type in a single variable\n",
    "## Ordered, indexed, changable | mutable and Allows Duplicates\n",
    "\n",
    "#### [item1, item2, item3,...] : square brackets are used to create a list, where items are divided by commas"
   ]
  },
  {
   "cell_type": "code",
   "execution_count": 4,
   "id": "4647e24c-d67b-44fa-abcf-cf3103480b0b",
   "metadata": {},
   "outputs": [],
   "source": [
    "fruits = [\"Apple\",\"Banana\",\"Cherry\",\"Kiwi\",\"DragonFruit\"]"
   ]
  },
  {
   "cell_type": "code",
   "execution_count": 6,
   "id": "7af9e3a2-4c36-4c85-b815-dfa3349db820",
   "metadata": {},
   "outputs": [
    {
     "name": "stdout",
     "output_type": "stream",
     "text": [
      "<class 'list'>\n"
     ]
    }
   ],
   "source": [
    "print(type(fruits))"
   ]
  },
  {
   "cell_type": "code",
   "execution_count": 8,
   "id": "bbdc9439-265c-43f4-b541-faa4d44f5912",
   "metadata": {},
   "outputs": [
    {
     "name": "stdout",
     "output_type": "stream",
     "text": [
      "5\n"
     ]
    }
   ],
   "source": [
    "print(len(fruits))"
   ]
  },
  {
   "cell_type": "code",
   "execution_count": 10,
   "id": "574e2d1a-0cf9-4ef4-aae9-50beae07ec33",
   "metadata": {},
   "outputs": [
    {
     "name": "stdout",
     "output_type": "stream",
     "text": [
      "['Apple', 'Banana', 'Cherry', 'Kiwi', 'DragonFruit']\n"
     ]
    }
   ],
   "source": [
    "print(fruits)"
   ]
  },
  {
   "cell_type": "code",
   "execution_count": 12,
   "id": "a5da8333-1bcf-4e0b-92d7-6d40da53541c",
   "metadata": {},
   "outputs": [
    {
     "name": "stdout",
     "output_type": "stream",
     "text": [
      "Cherry\n"
     ]
    }
   ],
   "source": [
    "print(fruits[2])"
   ]
  },
  {
   "cell_type": "code",
   "execution_count": 14,
   "id": "8d4d3c33-5aee-4396-9195-74522c9e6397",
   "metadata": {},
   "outputs": [
    {
     "name": "stdout",
     "output_type": "stream",
     "text": [
      "['Cherry', 'Kiwi', 'DragonFruit']\n"
     ]
    }
   ],
   "source": [
    "print(fruits[2:]) "
   ]
  },
  {
   "cell_type": "code",
   "execution_count": 20,
   "id": "06113876-2558-47fc-8410-4b6f9e641e7a",
   "metadata": {},
   "outputs": [],
   "source": [
    "fruits[3] = \"Papaya\"\n",
    "# list[index] = new value"
   ]
  },
  {
   "cell_type": "code",
   "execution_count": 18,
   "id": "0999d7d2-45e7-4668-ab5b-e762abb82214",
   "metadata": {},
   "outputs": [
    {
     "name": "stdout",
     "output_type": "stream",
     "text": [
      "['Apple', 'Banana', 'Cherry', 'Papaya', 'DragonFruit']\n"
     ]
    }
   ],
   "source": [
    "\n",
    "print(fruits)"
   ]
  },
  {
   "cell_type": "code",
   "execution_count": 24,
   "id": "34e84ad5-f519-481d-8385-c10167538b40",
   "metadata": {},
   "outputs": [],
   "source": [
    "marks = [12,23,34,455,12,23,435,123]"
   ]
  },
  {
   "cell_type": "code",
   "execution_count": 26,
   "id": "48e8be3b-18e5-498b-b5d3-4c6e1eec5f9d",
   "metadata": {},
   "outputs": [
    {
     "name": "stdout",
     "output_type": "stream",
     "text": [
      "[12, 23, 34, 455, 12, 23, 435, 123]\n"
     ]
    }
   ],
   "source": [
    "print(marks)"
   ]
  },
  {
   "cell_type": "code",
   "execution_count": null,
   "id": "dea2887a-5917-4c74-af01-56efa8e8fb70",
   "metadata": {},
   "outputs": [],
   "source": []
  },
  {
   "cell_type": "code",
   "execution_count": 31,
   "id": "2998ca12-6a62-4a5e-8770-881a68ad89c0",
   "metadata": {},
   "outputs": [],
   "source": [
    "# add new item at the end of the list\n",
    "fruits.append(\"Strawberries\")"
   ]
  },
  {
   "cell_type": "code",
   "execution_count": 33,
   "id": "aab080ec-1c04-46e7-a1e0-140e02442148",
   "metadata": {},
   "outputs": [
    {
     "name": "stdout",
     "output_type": "stream",
     "text": [
      "['Apple', 'Banana', 'Cherry', 'Papaya', 'DragonFruit', 'Strawberries']\n"
     ]
    }
   ],
   "source": [
    "print(fruits)"
   ]
  },
  {
   "cell_type": "code",
   "execution_count": null,
   "id": "6958d3e5-4996-40e1-b09b-667efe738f62",
   "metadata": {},
   "outputs": [],
   "source": []
  },
  {
   "cell_type": "code",
   "execution_count": 48,
   "id": "5ec2bea3-9feb-4586-992e-ababb693ee93",
   "metadata": {},
   "outputs": [],
   "source": [
    "nested_list = [[\"rohan\",\"manish\",\"satvik\"],[\"kumar\",\"verma\",\"sharma\"],[12,34,45]]"
   ]
  },
  {
   "cell_type": "code",
   "execution_count": 50,
   "id": "b75a82a8-15c1-4200-96b2-182b5973968b",
   "metadata": {},
   "outputs": [
    {
     "name": "stdout",
     "output_type": "stream",
     "text": [
      "manish\n"
     ]
    }
   ],
   "source": [
    "print(nested_list[0][1])"
   ]
  },
  {
   "cell_type": "code",
   "execution_count": 52,
   "id": "5a3fafb2-bb4f-4788-96f4-9a3871562106",
   "metadata": {},
   "outputs": [
    {
     "name": "stdout",
     "output_type": "stream",
     "text": [
      "34\n"
     ]
    }
   ],
   "source": [
    "print(nested_list[2][1])"
   ]
  },
  {
   "cell_type": "code",
   "execution_count": 56,
   "id": "ac7d6d30-8a01-4a2e-b458-ec7d316c77eb",
   "metadata": {},
   "outputs": [],
   "source": [
    "fruits.insert(2,\"Avacardo\") # where to insert , what to insert"
   ]
  },
  {
   "cell_type": "code",
   "execution_count": 60,
   "id": "d75cb85a-799a-4d7f-9337-b885fc762dec",
   "metadata": {},
   "outputs": [
    {
     "name": "stdout",
     "output_type": "stream",
     "text": [
      "['Apple', 'Banana', 'Avacardo', 'Cherry', 'Papaya', 'DragonFruit', 'Strawberries']\n"
     ]
    }
   ],
   "source": [
    "print(fruits)"
   ]
  },
  {
   "cell_type": "code",
   "execution_count": 62,
   "id": "0f3018e9-920a-4001-9950-252ffdc36242",
   "metadata": {},
   "outputs": [
    {
     "data": {
      "text/plain": [
       "'Avacardo'"
      ]
     },
     "execution_count": 62,
     "metadata": {},
     "output_type": "execute_result"
    }
   ],
   "source": [
    "#remove the last item (-1) from the list (by default)\n",
    "# fruits.pop() # -1\n",
    "fruits.pop(2) # index"
   ]
  },
  {
   "cell_type": "code",
   "execution_count": 66,
   "id": "c2830891-7843-460a-9cb0-a71911b98fb5",
   "metadata": {},
   "outputs": [],
   "source": [
    "fruits.remove(\"Papaya\") # remove the item specified(takes the item as a value )"
   ]
  },
  {
   "cell_type": "code",
   "execution_count": 68,
   "id": "88a0f05f-2b04-4995-83c3-9ef733a18375",
   "metadata": {},
   "outputs": [
    {
     "name": "stdout",
     "output_type": "stream",
     "text": [
      "['Apple', 'Banana', 'Cherry', 'DragonFruit', 'Strawberries']\n"
     ]
    }
   ],
   "source": [
    "print(fruits[0])"
   ]
  },
  {
   "cell_type": "code",
   "execution_count": 70,
   "id": "580df25a-bb7a-4459-be0b-ed7ba664231e",
   "metadata": {},
   "outputs": [
    {
     "data": {
      "text/plain": [
       "['Strawberries', 'DragonFruit', 'Cherry', 'Banana', 'Apple']"
      ]
     },
     "execution_count": 70,
     "metadata": {},
     "output_type": "execute_result"
    }
   ],
   "source": [
    "fruits[::-1]"
   ]
  },
  {
   "cell_type": "code",
   "execution_count": 79,
   "id": "f7bd6310-09eb-4429-b3b9-0a58b2c3548a",
   "metadata": {},
   "outputs": [
    {
     "data": {
      "text/plain": [
       "['Apple', 'Banana', 'Cherry', 'DragonFruit', 'Strawberries']"
      ]
     },
     "execution_count": 79,
     "metadata": {},
     "output_type": "execute_result"
    }
   ],
   "source": [
    "fruits"
   ]
  },
  {
   "cell_type": "code",
   "execution_count": null,
   "id": "38292af6-79c0-4f00-83df-a09665410554",
   "metadata": {},
   "outputs": [],
   "source": []
  },
  {
   "cell_type": "code",
   "execution_count": null,
   "id": "905d8d7c-76b3-494e-b635-aac14b2b5de6",
   "metadata": {},
   "outputs": [],
   "source": []
  },
  {
   "cell_type": "code",
   "execution_count": 81,
   "id": "e508b8fa-8475-416a-82bd-ff391588fb7f",
   "metadata": {},
   "outputs": [
    {
     "data": {
      "text/plain": [
       "['Apple', 'Banana', 'Cherry', 'DragonFruit', 'Strawberries']"
      ]
     },
     "execution_count": 81,
     "metadata": {},
     "output_type": "execute_result"
    }
   ],
   "source": [
    "fruits"
   ]
  },
  {
   "cell_type": "code",
   "execution_count": 83,
   "id": "266d62c8-ee9f-4dc4-94b4-d43da514ce2c",
   "metadata": {},
   "outputs": [],
   "source": [
    "fruits.reverse() #modify the list by reversing the item order"
   ]
  },
  {
   "cell_type": "code",
   "execution_count": 85,
   "id": "8ef52f04-a75d-4b13-bab5-6b8b813e5985",
   "metadata": {},
   "outputs": [
    {
     "data": {
      "text/plain": [
       "['Strawberries', 'DragonFruit', 'Cherry', 'Banana', 'Apple']"
      ]
     },
     "execution_count": 85,
     "metadata": {},
     "output_type": "execute_result"
    }
   ],
   "source": [
    "fruits"
   ]
  },
  {
   "cell_type": "code",
   "execution_count": 87,
   "id": "acf8a8e2-cf18-430b-81a3-8ef13df70b40",
   "metadata": {},
   "outputs": [],
   "source": [
    "fruits.sort() # sort the item accordingly"
   ]
  },
  {
   "cell_type": "code",
   "execution_count": 89,
   "id": "86ac9170-3749-472b-94d0-2db7d88a113b",
   "metadata": {},
   "outputs": [
    {
     "name": "stdout",
     "output_type": "stream",
     "text": [
      "['Apple', 'Banana', 'Cherry', 'DragonFruit', 'Strawberries']\n"
     ]
    }
   ],
   "source": [
    "print(fruits)"
   ]
  },
  {
   "cell_type": "code",
   "execution_count": 93,
   "id": "0191c2d4-2ed1-4629-ab6c-7903c6650ab5",
   "metadata": {},
   "outputs": [],
   "source": [
    "fruits.sort(reverse=True)"
   ]
  },
  {
   "cell_type": "code",
   "execution_count": 95,
   "id": "7e718adb-2e48-4948-8eaa-c679b0cd1e28",
   "metadata": {},
   "outputs": [
    {
     "name": "stdout",
     "output_type": "stream",
     "text": [
      "['Strawberries', 'DragonFruit', 'Cherry', 'Banana', 'Apple']\n"
     ]
    }
   ],
   "source": [
    "print(fruits)"
   ]
  },
  {
   "cell_type": "code",
   "execution_count": 97,
   "id": "159b5943-3386-4d95-8cd6-54d34fa7f31c",
   "metadata": {},
   "outputs": [
    {
     "data": {
      "text/plain": [
       "2"
      ]
     },
     "execution_count": 97,
     "metadata": {},
     "output_type": "execute_result"
    }
   ],
   "source": [
    "marks.count(12)"
   ]
  },
  {
   "cell_type": "code",
   "execution_count": 99,
   "id": "6559cb46-ef50-4a4d-86ee-667a38811ab5",
   "metadata": {},
   "outputs": [
    {
     "data": {
      "text/plain": [
       "0"
      ]
     },
     "execution_count": 99,
     "metadata": {},
     "output_type": "execute_result"
    }
   ],
   "source": [
    "marks.index(12) #index"
   ]
  },
  {
   "cell_type": "code",
   "execution_count": 101,
   "id": "0b06c5fe-b4ef-4fad-9bcd-e31e05dc5950",
   "metadata": {},
   "outputs": [
    {
     "data": {
      "text/plain": [
       "4"
      ]
     },
     "execution_count": 101,
     "metadata": {},
     "output_type": "execute_result"
    }
   ],
   "source": [
    "marks.index(12 ,1) #index, start position(inclusive)"
   ]
  },
  {
   "cell_type": "code",
   "execution_count": 110,
   "id": "2ac14fb3-729a-4f4b-9e83-00d47927fed1",
   "metadata": {},
   "outputs": [],
   "source": [
    "fruits.extend([\"blueberries\",\"strawberries\",\"avacardo\"]) # adds item from specified list into the list"
   ]
  },
  {
   "cell_type": "code",
   "execution_count": null,
   "id": "43abd72d-3d04-4279-81a5-0757d3576864",
   "metadata": {},
   "outputs": [],
   "source": []
  },
  {
   "cell_type": "code",
   "execution_count": 113,
   "id": "973f33d1-4fda-4d93-a3f4-f8f8478fed10",
   "metadata": {},
   "outputs": [
    {
     "name": "stdout",
     "output_type": "stream",
     "text": [
      "['Strawberries', 'DragonFruit', 'Cherry', 'Banana', 'Apple', 'blueberries', 'strawberries', 'avacardo']\n"
     ]
    }
   ],
   "source": [
    "print(fruits)"
   ]
  },
  {
   "cell_type": "code",
   "execution_count": 115,
   "id": "5cc07309-7e76-486b-83df-7dbfe01c6c6c",
   "metadata": {},
   "outputs": [],
   "source": [
    "#return copy of the list\n",
    "fruits_copy = fruits.copy()"
   ]
  },
  {
   "cell_type": "code",
   "execution_count": 119,
   "id": "35e3486b-9011-420c-8c1e-b8291323933a",
   "metadata": {},
   "outputs": [
    {
     "name": "stdout",
     "output_type": "stream",
     "text": [
      "['Strawberries', 'DragonFruit', 'Cherry', 'Banana', 'Apple', 'blueberries', 'strawberries', 'avacardo']\n"
     ]
    }
   ],
   "source": [
    "\n",
    "print(fruits_copy)"
   ]
  },
  {
   "cell_type": "code",
   "execution_count": null,
   "id": "15a91ab9-9737-4141-bf54-383a9a6873ba",
   "metadata": {},
   "outputs": [],
   "source": []
  },
  {
   "cell_type": "code",
   "execution_count": 122,
   "id": "6491c7fd-a88d-4868-8e32-9f53db5ae065",
   "metadata": {},
   "outputs": [],
   "source": [
    "fruits_copy.clear() # empty list"
   ]
  },
  {
   "cell_type": "code",
   "execution_count": 124,
   "id": "8f61562d-3d28-4e70-b2d1-1beb185d1a94",
   "metadata": {},
   "outputs": [
    {
     "name": "stdout",
     "output_type": "stream",
     "text": [
      "[]\n"
     ]
    }
   ],
   "source": [
    "\n",
    "print(fruits_copy)"
   ]
  },
  {
   "cell_type": "code",
   "execution_count": 126,
   "id": "9193e023-e096-48c2-ab5f-6d9464aaef52",
   "metadata": {},
   "outputs": [],
   "source": [
    "del fruits_copy # delete variable"
   ]
  },
  {
   "cell_type": "code",
   "execution_count": 130,
   "id": "30391b70-e10e-4a10-a716-4787acb939f2",
   "metadata": {},
   "outputs": [
    {
     "ename": "NameError",
     "evalue": "name 'fruits_copy' is not defined",
     "output_type": "error",
     "traceback": [
      "\u001b[0;31m---------------------------------------------------------------------------\u001b[0m",
      "\u001b[0;31mNameError\u001b[0m                                 Traceback (most recent call last)",
      "Cell \u001b[0;32mIn[130], line 1\u001b[0m\n\u001b[0;32m----> 1\u001b[0m fruits_copy\n",
      "\u001b[0;31mNameError\u001b[0m: name 'fruits_copy' is not defined"
     ]
    }
   ],
   "source": [
    "fruits_copy"
   ]
  },
  {
   "cell_type": "code",
   "execution_count": null,
   "id": "29a46874-802c-49c9-937b-dc985c13b7e4",
   "metadata": {},
   "outputs": [],
   "source": []
  }
 ],
 "metadata": {
  "kernelspec": {
   "display_name": "Python 3 (ipykernel)",
   "language": "python",
   "name": "python3"
  },
  "language_info": {
   "codemirror_mode": {
    "name": "ipython",
    "version": 3
   },
   "file_extension": ".py",
   "mimetype": "text/x-python",
   "name": "python",
   "nbconvert_exporter": "python",
   "pygments_lexer": "ipython3",
   "version": "3.11.7"
  }
 },
 "nbformat": 4,
 "nbformat_minor": 5
}
