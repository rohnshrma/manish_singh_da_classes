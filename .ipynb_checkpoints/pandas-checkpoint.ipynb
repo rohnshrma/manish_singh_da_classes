{
 "cells": [
  {
   "cell_type": "code",
   "execution_count": 2,
   "id": "1a7b0f6f-56b5-44be-9188-0eb952c69ade",
   "metadata": {},
   "outputs": [
    {
     "name": "stdout",
     "output_type": "stream",
     "text": [
      "Requirement already satisfied: pandas in /opt/anaconda3/lib/python3.11/site-packages (2.1.4)\n",
      "Requirement already satisfied: numpy<2,>=1.23.2 in /opt/anaconda3/lib/python3.11/site-packages (from pandas) (1.26.4)\n",
      "Requirement already satisfied: python-dateutil>=2.8.2 in /opt/anaconda3/lib/python3.11/site-packages (from pandas) (2.8.2)\n",
      "Requirement already satisfied: pytz>=2020.1 in /opt/anaconda3/lib/python3.11/site-packages (from pandas) (2023.3.post1)\n",
      "Requirement already satisfied: tzdata>=2022.1 in /opt/anaconda3/lib/python3.11/site-packages (from pandas) (2023.3)\n",
      "Requirement already satisfied: six>=1.5 in /opt/anaconda3/lib/python3.11/site-packages (from python-dateutil>=2.8.2->pandas) (1.16.0)\n",
      "Note: you may need to restart the kernel to use updated packages.\n"
     ]
    }
   ],
   "source": [
    "pip install pandas\n"
   ]
  },
  {
   "cell_type": "code",
   "execution_count": 4,
   "id": "07b2cd06-c976-4acb-a73d-94d986eaccac",
   "metadata": {},
   "outputs": [],
   "source": [
    "import pandas as pd"
   ]
  },
  {
   "cell_type": "code",
   "execution_count": 6,
   "id": "f79081c0-90bf-4e77-9e86-c5831dd8a490",
   "metadata": {},
   "outputs": [
    {
     "name": "stdout",
     "output_type": "stream",
     "text": [
      "2.1.4\n"
     ]
    }
   ],
   "source": [
    "print(pd.__version__)"
   ]
  },
  {
   "cell_type": "raw",
   "id": "6bbd766d-8680-44c2-8ae8-79b25d3a4ce8",
   "metadata": {},
   "source": []
  },
  {
   "cell_type": "code",
   "execution_count": 13,
   "id": "fea41104-d126-41d9-a8c6-0dfd0e9e0858",
   "metadata": {},
   "outputs": [],
   "source": [
    "marks = [12,34,23]"
   ]
  },
  {
   "cell_type": "code",
   "execution_count": 15,
   "id": "c1a9200e-954d-4e73-b7e4-761bf86780b8",
   "metadata": {},
   "outputs": [],
   "source": [
    "marksSeries = pd.Series(marks)"
   ]
  },
  {
   "cell_type": "code",
   "execution_count": 17,
   "id": "0b974e14-a4a0-4717-8c4b-69a22632b57f",
   "metadata": {},
   "outputs": [
    {
     "name": "stdout",
     "output_type": "stream",
     "text": [
      "12\n"
     ]
    }
   ],
   "source": [
    "print(marksSeries[0])"
   ]
  },
  {
   "cell_type": "code",
   "execution_count": 19,
   "id": "613c7a8a-9849-488e-a31c-ebdbf809dea9",
   "metadata": {},
   "outputs": [
    {
     "name": "stdout",
     "output_type": "stream",
     "text": [
      "0    12\n",
      "1    34\n",
      "dtype: int64\n"
     ]
    }
   ],
   "source": [
    "print(marksSeries[0:2])"
   ]
  },
  {
   "cell_type": "code",
   "execution_count": null,
   "id": "d346d9d7-600e-4969-858d-2991a7c62d72",
   "metadata": {},
   "outputs": [],
   "source": []
  },
  {
   "cell_type": "code",
   "execution_count": 22,
   "id": "c9ef1fe4-565e-4840-9950-d1ce7e07c8ac",
   "metadata": {},
   "outputs": [],
   "source": [
    "marksSeries_2 = pd.Series(marks,index = [\"a\",\"b\",\"c\"])"
   ]
  },
  {
   "cell_type": "code",
   "execution_count": 30,
   "id": "93534886-865b-426d-b76c-604f54ca8170",
   "metadata": {},
   "outputs": [
    {
     "name": "stdout",
     "output_type": "stream",
     "text": [
      "12\n",
      "34\n",
      "23\n"
     ]
    }
   ],
   "source": [
    "print(marksSeries_2[\"a\"])\n",
    "print(marksSeries_2[\"b\"])\n",
    "print(marksSeries_2[\"c\"])"
   ]
  },
  {
   "cell_type": "code",
   "execution_count": 50,
   "id": "1897e748-2060-462d-95ea-fb7f2cc7bb9e",
   "metadata": {},
   "outputs": [],
   "source": [
    "schedule = {\n",
    "    \"Day1\" : \"Chest\",\n",
    "    \"Day2\" : \"Back\",\n",
    "    \"Day3\" : \"Shoulder\",\n",
    "    \"Day4\" : \"Arms\",\n",
    "    \"Day5\" : \"Legs\"\n",
    " }"
   ]
  },
  {
   "cell_type": "code",
   "execution_count": 52,
   "id": "dec94e91-0d78-4d1d-a937-38eb232ff99b",
   "metadata": {},
   "outputs": [],
   "source": [
    "\n",
    "scheduleSeries = pd.Series(schedule,index = [\"Day1\" , \"Day2\" , \"Day3\",\"Day4\", \"Day5\"])"
   ]
  },
  {
   "cell_type": "code",
   "execution_count": 60,
   "id": "f46e0eab-ea0a-4e67-80db-b513f9fff043",
   "metadata": {},
   "outputs": [
    {
     "name": "stderr",
     "output_type": "stream",
     "text": [
      "/var/folders/8w/_6yjl4k57ns9p16hzp12zgqw0000gn/T/ipykernel_89002/2404729245.py:1: FutureWarning: Series.__getitem__ treating keys as positions is deprecated. In a future version, integer keys will always be treated as labels (consistent with DataFrame behavior). To access a value by position, use `ser.iloc[pos]`\n",
      "  scheduleSeries[2]\n"
     ]
    },
    {
     "data": {
      "text/plain": [
       "'Shoulder'"
      ]
     },
     "execution_count": 60,
     "metadata": {},
     "output_type": "execute_result"
    }
   ],
   "source": [
    "scheduleSeries[\"Day1\"]"
   ]
  },
  {
   "cell_type": "code",
   "execution_count": null,
   "id": "17d1f0a9-3897-4e5a-ba3a-b7deafde527c",
   "metadata": {},
   "outputs": [],
   "source": []
  }
 ],
 "metadata": {
  "kernelspec": {
   "display_name": "Python 3 (ipykernel)",
   "language": "python",
   "name": "python3"
  },
  "language_info": {
   "codemirror_mode": {
    "name": "ipython",
    "version": 3
   },
   "file_extension": ".py",
   "mimetype": "text/x-python",
   "name": "python",
   "nbconvert_exporter": "python",
   "pygments_lexer": "ipython3",
   "version": "3.11.7"
  }
 },
 "nbformat": 4,
 "nbformat_minor": 5
}
