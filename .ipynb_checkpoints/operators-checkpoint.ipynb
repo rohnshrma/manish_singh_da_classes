{
 "cells": [
  {
   "cell_type": "code",
   "execution_count": 2,
   "id": "b78ab2d8-5cdb-4e3d-90a5-2aabc588ed5e",
   "metadata": {},
   "outputs": [],
   "source": [
    "#arithmetic operators (mathmatical operators)\n",
    "x = 20\n",
    "y = 3"
   ]
  },
  {
   "cell_type": "code",
   "execution_count": null,
   "id": "7537cf82-678a-446c-8f6e-8cd0436048bf",
   "metadata": {},
   "outputs": [],
   "source": [
    "print(x+y) # sum\n",
    "print(x-y) # difference\n",
    "print(x*y) # product\n",
    "print(x/y) # quotient\n",
    "print(x%y) # remainder\n",
    "print(x**y) # exponent"
   ]
  }
 ],
 "metadata": {
  "kernelspec": {
   "display_name": "Python 3 (ipykernel)",
   "language": "python",
   "name": "python3"
  },
  "language_info": {
   "codemirror_mode": {
    "name": "ipython",
    "version": 3
   },
   "file_extension": ".py",
   "mimetype": "text/x-python",
   "name": "python",
   "nbconvert_exporter": "python",
   "pygments_lexer": "ipython3",
   "version": "3.11.7"
  }
 },
 "nbformat": 4,
 "nbformat_minor": 5
}
