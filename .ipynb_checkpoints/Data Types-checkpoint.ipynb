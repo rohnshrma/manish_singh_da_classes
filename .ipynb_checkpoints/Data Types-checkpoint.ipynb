{
 "cells": [
  {
   "cell_type": "markdown",
   "id": "657798de-6f60-479c-9a9d-1cebdaec3d1a",
   "metadata": {},
   "source": [
    "# How to check data type of any value | variable\n",
    "type() function returns the data type of the specified value | variable"
   ]
  },
  {
   "cell_type": "code",
   "execution_count": 5,
   "id": "caa66d67-0511-4b7c-9dc1-2febd40cc63b",
   "metadata": {},
   "outputs": [
    {
     "name": "stdout",
     "output_type": "stream",
     "text": [
      "<class 'int'>\n"
     ]
    }
   ],
   "source": [
    "print(type(123))"
   ]
  },
  {
   "cell_type": "code",
   "execution_count": 7,
   "id": "27bd8939-10f2-46ee-b12e-8324bd17f386",
   "metadata": {},
   "outputs": [
    {
     "name": "stdout",
     "output_type": "stream",
     "text": [
      "<class 'float'>\n"
     ]
    }
   ],
   "source": [
    "print(type(12.3))"
   ]
  },
  {
   "cell_type": "code",
   "execution_count": 11,
   "id": "37c1eb23-49fa-4b3a-bf93-db20d449dd1a",
   "metadata": {},
   "outputs": [
    {
     "name": "stdout",
     "output_type": "stream",
     "text": [
      "<class 'bool'>\n"
     ]
    }
   ],
   "source": [
    "print(type(True))"
   ]
  },
  {
   "cell_type": "code",
   "execution_count": 13,
   "id": "f224e7cb-8f6f-4c95-9578-ee842e2f1530",
   "metadata": {},
   "outputs": [
    {
     "name": "stdout",
     "output_type": "stream",
     "text": [
      "<class 'bool'>\n"
     ]
    }
   ],
   "source": [
    "print(type(False))"
   ]
  },
  {
   "cell_type": "code",
   "execution_count": 15,
   "id": "3de3ccd7-169a-42bc-b695-c4b635740fef",
   "metadata": {},
   "outputs": [],
   "source": [
    "name = \"manish\""
   ]
  },
  {
   "cell_type": "code",
   "execution_count": 17,
   "id": "c3d88086-8156-4ba2-9430-a43c7f784506",
   "metadata": {},
   "outputs": [
    {
     "name": "stdout",
     "output_type": "stream",
     "text": [
      "<class 'str'>\n",
      "<class 'str'>\n"
     ]
    }
   ],
   "source": [
    "print(type(\"manish\")) #value\n",
    "print(type(name)) # variable"
   ]
  },
  {
   "cell_type": "code",
   "execution_count": 25,
   "id": "78bc28ab-ce70-42da-ab95-653cfa943431",
   "metadata": {},
   "outputs": [],
   "source": [
    "# Sequence of characters (alpha , num , special symbols and whitespace) enclosed in single (' ') or double quotes (\" \")"
   ]
  },
  {
   "cell_type": "code",
   "execution_count": 27,
   "id": "c847ba90-594e-4fea-89f8-2c58febb5353",
   "metadata": {},
   "outputs": [
    {
     "name": "stdout",
     "output_type": "stream",
     "text": [
      "<class 'str'>\n"
     ]
    }
   ],
   "source": [
    "print(type(\"123\"))"
   ]
  },
  {
   "cell_type": "code",
   "execution_count": 31,
   "id": "94a90559-c187-4c5e-b445-b0c4b90f5a5c",
   "metadata": {},
   "outputs": [
    {
     "name": "stdout",
     "output_type": "stream",
     "text": [
      "<class 'str'>\n"
     ]
    }
   ],
   "source": [
    "print(type(\"12.3\"))"
   ]
  },
  {
   "cell_type": "code",
   "execution_count": 33,
   "id": "712e701b-a380-4f28-8f5a-bb9f1d6fe46c",
   "metadata": {},
   "outputs": [
    {
     "name": "stdout",
     "output_type": "stream",
     "text": [
      "<class 'str'>\n"
     ]
    }
   ],
   "source": [
    "print(type(\"      \"))"
   ]
  },
  {
   "cell_type": "code",
   "execution_count": 35,
   "id": "7c428325-624f-44bc-83e1-af77bee47c3a",
   "metadata": {},
   "outputs": [
    {
     "name": "stdout",
     "output_type": "stream",
     "text": [
      "<class 'str'>\n"
     ]
    }
   ],
   "source": [
    "print(type('hello@1234'))"
   ]
  },
  {
   "cell_type": "code",
   "execution_count": null,
   "id": "ab790092-ec87-4ed7-891d-ce33ca836d14",
   "metadata": {},
   "outputs": [],
   "source": []
  },
  {
   "cell_type": "code",
   "execution_count": 43,
   "id": "f0890b10-4d25-4602-838d-2a894054f1cd",
   "metadata": {},
   "outputs": [],
   "source": [
    "mark = 12,23,34,45"
   ]
  },
  {
   "cell_type": "code",
   "execution_count": 45,
   "id": "fdf5c4d3-e4c0-4c69-92b8-dd4f82acdea3",
   "metadata": {},
   "outputs": [
    {
     "name": "stdout",
     "output_type": "stream",
     "text": [
      "<class 'tuple'>\n"
     ]
    }
   ],
   "source": []
  },
  {
   "cell_type": "code",
   "execution_count": null,
   "id": "cecbbe2a-4492-4da4-ac17-24fc70e4f267",
   "metadata": {},
   "outputs": [],
   "source": []
  }
 ],
 "metadata": {
  "kernelspec": {
   "display_name": "Python (myenv)",
   "language": "python",
   "name": "myenv"
  },
  "language_info": {
   "codemirror_mode": {
    "name": "ipython",
    "version": 3
   },
   "file_extension": ".py",
   "mimetype": "text/x-python",
   "name": "python",
   "nbconvert_exporter": "python",
   "pygments_lexer": "ipython3",
   "version": "3.11.7"
  }
 },
 "nbformat": 4,
 "nbformat_minor": 5
}
