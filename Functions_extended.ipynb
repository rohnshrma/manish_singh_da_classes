{
 "cells": [
  {
   "cell_type": "code",
   "execution_count": 1,
   "id": "c8759e3a-3581-4314-8453-7fb4a846fa80",
   "metadata": {},
   "outputs": [],
   "source": [
    "# def funcName(parameters,...):\n",
    "    # code to be executed"
   ]
  },
  {
   "cell_type": "code",
   "execution_count": null,
   "id": "1aef7f04-3f46-4295-9bab-56a3c94302e7",
   "metadata": {},
   "outputs": [],
   "source": [
    "#default parameter"
   ]
  },
  {
   "cell_type": "code",
   "execution_count": 12,
   "id": "df9e3ea3-f2a4-445d-b4e9-b14a85beec1e",
   "metadata": {},
   "outputs": [],
   "source": [
    "def printName(name=\"User\"):\n",
    "    print(\"hello\",name)"
   ]
  },
  {
   "cell_type": "code",
   "execution_count": 14,
   "id": "d0ba6930-2685-427f-8fe6-f6d48df11790",
   "metadata": {},
   "outputs": [
    {
     "name": "stdout",
     "output_type": "stream",
     "text": [
      "hello Manish\n"
     ]
    }
   ],
   "source": [
    "printName(\"Manish\")"
   ]
  },
  {
   "cell_type": "code",
   "execution_count": 16,
   "id": "b6a8ec38-f8a3-44a0-a461-b108230be625",
   "metadata": {},
   "outputs": [
    {
     "name": "stdout",
     "output_type": "stream",
     "text": [
      "hello User\n"
     ]
    }
   ],
   "source": [
    "printName()"
   ]
  },
  {
   "cell_type": "code",
   "execution_count": 34,
   "id": "8684bfc0-1b7e-4665-bac7-8e9cb64d4e88",
   "metadata": {},
   "outputs": [],
   "source": [
    "def addNum(a=10,b=5):\n",
    "    return a+b"
   ]
  },
  {
   "cell_type": "code",
   "execution_count": 36,
   "id": "76f8f6c8-195b-4480-92a1-35750f5448d3",
   "metadata": {},
   "outputs": [
    {
     "data": {
      "text/plain": [
       "15"
      ]
     },
     "execution_count": 36,
     "metadata": {},
     "output_type": "execute_result"
    }
   ],
   "source": [
    "addNum()"
   ]
  },
  {
   "cell_type": "code",
   "execution_count": 40,
   "id": "5124a19d-deff-4fc3-bb60-2b233046eaf6",
   "metadata": {},
   "outputs": [
    {
     "data": {
      "text/plain": [
       "79"
      ]
     },
     "execution_count": 40,
     "metadata": {},
     "output_type": "execute_result"
    }
   ],
   "source": [
    "addNum(34,45)"
   ]
  },
  {
   "cell_type": "code",
   "execution_count": 42,
   "id": "dc3a212e-8041-4cec-b95c-5a60c291555e",
   "metadata": {},
   "outputs": [
    {
     "data": {
      "text/plain": [
       "79"
      ]
     },
     "execution_count": 42,
     "metadata": {},
     "output_type": "execute_result"
    }
   ],
   "source": [
    "addNum(b=45,a=34)"
   ]
  },
  {
   "cell_type": "code",
   "execution_count": 44,
   "id": "2468a523-de2d-4c5c-9caf-0cf502ccf292",
   "metadata": {},
   "outputs": [],
   "source": [
    "# keyword parameters"
   ]
  },
  {
   "cell_type": "code",
   "execution_count": 46,
   "id": "3c0f5f62-ac48-4841-8a07-fd3e97ed91db",
   "metadata": {},
   "outputs": [],
   "source": [
    "def printdetails(name,age,gender):\n",
    "    print(f\"Name : {name}\\nAge : {age}\\nGender : {gender}\")"
   ]
  },
  {
   "cell_type": "code",
   "execution_count": 48,
   "id": "2ccf1f0b-0792-4c77-a777-4b8e90d577c8",
   "metadata": {},
   "outputs": [
    {
     "name": "stdout",
     "output_type": "stream",
     "text": [
      "Name : manish\n",
      "Age : 29\n",
      "Gender : Male\n"
     ]
    }
   ],
   "source": [
    "printdetails(\"manish\",29,\"Male\")"
   ]
  },
  {
   "cell_type": "code",
   "execution_count": 50,
   "id": "0ba0d067-ecb4-4e9a-af25-e8beefea962a",
   "metadata": {},
   "outputs": [
    {
     "name": "stdout",
     "output_type": "stream",
     "text": [
      "Name : Male\n",
      "Age : manish\n",
      "Gender : 29\n"
     ]
    }
   ],
   "source": [
    "printdetails(\"Male\",\"manish\",29)"
   ]
  },
  {
   "cell_type": "code",
   "execution_count": 54,
   "id": "cfcc85e3-4aea-4a70-80ff-9c69334ff29f",
   "metadata": {},
   "outputs": [
    {
     "name": "stdout",
     "output_type": "stream",
     "text": [
      "Name : manish\n",
      "Age : 29\n",
      "Gender : Male\n"
     ]
    }
   ],
   "source": [
    "printdetails(gender=\"Male\",name=\"manish\",age=29) # keyword parameters"
   ]
  },
  {
   "cell_type": "code",
   "execution_count": null,
   "id": "68f94a81-e8f2-4f82-a114-fa6f1ca5dd34",
   "metadata": {},
   "outputs": [],
   "source": []
  },
  {
   "cell_type": "code",
   "execution_count": null,
   "id": "9980a02b-622c-4662-80f0-ecc0c1f52567",
   "metadata": {},
   "outputs": [],
   "source": []
  },
  {
   "cell_type": "code",
   "execution_count": 3,
   "id": "454be282-49d1-40d3-b219-8aeaba6a2409",
   "metadata": {},
   "outputs": [],
   "source": [
    "def order(dish=\"paneer\",quantity=\"1 kg\",price=\"250 Rs per Kg\"):\n",
    "    print(f\"Dish:{dish}\\nQuantity:{quantity}\\nPrice:{price}\")"
   ]
  },
  {
   "cell_type": "code",
   "execution_count": 5,
   "id": "67fcf75b-14d2-45ac-829a-de6e2ad742bf",
   "metadata": {},
   "outputs": [
    {
     "name": "stdout",
     "output_type": "stream",
     "text": [
      "Dish:Butter chicken\n",
      "Quantity:2 Kg\n",
      "Price:1000\n"
     ]
    }
   ],
   "source": [
    "order(quantity=\"2 Kg\" , price=\"1000\" , dish=\"Butter chicken\")"
   ]
  },
  {
   "cell_type": "code",
   "execution_count": null,
   "id": "400ff817-94c3-4d01-8037-fb8425964a74",
   "metadata": {},
   "outputs": [],
   "source": []
  },
  {
   "cell_type": "code",
   "execution_count": 8,
   "id": "80841487-c055-4de7-93fb-5333ed63d64e",
   "metadata": {},
   "outputs": [],
   "source": [
    "# Lambda function : concise function "
   ]
  },
  {
   "cell_type": "code",
   "execution_count": 10,
   "id": "f58dd4a1-4ae0-406e-ba53-398afdca3b05",
   "metadata": {},
   "outputs": [],
   "source": [
    "# lambda parameters : code to be executed"
   ]
  },
  {
   "cell_type": "code",
   "execution_count": 14,
   "id": "d72cd9b1-967d-4b73-9049-ac9f6e5846ef",
   "metadata": {},
   "outputs": [],
   "source": [
    "calcBmi = lambda height, weight : weight / height ** 2"
   ]
  },
  {
   "cell_type": "code",
   "execution_count": 16,
   "id": "83e4accd-d237-433c-a01e-b983e13c6c79",
   "metadata": {},
   "outputs": [
    {
     "data": {
      "text/plain": [
       "function"
      ]
     },
     "execution_count": 16,
     "metadata": {},
     "output_type": "execute_result"
    }
   ],
   "source": [
    "type(calcBmi)"
   ]
  },
  {
   "cell_type": "code",
   "execution_count": 20,
   "id": "cfdc6eff-21f2-4269-a890-7c4bf3d225b0",
   "metadata": {},
   "outputs": [
    {
     "data": {
      "text/plain": [
       "27.777777777777775"
      ]
     },
     "execution_count": 20,
     "metadata": {},
     "output_type": "execute_result"
    }
   ],
   "source": [
    "calcBmi(1.80 , 90)"
   ]
  },
  {
   "cell_type": "code",
   "execution_count": 34,
   "id": "49bdee86-46f2-4beb-865c-1ece958ecb46",
   "metadata": {},
   "outputs": [],
   "source": [
    "checkLeap = lambda year : (year % 4 == 0 and year % 100 != 0) or (year % 400 == 0 )"
   ]
  },
  {
   "cell_type": "code",
   "execution_count": 36,
   "id": "2f733e7a-77dc-4f20-ac62-d09791712aa2",
   "metadata": {},
   "outputs": [
    {
     "data": {
      "text/plain": [
       "True"
      ]
     },
     "execution_count": 36,
     "metadata": {},
     "output_type": "execute_result"
    }
   ],
   "source": [
    "checkLeap(2004)"
   ]
  },
  {
   "cell_type": "code",
   "execution_count": 38,
   "id": "a6ae23d3-9edd-429c-9a60-5d4ef6d518c6",
   "metadata": {},
   "outputs": [],
   "source": [
    "isEligble = lambda age : \"Eligible\" if age>=18 else \"Not Eligible\"  "
   ]
  },
  {
   "cell_type": "code",
   "execution_count": 40,
   "id": "fa6ab882-c696-4305-8fe5-f4e367aacabd",
   "metadata": {},
   "outputs": [
    {
     "data": {
      "text/plain": [
       "'Not Eligible'"
      ]
     },
     "execution_count": 40,
     "metadata": {},
     "output_type": "execute_result"
    }
   ],
   "source": [
    "isEligble(12)"
   ]
  },
  {
   "cell_type": "code",
   "execution_count": 42,
   "id": "a1b89b3e-ff2e-4a85-bd86-df330cbf590f",
   "metadata": {},
   "outputs": [
    {
     "data": {
      "text/plain": [
       "'Eligible'"
      ]
     },
     "execution_count": 42,
     "metadata": {},
     "output_type": "execute_result"
    }
   ],
   "source": [
    "isEligble(34)"
   ]
  },
  {
   "cell_type": "code",
   "execution_count": null,
   "id": "a7b58130-1cb4-4eaf-b562-7af88da289b2",
   "metadata": {},
   "outputs": [],
   "source": []
  }
 ],
 "metadata": {
  "kernelspec": {
   "display_name": "Python (myenv)",
   "language": "python",
   "name": "myenv"
  },
  "language_info": {
   "codemirror_mode": {
    "name": "ipython",
    "version": 3
   },
   "file_extension": ".py",
   "mimetype": "text/x-python",
   "name": "python",
   "nbconvert_exporter": "python",
   "pygments_lexer": "ipython3",
   "version": "3.11.7"
  }
 },
 "nbformat": 4,
 "nbformat_minor": 5
}
