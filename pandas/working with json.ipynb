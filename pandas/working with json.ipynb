{
 "cells": [
  {
   "cell_type": "code",
   "execution_count": 2,
   "id": "b5113069-9fad-49fa-bfce-b012214d1167",
   "metadata": {},
   "outputs": [],
   "source": [
    "import json\n",
    "import pandas as pd"
   ]
  },
  {
   "cell_type": "code",
   "execution_count": 21,
   "id": "89f2d647-189f-48bc-b8bc-14fedfb6742a",
   "metadata": {},
   "outputs": [],
   "source": [
    "jsonData = '''[{\n",
    "\"id\": 101,\n",
    "\"name\":\"Carlos\",\n",
    "\"active\": true,\n",
    "\"grades\": [ 2.3, 4.3, 5.0],\n",
    "\"yearsOld\":15,\n",
    "\"color\":\"blue\"\n",
    "},\n",
    "{\n",
    "\"id\": 202,\n",
    "\"name\":\"Mark\",\n",
    "\"active\": true,\n",
    "\"grades\": [ 3.3, 5.0, 3.0],\n",
    "\"yearsOld\":18,\n",
    "\"color\":\"green\"\n",
    "},\n",
    "{\n",
    "\"id\": 303,\n",
    "\"name\":\"Stephany\",\n",
    "\"active\": true,\n",
    "\"grades\": [ 3.3, 4.0, 3.8],\n",
    "\"yearsOld\":17,\n",
    "\"color\":\"pink\"\n",
    "},\n",
    "{\n",
    "\"id\": 404,\n",
    "\"name\":\"Angela\",\n",
    "\"active\": true,\n",
    "\"grades\": [ 1.0, 4.8, 4.0],\n",
    "\"yearsOld\":16,\n",
    "\"color\":\"gray\"\n",
    "},    \n",
    "{\n",
    "\"id\": 505,\n",
    "\"name\":\"Jackson\",\n",
    "\"active\": false,\n",
    "\"grades\": [ 5.0, 5.0, 5.0],\n",
    "\"yearsOld\":15,\n",
    "\"color\":\"blue\"\n",
    "},\n",
    "{\n",
    "\"id\": 606,\n",
    "\"name\":\"Melissa\",\n",
    "\"active\": false,\n",
    "\"grades\": [ 3.0, 4.0, 5.0],\n",
    "\"yearsOld\":19,\n",
    "\"color\":\"yellow\"\n",
    "}]'''"
   ]
  },
  {
   "cell_type": "code",
   "execution_count": 23,
   "id": "d0b3a627-38f2-4126-bd5a-7bf410608824",
   "metadata": {},
   "outputs": [],
   "source": [
    "data = json.loads(jsonData)"
   ]
  },
  {
   "cell_type": "code",
   "execution_count": 25,
   "id": "83b529c1-1a47-4aca-aed4-e82c0c7b4dfa",
   "metadata": {},
   "outputs": [],
   "source": [
    "df = pd.DataFrame(data)"
   ]
  },
  {
   "cell_type": "code",
   "execution_count": 27,
   "id": "3b9a9c9c-88b8-4972-b01e-b21200434b28",
   "metadata": {},
   "outputs": [
    {
     "name": "stdout",
     "output_type": "stream",
     "text": [
      "    id      name  active           grades  yearsOld   color\n",
      "0  101    Carlos    True  [2.3, 4.3, 5.0]        15    blue\n",
      "1  202      Mark    True  [3.3, 5.0, 3.0]        18   green\n",
      "2  303  Stephany    True  [3.3, 4.0, 3.8]        17    pink\n",
      "3  404    Angela    True  [1.0, 4.8, 4.0]        16    gray\n",
      "4  505   Jackson   False  [5.0, 5.0, 5.0]        15    blue\n",
      "5  606   Melissa   False  [3.0, 4.0, 5.0]        19  yellow\n"
     ]
    }
   ],
   "source": [
    "print(df)"
   ]
  },
  {
   "cell_type": "code",
   "execution_count": null,
   "id": "98bb9e1f-4c08-4e0c-b076-cd942dd354dd",
   "metadata": {},
   "outputs": [],
   "source": []
  },
  {
   "cell_type": "code",
   "execution_count": null,
   "id": "c13c4ea8-10e8-4165-8b7e-b26d8f55506a",
   "metadata": {},
   "outputs": [],
   "source": []
  },
  {
   "cell_type": "code",
   "execution_count": null,
   "id": "70c5ba5b-99df-4b17-9055-18aec4ee25bb",
   "metadata": {},
   "outputs": [],
   "source": []
  },
  {
   "cell_type": "code",
   "execution_count": 39,
   "id": "432c464e-f703-48fb-87e2-56c7553b455d",
   "metadata": {},
   "outputs": [],
   "source": [
    "jData = pd.read_json(\"data.json\")"
   ]
  },
  {
   "cell_type": "code",
   "execution_count": null,
   "id": "56284775-ad1e-4962-848a-39c23c3baa0b",
   "metadata": {},
   "outputs": [],
   "source": []
  },
  {
   "cell_type": "code",
   "execution_count": 43,
   "id": "d8becf57-4b39-4260-90a2-b4bb4eb40672",
   "metadata": {},
   "outputs": [
    {
     "data": {
      "text/html": [
       "<div>\n",
       "<style scoped>\n",
       "    .dataframe tbody tr th:only-of-type {\n",
       "        vertical-align: middle;\n",
       "    }\n",
       "\n",
       "    .dataframe tbody tr th {\n",
       "        vertical-align: top;\n",
       "    }\n",
       "\n",
       "    .dataframe thead th {\n",
       "        text-align: right;\n",
       "    }\n",
       "</style>\n",
       "<table border=\"1\" class=\"dataframe\">\n",
       "  <thead>\n",
       "    <tr style=\"text-align: right;\">\n",
       "      <th></th>\n",
       "      <th>id</th>\n",
       "      <th>name</th>\n",
       "      <th>active</th>\n",
       "      <th>grades</th>\n",
       "      <th>yearsOld</th>\n",
       "      <th>color</th>\n",
       "    </tr>\n",
       "  </thead>\n",
       "  <tbody>\n",
       "    <tr>\n",
       "      <th>0</th>\n",
       "      <td>101</td>\n",
       "      <td>Carlos</td>\n",
       "      <td>True</td>\n",
       "      <td>[2.3, 4.3, 5.0]</td>\n",
       "      <td>15</td>\n",
       "      <td>blue</td>\n",
       "    </tr>\n",
       "    <tr>\n",
       "      <th>1</th>\n",
       "      <td>202</td>\n",
       "      <td>Mark</td>\n",
       "      <td>True</td>\n",
       "      <td>[3.3, 5.0, 3.0]</td>\n",
       "      <td>18</td>\n",
       "      <td>green</td>\n",
       "    </tr>\n",
       "    <tr>\n",
       "      <th>2</th>\n",
       "      <td>303</td>\n",
       "      <td>Stephany</td>\n",
       "      <td>True</td>\n",
       "      <td>[3.3, 4.0, 3.8]</td>\n",
       "      <td>17</td>\n",
       "      <td>pink</td>\n",
       "    </tr>\n",
       "    <tr>\n",
       "      <th>3</th>\n",
       "      <td>404</td>\n",
       "      <td>Angela</td>\n",
       "      <td>True</td>\n",
       "      <td>[1.0, 4.8, 4.0]</td>\n",
       "      <td>16</td>\n",
       "      <td>gray</td>\n",
       "    </tr>\n",
       "    <tr>\n",
       "      <th>4</th>\n",
       "      <td>505</td>\n",
       "      <td>Jackson</td>\n",
       "      <td>False</td>\n",
       "      <td>[5.0, 5.0, 5.0]</td>\n",
       "      <td>15</td>\n",
       "      <td>blue</td>\n",
       "    </tr>\n",
       "    <tr>\n",
       "      <th>5</th>\n",
       "      <td>606</td>\n",
       "      <td>Melissa</td>\n",
       "      <td>False</td>\n",
       "      <td>[3.0, 4.0, 5.0]</td>\n",
       "      <td>19</td>\n",
       "      <td>yellow</td>\n",
       "    </tr>\n",
       "  </tbody>\n",
       "</table>\n",
       "</div>"
      ],
      "text/plain": [
       "    id      name  active           grades  yearsOld   color\n",
       "0  101    Carlos    True  [2.3, 4.3, 5.0]        15    blue\n",
       "1  202      Mark    True  [3.3, 5.0, 3.0]        18   green\n",
       "2  303  Stephany    True  [3.3, 4.0, 3.8]        17    pink\n",
       "3  404    Angela    True  [1.0, 4.8, 4.0]        16    gray\n",
       "4  505   Jackson   False  [5.0, 5.0, 5.0]        15    blue\n",
       "5  606   Melissa   False  [3.0, 4.0, 5.0]        19  yellow"
      ]
     },
     "execution_count": 43,
     "metadata": {},
     "output_type": "execute_result"
    }
   ],
   "source": [
    "jData"
   ]
  },
  {
   "cell_type": "code",
   "execution_count": null,
   "id": "7bac8d13-1313-431e-b020-4583fd4bca85",
   "metadata": {},
   "outputs": [],
   "source": []
  },
  {
   "cell_type": "code",
   "execution_count": 46,
   "id": "2867fc7e-c380-48dc-a836-6e6bdcc33e4d",
   "metadata": {},
   "outputs": [
    {
     "data": {
      "text/html": [
       "<div>\n",
       "<style scoped>\n",
       "    .dataframe tbody tr th:only-of-type {\n",
       "        vertical-align: middle;\n",
       "    }\n",
       "\n",
       "    .dataframe tbody tr th {\n",
       "        vertical-align: top;\n",
       "    }\n",
       "\n",
       "    .dataframe thead th {\n",
       "        text-align: right;\n",
       "    }\n",
       "</style>\n",
       "<table border=\"1\" class=\"dataframe\">\n",
       "  <thead>\n",
       "    <tr style=\"text-align: right;\">\n",
       "      <th></th>\n",
       "      <th>id</th>\n",
       "      <th>yearsOld</th>\n",
       "    </tr>\n",
       "  </thead>\n",
       "  <tbody>\n",
       "    <tr>\n",
       "      <th>count</th>\n",
       "      <td>6.000000</td>\n",
       "      <td>6.000000</td>\n",
       "    </tr>\n",
       "    <tr>\n",
       "      <th>mean</th>\n",
       "      <td>353.500000</td>\n",
       "      <td>16.666667</td>\n",
       "    </tr>\n",
       "    <tr>\n",
       "      <th>std</th>\n",
       "      <td>188.953698</td>\n",
       "      <td>1.632993</td>\n",
       "    </tr>\n",
       "    <tr>\n",
       "      <th>min</th>\n",
       "      <td>101.000000</td>\n",
       "      <td>15.000000</td>\n",
       "    </tr>\n",
       "    <tr>\n",
       "      <th>25%</th>\n",
       "      <td>227.250000</td>\n",
       "      <td>15.250000</td>\n",
       "    </tr>\n",
       "    <tr>\n",
       "      <th>50%</th>\n",
       "      <td>353.500000</td>\n",
       "      <td>16.500000</td>\n",
       "    </tr>\n",
       "    <tr>\n",
       "      <th>75%</th>\n",
       "      <td>479.750000</td>\n",
       "      <td>17.750000</td>\n",
       "    </tr>\n",
       "    <tr>\n",
       "      <th>max</th>\n",
       "      <td>606.000000</td>\n",
       "      <td>19.000000</td>\n",
       "    </tr>\n",
       "  </tbody>\n",
       "</table>\n",
       "</div>"
      ],
      "text/plain": [
       "               id   yearsOld\n",
       "count    6.000000   6.000000\n",
       "mean   353.500000  16.666667\n",
       "std    188.953698   1.632993\n",
       "min    101.000000  15.000000\n",
       "25%    227.250000  15.250000\n",
       "50%    353.500000  16.500000\n",
       "75%    479.750000  17.750000\n",
       "max    606.000000  19.000000"
      ]
     },
     "execution_count": 46,
     "metadata": {},
     "output_type": "execute_result"
    }
   ],
   "source": [
    "df.describe()"
   ]
  },
  {
   "cell_type": "code",
   "execution_count": null,
   "id": "312eb5d3-bb69-410e-8979-20f989c28701",
   "metadata": {},
   "outputs": [],
   "source": []
  }
 ],
 "metadata": {
  "kernelspec": {
   "display_name": "Python (myenv)",
   "language": "python",
   "name": "myenv"
  },
  "language_info": {
   "codemirror_mode": {
    "name": "ipython",
    "version": 3
   },
   "file_extension": ".py",
   "mimetype": "text/x-python",
   "name": "python",
   "nbconvert_exporter": "python",
   "pygments_lexer": "ipython3",
   "version": "3.11.7"
  }
 },
 "nbformat": 4,
 "nbformat_minor": 5
}
