{
 "cells": [
  {
   "cell_type": "code",
   "execution_count": 2,
   "id": "c84509cd-a5c1-4a69-aac4-8473cacbaf96",
   "metadata": {},
   "outputs": [
    {
     "name": "stdout",
     "output_type": "stream",
     "text": [
      "Requirement already satisfied: pandas in /opt/anaconda3/lib/python3.11/site-packages (2.1.4)\n",
      "Requirement already satisfied: numpy<2,>=1.23.2 in /opt/anaconda3/lib/python3.11/site-packages (from pandas) (1.26.4)\n",
      "Requirement already satisfied: python-dateutil>=2.8.2 in /opt/anaconda3/lib/python3.11/site-packages (from pandas) (2.8.2)\n",
      "Requirement already satisfied: pytz>=2020.1 in /opt/anaconda3/lib/python3.11/site-packages (from pandas) (2023.3.post1)\n",
      "Requirement already satisfied: tzdata>=2022.1 in /opt/anaconda3/lib/python3.11/site-packages (from pandas) (2023.3)\n",
      "Requirement already satisfied: six>=1.5 in /opt/anaconda3/lib/python3.11/site-packages (from python-dateutil>=2.8.2->pandas) (1.16.0)\n",
      "Note: you may need to restart the kernel to use updated packages.\n"
     ]
    }
   ],
   "source": [
    "pip install pandas\n"
   ]
  },
  {
   "cell_type": "code",
   "execution_count": 4,
   "id": "2216208c-3ead-4693-a5fa-47e370edebf7",
   "metadata": {},
   "outputs": [],
   "source": [
    "import pandas"
   ]
  },
  {
   "cell_type": "code",
   "execution_count": 6,
   "id": "8e324edb-1ba0-40d8-980f-c58b08d5a5df",
   "metadata": {},
   "outputs": [
    {
     "data": {
      "text/plain": [
       "'2.1.4'"
      ]
     },
     "execution_count": 6,
     "metadata": {},
     "output_type": "execute_result"
    }
   ],
   "source": [
    "pandas.__version__"
   ]
  },
  {
   "cell_type": "code",
   "execution_count": 10,
   "id": "cac4c106-4c11-4403-bb7c-fba1172cdd68",
   "metadata": {},
   "outputs": [
    {
     "data": {
      "text/plain": [
       "'2.1.4'"
      ]
     },
     "execution_count": 10,
     "metadata": {},
     "output_type": "execute_result"
    }
   ],
   "source": [
    "import pandas as pd\n",
    "pd.__version__"
   ]
  },
  {
   "cell_type": "code",
   "execution_count": null,
   "id": "25e6f54f-861b-4531-9a9b-3f3e2cdb0e6e",
   "metadata": {},
   "outputs": [],
   "source": []
  },
  {
   "cell_type": "code",
   "execution_count": null,
   "id": "9c2bd758-2e7c-4961-a550-f9e470ad1d90",
   "metadata": {},
   "outputs": [],
   "source": []
  },
  {
   "cell_type": "code",
   "execution_count": 14,
   "id": "907b2912-5a64-47fb-b9ea-effe80a8c864",
   "metadata": {},
   "outputs": [],
   "source": [
    "fruits = [\"Apple\",\"Banana\",\"Cherry\"]"
   ]
  },
  {
   "cell_type": "code",
   "execution_count": 16,
   "id": "a6f82c9e-5154-47a9-b8e3-5241d844f3c5",
   "metadata": {},
   "outputs": [],
   "source": [
    "f = pd.Series(fruits)"
   ]
  },
  {
   "cell_type": "code",
   "execution_count": 20,
   "id": "6a4215b0-fb3f-4c93-99ee-67edd895a0f9",
   "metadata": {},
   "outputs": [
    {
     "name": "stdout",
     "output_type": "stream",
     "text": [
      "0     Apple\n",
      "1    Banana\n",
      "2    Cherry\n",
      "dtype: object\n"
     ]
    }
   ],
   "source": [
    "print(f)"
   ]
  },
  {
   "cell_type": "code",
   "execution_count": null,
   "id": "38b75bee-1dd0-46c1-9f29-20ac2ceee42b",
   "metadata": {},
   "outputs": [],
   "source": []
  },
  {
   "cell_type": "code",
   "execution_count": null,
   "id": "36f071d7-c16f-4089-8767-38ed7351ee87",
   "metadata": {},
   "outputs": [],
   "source": []
  },
  {
   "cell_type": "code",
   "execution_count": 24,
   "id": "ef2d2ade-03cd-4077-b7cc-2b5fe7165744",
   "metadata": {},
   "outputs": [],
   "source": [
    "marks = [23,34,23,45,45]"
   ]
  },
  {
   "cell_type": "code",
   "execution_count": 26,
   "id": "5a0eafb8-d314-4abc-8963-80ff58ba2461",
   "metadata": {},
   "outputs": [],
   "source": [
    "m = pd.Series(marks,index=[\"Vijay\",\"Manish\",\"Rohan\",\"Aryan\",\"Rudr\"])"
   ]
  },
  {
   "cell_type": "code",
   "execution_count": 30,
   "id": "1c23176d-8a6f-4768-b846-a7073d32228a",
   "metadata": {},
   "outputs": [
    {
     "data": {
      "text/plain": [
       "23"
      ]
     },
     "execution_count": 30,
     "metadata": {},
     "output_type": "execute_result"
    }
   ],
   "source": [
    "m[\"Vijay\"]"
   ]
  },
  {
   "cell_type": "code",
   "execution_count": 32,
   "id": "23e26b9b-346b-4503-855b-654c75ddb5d8",
   "metadata": {},
   "outputs": [],
   "source": [
    "thela = {\n",
    "    \"Apple\" : 20,\n",
    "    \"Banana\" : 1,\n",
    "    \"Cherry\" : 2\n",
    "}"
   ]
  },
  {
   "cell_type": "code",
   "execution_count": 34,
   "id": "c1ae6dd9-0290-45f9-8fe6-470f29553479",
   "metadata": {},
   "outputs": [],
   "source": [
    "t = pd.Series(thela)"
   ]
  },
  {
   "cell_type": "code",
   "execution_count": 36,
   "id": "834e0aec-6eba-4ff8-bd5f-7b46aee24466",
   "metadata": {},
   "outputs": [
    {
     "data": {
      "text/plain": [
       "Apple     20\n",
       "Banana     1\n",
       "Cherry     2\n",
       "dtype: int64"
      ]
     },
     "execution_count": 36,
     "metadata": {},
     "output_type": "execute_result"
    }
   ],
   "source": [
    "t"
   ]
  },
  {
   "cell_type": "code",
   "execution_count": null,
   "id": "085984e3-5254-4278-bdac-eddaa992ac44",
   "metadata": {},
   "outputs": [],
   "source": []
  },
  {
   "cell_type": "code",
   "execution_count": 39,
   "id": "c2a07145-499f-480f-97d0-b68055047adb",
   "metadata": {},
   "outputs": [],
   "source": [
    "import numpy as np"
   ]
  },
  {
   "cell_type": "code",
   "execution_count": 83,
   "id": "1b798c4f-fe32-4132-8da6-002d2cfeecbd",
   "metadata": {},
   "outputs": [],
   "source": [
    "x = np.array([12,34,45,44])\n",
    "y = pd.Series(x,[\"a\",\"b\",\"c\",\"d\"])"
   ]
  },
  {
   "cell_type": "code",
   "execution_count": 85,
   "id": "a27ce408-6306-4774-9ac8-d67eba818f6f",
   "metadata": {},
   "outputs": [
    {
     "data": {
      "text/plain": [
       "a    12\n",
       "b    34\n",
       "c    45\n",
       "d    44\n",
       "dtype: int64"
      ]
     },
     "execution_count": 85,
     "metadata": {},
     "output_type": "execute_result"
    }
   ],
   "source": [
    "y"
   ]
  },
  {
   "cell_type": "code",
   "execution_count": 87,
   "id": "94bc468d-a972-4f65-91c2-2c2c40577013",
   "metadata": {},
   "outputs": [],
   "source": [
    "z = pd.Series(5,[\"a\",\"b\",\"c\"])"
   ]
  },
  {
   "cell_type": "code",
   "execution_count": 89,
   "id": "cc7399c5-1b9c-49b2-961b-3b37ace821b0",
   "metadata": {},
   "outputs": [
    {
     "data": {
      "text/plain": [
       "a    5\n",
       "b    5\n",
       "c    5\n",
       "dtype: int64"
      ]
     },
     "execution_count": 89,
     "metadata": {},
     "output_type": "execute_result"
    }
   ],
   "source": [
    "z"
   ]
  },
  {
   "cell_type": "code",
   "execution_count": null,
   "id": "3c4d199d-1afa-4320-9a6e-85bd42992dca",
   "metadata": {},
   "outputs": [],
   "source": []
  },
  {
   "cell_type": "code",
   "execution_count": null,
   "id": "93be7dae-b656-4e54-843b-ee3c67124174",
   "metadata": {},
   "outputs": [],
   "source": []
  },
  {
   "cell_type": "code",
   "execution_count": 99,
   "id": "07071ac1-8cbd-4ff9-ac6d-c458d9143b99",
   "metadata": {},
   "outputs": [
    {
     "name": "stderr",
     "output_type": "stream",
     "text": [
      "/var/folders/8w/_6yjl4k57ns9p16hzp12zgqw0000gn/T/ipykernel_54176/926962809.py:1: FutureWarning: Series.__getitem__ treating keys as positions is deprecated. In a future version, integer keys will always be treated as labels (consistent with DataFrame behavior). To access a value by position, use `ser.iloc[pos]`\n",
      "  y[0]\n"
     ]
    },
    {
     "data": {
      "text/plain": [
       "12"
      ]
     },
     "execution_count": 99,
     "metadata": {},
     "output_type": "execute_result"
    }
   ],
   "source": [
    "y[0]"
   ]
  },
  {
   "cell_type": "code",
   "execution_count": 101,
   "id": "9bcec4a5-74cb-4b12-8bbd-3a163f2a7b04",
   "metadata": {},
   "outputs": [
    {
     "data": {
      "text/plain": [
       "12"
      ]
     },
     "execution_count": 101,
     "metadata": {},
     "output_type": "execute_result"
    }
   ],
   "source": [
    "y[\"a\"]"
   ]
  },
  {
   "cell_type": "code",
   "execution_count": 113,
   "id": "624e41c5-871a-48ce-bb68-1aa9ed203227",
   "metadata": {},
   "outputs": [
    {
     "data": {
      "text/plain": [
       "a    12\n",
       "d    44\n",
       "c    45\n",
       "dtype: int64"
      ]
     },
     "execution_count": 113,
     "metadata": {},
     "output_type": "execute_result"
    }
   ],
   "source": [
    "y[[\"a\",\"d\",\"c\"]]"
   ]
  },
  {
   "cell_type": "code",
   "execution_count": null,
   "id": "69338694-6ce3-4249-af50-56d2821c1b58",
   "metadata": {},
   "outputs": [],
   "source": []
  },
  {
   "cell_type": "code",
   "execution_count": 111,
   "id": "a04f3b26-d676-4335-8fdd-84ee303587cb",
   "metadata": {},
   "outputs": [
    {
     "data": {
      "text/plain": [
       "a    12\n",
       "b    34\n",
       "c    45\n",
       "d    44\n",
       "dtype: int64"
      ]
     },
     "execution_count": 111,
     "metadata": {},
     "output_type": "execute_result"
    }
   ],
   "source": [
    "y[\"a\":\"d\"]"
   ]
  },
  {
   "cell_type": "code",
   "execution_count": 117,
   "id": "b04f4283-ff9c-49d9-9d4b-f75205360e37",
   "metadata": {},
   "outputs": [],
   "source": [
    "y[\"a\"] = 1000"
   ]
  },
  {
   "cell_type": "code",
   "execution_count": 119,
   "id": "8d1329c7-c714-4cf0-987c-0f51e0d47131",
   "metadata": {},
   "outputs": [
    {
     "data": {
      "text/plain": [
       "1000"
      ]
     },
     "execution_count": 119,
     "metadata": {},
     "output_type": "execute_result"
    }
   ],
   "source": [
    "y[\"a\"]"
   ]
  },
  {
   "cell_type": "code",
   "execution_count": 121,
   "id": "dca0ec6a-af16-4dce-adfa-2f8f7997342f",
   "metadata": {},
   "outputs": [
    {
     "data": {
      "text/plain": [
       "a    2000\n",
       "b      68\n",
       "c      90\n",
       "d      88\n",
       "dtype: int64"
      ]
     },
     "execution_count": 121,
     "metadata": {},
     "output_type": "execute_result"
    }
   ],
   "source": [
    "y * 2"
   ]
  },
  {
   "cell_type": "code",
   "execution_count": 123,
   "id": "4e3071c1-9f08-40f5-ac09-3ba5a9c12cbb",
   "metadata": {},
   "outputs": [
    {
     "data": {
      "text/plain": [
       "a    1000\n",
       "b      34\n",
       "c      45\n",
       "d      44\n",
       "dtype: int64"
      ]
     },
     "execution_count": 123,
     "metadata": {},
     "output_type": "execute_result"
    }
   ],
   "source": [
    "y"
   ]
  },
  {
   "cell_type": "code",
   "execution_count": 125,
   "id": "b0fcac36-7fd9-4acc-9694-307caf0a29c3",
   "metadata": {},
   "outputs": [
    {
     "data": {
      "text/plain": [
       "a    1000\n",
       "b      34\n",
       "d      44\n",
       "dtype: int64"
      ]
     },
     "execution_count": 125,
     "metadata": {},
     "output_type": "execute_result"
    }
   ],
   "source": [
    "y[y%2==0]"
   ]
  },
  {
   "cell_type": "code",
   "execution_count": null,
   "id": "8ca7f807-f6d2-44e3-8ff9-0e324b198d52",
   "metadata": {},
   "outputs": [],
   "source": []
  },
  {
   "cell_type": "code",
   "execution_count": null,
   "id": "2ff9c1ea-014b-4e84-9352-90912d0aae4a",
   "metadata": {},
   "outputs": [],
   "source": []
  },
  {
   "cell_type": "code",
   "execution_count": 129,
   "id": "8a026d13-7682-485b-9941-cdf82b9bb9e6",
   "metadata": {},
   "outputs": [
    {
     "data": {
      "text/plain": [
       "array([1000,   34,   45,   44])"
      ]
     },
     "execution_count": 129,
     "metadata": {},
     "output_type": "execute_result"
    }
   ],
   "source": [
    "y.values"
   ]
  },
  {
   "cell_type": "code",
   "execution_count": 131,
   "id": "e5f303e5-eb1a-4c40-9976-763b0ac0b971",
   "metadata": {},
   "outputs": [
    {
     "data": {
      "text/plain": [
       "Index(['a', 'b', 'c', 'd'], dtype='object')"
      ]
     },
     "execution_count": 131,
     "metadata": {},
     "output_type": "execute_result"
    }
   ],
   "source": [
    "y.index"
   ]
  },
  {
   "cell_type": "code",
   "execution_count": null,
   "id": "2e815806-537b-48b9-99ac-4872dc609640",
   "metadata": {},
   "outputs": [],
   "source": []
  },
  {
   "cell_type": "code",
   "execution_count": 134,
   "id": "98e9a8b9-f307-473e-b9ae-460d671d1f3f",
   "metadata": {},
   "outputs": [
    {
     "data": {
      "text/plain": [
       "count       4.000000\n",
       "mean      280.750000\n",
       "std       479.525721\n",
       "min        34.000000\n",
       "25%        41.500000\n",
       "50%        44.500000\n",
       "75%       283.750000\n",
       "max      1000.000000\n",
       "dtype: float64"
      ]
     },
     "execution_count": 134,
     "metadata": {},
     "output_type": "execute_result"
    }
   ],
   "source": [
    "y.describe()"
   ]
  },
  {
   "cell_type": "code",
   "execution_count": 144,
   "id": "8c1e18d0-6939-459e-bcb8-71b4a517975c",
   "metadata": {},
   "outputs": [
    {
     "data": {
      "text/plain": [
       "a    1000\n",
       "c      45\n",
       "d      44\n",
       "b      34\n",
       "dtype: int64"
      ]
     },
     "execution_count": 144,
     "metadata": {},
     "output_type": "execute_result"
    }
   ],
   "source": [
    "y.sort_values(ascending=False)"
   ]
  },
  {
   "cell_type": "code",
   "execution_count": null,
   "id": "5186103e-372a-46cd-a0e5-0fd6b3fd58dc",
   "metadata": {},
   "outputs": [],
   "source": []
  },
  {
   "cell_type": "code",
   "execution_count": 149,
   "id": "a20d0966-be4a-42d2-bf3c-734f73430eb9",
   "metadata": {},
   "outputs": [
    {
     "data": {
      "text/plain": [
       "[1000, 34, 45, 44]"
      ]
     },
     "execution_count": 149,
     "metadata": {},
     "output_type": "execute_result"
    }
   ],
   "source": [
    "y.to_list()"
   ]
  },
  {
   "cell_type": "code",
   "execution_count": null,
   "id": "33830379-af25-4f73-bbba-29acc092def0",
   "metadata": {},
   "outputs": [],
   "source": []
  },
  {
   "cell_type": "code",
   "execution_count": 225,
   "id": "98ef6a9b-1fe7-4e5f-909e-d130d0eff906",
   "metadata": {},
   "outputs": [
    {
     "data": {
      "text/html": [
       "<div>\n",
       "<style scoped>\n",
       "    .dataframe tbody tr th:only-of-type {\n",
       "        vertical-align: middle;\n",
       "    }\n",
       "\n",
       "    .dataframe tbody tr th {\n",
       "        vertical-align: top;\n",
       "    }\n",
       "\n",
       "    .dataframe thead th {\n",
       "        text-align: right;\n",
       "    }\n",
       "</style>\n",
       "<table border=\"1\" class=\"dataframe\">\n",
       "  <thead>\n",
       "    <tr style=\"text-align: right;\">\n",
       "      <th></th>\n",
       "      <th>Email</th>\n",
       "      <th>ID</th>\n",
       "      <th>First_name</th>\n",
       "      <th>Last_name</th>\n",
       "    </tr>\n",
       "  </thead>\n",
       "  <tbody>\n",
       "    <tr>\n",
       "      <th>0</th>\n",
       "      <td>Login email</td>\n",
       "      <td>Identifier</td>\n",
       "      <td>First name</td>\n",
       "      <td>Last name</td>\n",
       "    </tr>\n",
       "    <tr>\n",
       "      <th>1</th>\n",
       "      <td>laura@example.com</td>\n",
       "      <td>2070</td>\n",
       "      <td>Laura</td>\n",
       "      <td>Grey</td>\n",
       "    </tr>\n",
       "    <tr>\n",
       "      <th>2</th>\n",
       "      <td>craig@example.com</td>\n",
       "      <td>4081</td>\n",
       "      <td>Craig</td>\n",
       "      <td>Johnson</td>\n",
       "    </tr>\n",
       "    <tr>\n",
       "      <th>3</th>\n",
       "      <td>mary@example.com</td>\n",
       "      <td>9346</td>\n",
       "      <td>Mary</td>\n",
       "      <td>Jenkins</td>\n",
       "    </tr>\n",
       "    <tr>\n",
       "      <th>4</th>\n",
       "      <td>jamie@example.com</td>\n",
       "      <td>5079</td>\n",
       "      <td>Jamie</td>\n",
       "      <td>Smith</td>\n",
       "    </tr>\n",
       "  </tbody>\n",
       "</table>\n",
       "</div>"
      ],
      "text/plain": [
       "               Email          ID  First_name  Last_name\n",
       "0        Login email  Identifier  First name  Last name\n",
       "1  laura@example.com        2070       Laura       Grey\n",
       "2  craig@example.com        4081       Craig    Johnson\n",
       "3   mary@example.com        9346        Mary    Jenkins\n",
       "4  jamie@example.com        5079       Jamie      Smith"
      ]
     },
     "execution_count": 225,
     "metadata": {},
     "output_type": "execute_result"
    }
   ],
   "source": [
    "df"
   ]
  },
  {
   "cell_type": "code",
   "execution_count": 236,
   "id": "080a85db-567b-4847-920d-bf4686a5df9f",
   "metadata": {},
   "outputs": [],
   "source": [
    "df = pd.read_csv(\"./email.csv\",delimiter=\";\")"
   ]
  },
  {
   "cell_type": "code",
   "execution_count": 238,
   "id": "9d05e679-484c-4a13-bf6f-c1d2d0b63d19",
   "metadata": {},
   "outputs": [],
   "source": [
    "x = df[\"First name\"]"
   ]
  },
  {
   "cell_type": "code",
   "execution_count": 231,
   "id": "148fe2d8-996c-42ed-9e16-e4f2957537c6",
   "metadata": {},
   "outputs": [
    {
     "data": {
      "text/plain": [
       "0    First name\n",
       "1         Laura\n",
       "2         Craig\n",
       "3          Mary\n",
       "4         Jamie\n",
       "Name: First_name, dtype: object"
      ]
     },
     "execution_count": 231,
     "metadata": {},
     "output_type": "execute_result"
    }
   ],
   "source": [
    "x"
   ]
  },
  {
   "cell_type": "code",
   "execution_count": 233,
   "id": "c8f3b9cd-3d31-4149-a578-504f788a38a0",
   "metadata": {},
   "outputs": [
    {
     "data": {
      "text/plain": [
       "Index(['Login email', 'Identifier', 'First name', 'Last name'], dtype='object')"
      ]
     },
     "execution_count": 233,
     "metadata": {},
     "output_type": "execute_result"
    }
   ],
   "source": [
    "df.columns"
   ]
  },
  {
   "cell_type": "code",
   "execution_count": null,
   "id": "149d7403-e6a3-4115-9c62-2ec67cb3c1f4",
   "metadata": {},
   "outputs": [],
   "source": [
    "\n"
   ]
  },
  {
   "cell_type": "code",
   "execution_count": null,
   "id": "36b4a773-3a6a-4b67-9f22-28787011040f",
   "metadata": {},
   "outputs": [],
   "source": []
  },
  {
   "cell_type": "code",
   "execution_count": null,
   "id": "2d159459-1bc9-4f9f-a18d-4e8eacbfda74",
   "metadata": {},
   "outputs": [],
   "source": []
  },
  {
   "cell_type": "code",
   "execution_count": null,
   "id": "c7793907-08ba-49c3-a8e1-174120e899a1",
   "metadata": {},
   "outputs": [],
   "source": []
  },
  {
   "cell_type": "code",
   "execution_count": null,
   "id": "d4ddd859-7ec1-4737-9855-15a64f700dc0",
   "metadata": {},
   "outputs": [],
   "source": []
  },
  {
   "cell_type": "code",
   "execution_count": 251,
   "id": "1cb89ad7-90dc-4882-8bef-5ba8bb6bc673",
   "metadata": {},
   "outputs": [],
   "source": [
    "df = pd.read_csv(\"./email.csv\",delimiter=\";\")"
   ]
  },
  {
   "cell_type": "code",
   "execution_count": 253,
   "id": "f0fd87b3-c86b-4cc3-8e1d-05775a319069",
   "metadata": {},
   "outputs": [
    {
     "data": {
      "text/html": [
       "<div>\n",
       "<style scoped>\n",
       "    .dataframe tbody tr th:only-of-type {\n",
       "        vertical-align: middle;\n",
       "    }\n",
       "\n",
       "    .dataframe tbody tr th {\n",
       "        vertical-align: top;\n",
       "    }\n",
       "\n",
       "    .dataframe thead th {\n",
       "        text-align: right;\n",
       "    }\n",
       "</style>\n",
       "<table border=\"1\" class=\"dataframe\">\n",
       "  <thead>\n",
       "    <tr style=\"text-align: right;\">\n",
       "      <th></th>\n",
       "      <th>Login email</th>\n",
       "      <th>Identifier</th>\n",
       "      <th>First name</th>\n",
       "      <th>Last name</th>\n",
       "    </tr>\n",
       "  </thead>\n",
       "  <tbody>\n",
       "    <tr>\n",
       "      <th>0</th>\n",
       "      <td>laura@example.com</td>\n",
       "      <td>2070</td>\n",
       "      <td>Laura</td>\n",
       "      <td>Grey</td>\n",
       "    </tr>\n",
       "    <tr>\n",
       "      <th>1</th>\n",
       "      <td>craig@example.com</td>\n",
       "      <td>4081</td>\n",
       "      <td>Craig</td>\n",
       "      <td>Johnson</td>\n",
       "    </tr>\n",
       "    <tr>\n",
       "      <th>2</th>\n",
       "      <td>mary@example.com</td>\n",
       "      <td>9346</td>\n",
       "      <td>Mary</td>\n",
       "      <td>Jenkins</td>\n",
       "    </tr>\n",
       "    <tr>\n",
       "      <th>3</th>\n",
       "      <td>jamie@example.com</td>\n",
       "      <td>5079</td>\n",
       "      <td>Jamie</td>\n",
       "      <td>Smith</td>\n",
       "    </tr>\n",
       "  </tbody>\n",
       "</table>\n",
       "</div>"
      ],
      "text/plain": [
       "         Login email  Identifier First name Last name\n",
       "0  laura@example.com        2070      Laura      Grey\n",
       "1  craig@example.com        4081      Craig   Johnson\n",
       "2   mary@example.com        9346       Mary   Jenkins\n",
       "3  jamie@example.com        5079      Jamie     Smith"
      ]
     },
     "execution_count": 253,
     "metadata": {},
     "output_type": "execute_result"
    }
   ],
   "source": [
    "df"
   ]
  },
  {
   "cell_type": "code",
   "execution_count": null,
   "id": "9dae8347-3b79-40cb-926b-be621885fec9",
   "metadata": {},
   "outputs": [],
   "source": []
  }
 ],
 "metadata": {
  "kernelspec": {
   "display_name": "Python (myenv)",
   "language": "python",
   "name": "myenv"
  },
  "language_info": {
   "codemirror_mode": {
    "name": "ipython",
    "version": 3
   },
   "file_extension": ".py",
   "mimetype": "text/x-python",
   "name": "python",
   "nbconvert_exporter": "python",
   "pygments_lexer": "ipython3",
   "version": "3.11.7"
  }
 },
 "nbformat": 4,
 "nbformat_minor": 5
}
