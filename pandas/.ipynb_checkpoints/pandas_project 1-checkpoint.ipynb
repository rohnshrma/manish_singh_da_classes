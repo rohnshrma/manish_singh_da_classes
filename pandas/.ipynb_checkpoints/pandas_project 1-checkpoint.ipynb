{
 "cells": [
  {
   "cell_type": "code",
   "execution_count": 1,
   "id": "9574b41e-f899-4d5c-8cb0-ff8872b32244",
   "metadata": {},
   "outputs": [],
   "source": [
    "# Project 1: Student Marks Analyzer – Tasks\n",
    "# \t1.\tCreate a CSV file named students.csv with columns: Name, Math, Science, English.\n",
    "# \t2.\tRead the CSV file using Pandas into a DataFrame.\n",
    "# \t3.\tDisplay the original data.\n",
    "# \t4.\tCalculate the total marks for each student.\n",
    "# \t5.\tCalculate the percentage based on total marks out of 300.\n",
    "# \t6.\tCreate a function to assign grades (A+, A, B, C, F) based on percentage.\n",
    "# \t7.\tApply the function to assign grades for each student.\n",
    "# \t8.\tAdd the Total, Percentage, and Grade columns to the DataFrame.\n",
    "# \t9.\tDisplay the updated DataFrame with new columns.\n",
    "# \t10.\tSave the final data to a new CSV file named students_result.csv.\n",
    "\n"
   ]
  },
  {
   "cell_type": "code",
   "execution_count": 3,
   "id": "65f4b40b-b785-44e7-8ff3-2d49bb7ae556",
   "metadata": {},
   "outputs": [],
   "source": [
    "import pandas as pd"
   ]
  },
  {
   "cell_type": "code",
   "execution_count": 5,
   "id": "2c9cf101-43a2-486e-9063-fc1f4cb4afcd",
   "metadata": {},
   "outputs": [],
   "source": [
    "df = pd.read_csv(\"students.csv\")"
   ]
  },
  {
   "cell_type": "code",
   "execution_count": 9,
   "id": "e862f068-c488-4ed0-bbb9-643db12657de",
   "metadata": {},
   "outputs": [
    {
     "name": "stdout",
     "output_type": "stream",
     "text": [
      "Orignal Data : \n",
      "      Name  Math  Science  English\n",
      "0    Amit    78       88       94\n",
      "1    Neha    65       70       80\n",
      "2   Rahul    90       95       85\n",
      "3   Priya    55       60       58\n",
      "4  Suresh    85       78       82\n",
      "5  Anjali    92       89       94\n",
      "6   Karan    60       75       68\n",
      "7   Pooja    72       84       77\n",
      "8  Vikram    88       90       91\n",
      "9   Divya    67       73       79\n"
     ]
    }
   ],
   "source": [
    "print(\"Orignal Data : \\n\", df)"
   ]
  },
  {
   "cell_type": "code",
   "execution_count": 11,
   "id": "e2fb7b5e-58b4-4a78-a374-f03fa7111404",
   "metadata": {},
   "outputs": [],
   "source": [
    "df[\"Total\"] = df[[\"Math\",\"Science\",\"English\"]].sum(axis=1)"
   ]
  },
  {
   "cell_type": "code",
   "execution_count": 13,
   "id": "8d586f18-8b91-406f-acad-330ed872d25e",
   "metadata": {},
   "outputs": [
    {
     "name": "stdout",
     "output_type": "stream",
     "text": [
      "     Name  Math  Science  English  Total\n",
      "0    Amit    78       88       94    260\n",
      "1    Neha    65       70       80    215\n",
      "2   Rahul    90       95       85    270\n",
      "3   Priya    55       60       58    173\n",
      "4  Suresh    85       78       82    245\n",
      "5  Anjali    92       89       94    275\n",
      "6   Karan    60       75       68    203\n",
      "7   Pooja    72       84       77    233\n",
      "8  Vikram    88       90       91    269\n",
      "9   Divya    67       73       79    219\n"
     ]
    }
   ],
   "source": [
    "print(df)"
   ]
  },
  {
   "cell_type": "code",
   "execution_count": 15,
   "id": "716f31f0-481f-4c88-b7bf-c27a607131d2",
   "metadata": {},
   "outputs": [],
   "source": [
    "df[\"Percentage\"] = df[\"Total\"] / 300*100"
   ]
  },
  {
   "cell_type": "code",
   "execution_count": 17,
   "id": "bc02033a-4319-4a06-8e2d-f439c5074726",
   "metadata": {},
   "outputs": [
    {
     "name": "stdout",
     "output_type": "stream",
     "text": [
      "     Name  Math  Science  English  Total  Percentage\n",
      "0    Amit    78       88       94    260   86.666667\n",
      "1    Neha    65       70       80    215   71.666667\n",
      "2   Rahul    90       95       85    270   90.000000\n",
      "3   Priya    55       60       58    173   57.666667\n",
      "4  Suresh    85       78       82    245   81.666667\n",
      "5  Anjali    92       89       94    275   91.666667\n",
      "6   Karan    60       75       68    203   67.666667\n",
      "7   Pooja    72       84       77    233   77.666667\n",
      "8  Vikram    88       90       91    269   89.666667\n",
      "9   Divya    67       73       79    219   73.000000\n"
     ]
    }
   ],
   "source": [
    "print(df)"
   ]
  },
  {
   "cell_type": "code",
   "execution_count": 19,
   "id": "e81516e9-1b05-449f-b538-cc314bc31dba",
   "metadata": {},
   "outputs": [],
   "source": [
    "def check_per(perc):\n",
    "    if perc >= 90:\n",
    "        return \"A+\"\n",
    "    elif perc >= 75:\n",
    "        return \"A\"\n",
    "    elif perc >= 60:\n",
    "        return \"B\"\n",
    "    elif perc >= 40:\n",
    "        return \"C\"\n",
    "    else:\n",
    "        return \"F\""
   ]
  },
  {
   "cell_type": "code",
   "execution_count": 21,
   "id": "b069055c-ca98-4664-b754-ab633aa7e32c",
   "metadata": {},
   "outputs": [],
   "source": [
    "df[\"Grade\"] = df[\"Percentage\"].apply(check_per)"
   ]
  },
  {
   "cell_type": "code",
   "execution_count": 23,
   "id": "8be9a3e0-4274-4cc6-b444-64cb3545baaa",
   "metadata": {},
   "outputs": [
    {
     "name": "stdout",
     "output_type": "stream",
     "text": [
      "     Name  Math  Science  English  Total  Percentage Grade\n",
      "0    Amit    78       88       94    260   86.666667     A\n",
      "1    Neha    65       70       80    215   71.666667     B\n",
      "2   Rahul    90       95       85    270   90.000000    A+\n",
      "3   Priya    55       60       58    173   57.666667     C\n",
      "4  Suresh    85       78       82    245   81.666667     A\n",
      "5  Anjali    92       89       94    275   91.666667    A+\n",
      "6   Karan    60       75       68    203   67.666667     B\n",
      "7   Pooja    72       84       77    233   77.666667     A\n",
      "8  Vikram    88       90       91    269   89.666667     A\n",
      "9   Divya    67       73       79    219   73.000000     B\n"
     ]
    }
   ],
   "source": [
    "print(df)"
   ]
  },
  {
   "cell_type": "code",
   "execution_count": 25,
   "id": "ed69a239-e84b-4493-9020-5701d0789bff",
   "metadata": {},
   "outputs": [
    {
     "data": {
      "text/plain": [
       "'/Users/rohan/Desktop/Rohan Desktop/Classes/manish python classes/pandas'"
      ]
     },
     "execution_count": 25,
     "metadata": {},
     "output_type": "execute_result"
    }
   ],
   "source": [
    "pwd"
   ]
  },
  {
   "cell_type": "code",
   "execution_count": 29,
   "id": "f6ab3edd-df99-42ea-8104-db6f3fa95bc6",
   "metadata": {},
   "outputs": [],
   "source": [
    "df.to_csv(\"/Users/rohan/Desktop/Rohan Desktop/Classes/manish python classes/pandas/updated_students_data.csv\",index=False)"
   ]
  },
  {
   "cell_type": "code",
   "execution_count": null,
   "id": "fc333d12-2dd5-493d-8e1d-409264cd412f",
   "metadata": {},
   "outputs": [],
   "source": []
  }
 ],
 "metadata": {
  "kernelspec": {
   "display_name": "Python (myenv)",
   "language": "python",
   "name": "myenv"
  },
  "language_info": {
   "codemirror_mode": {
    "name": "ipython",
    "version": 3
   },
   "file_extension": ".py",
   "mimetype": "text/x-python",
   "name": "python",
   "nbconvert_exporter": "python",
   "pygments_lexer": "ipython3",
   "version": "3.11.7"
  }
 },
 "nbformat": 4,
 "nbformat_minor": 5
}
