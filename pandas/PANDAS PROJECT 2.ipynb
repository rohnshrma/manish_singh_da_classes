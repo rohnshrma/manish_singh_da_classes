{
 "cells": [
  {
   "cell_type": "code",
   "execution_count": 2,
   "id": "a41a871c-8aaa-4c67-a508-4de91bcee35a",
   "metadata": {},
   "outputs": [],
   "source": [
    "# Project 2: Monthly Sales Summary – Tasks\n",
    "# \t1.\tCreate a CSV file named sales.csv with columns: Product, January, February, March.\n",
    "# \t2.\tRead the CSV file using Pandas into a DataFrame.\n",
    "# \t3.\tDisplay the original sales data.\n",
    "# \t4.\tCalculate the total sales for each product across the three months.\n",
    "# \t5.\tIdentify the product with the highest total sales.\n",
    "# \t6.\tCalculate the average monthly sales for each product.\n",
    "# \t7.\tAdd the Total_Sales and Average_Sales columns to the DataFrame.\n",
    "# \t8.\tDisplay the final DataFrame with all new columns.\n",
    "# \t9.\tSave the updated data to a new CSV file named sales_summary.csv."
   ]
  },
  {
   "cell_type": "code",
   "execution_count": 4,
   "id": "b3f8bb8a-e55e-4474-a580-fcaa5477d1ab",
   "metadata": {},
   "outputs": [],
   "source": [
    "import pandas as pd"
   ]
  },
  {
   "cell_type": "code",
   "execution_count": 6,
   "id": "94cadf64-e752-43c8-b5c9-b084c64a7707",
   "metadata": {},
   "outputs": [],
   "source": [
    "df = pd.read_csv(\"./sales.csv\")\n"
   ]
  },
  {
   "cell_type": "code",
   "execution_count": 8,
   "id": "60da64f4-ac8c-464b-9418-c53e506293d9",
   "metadata": {},
   "outputs": [
    {
     "name": "stdout",
     "output_type": "stream",
     "text": [
      "Orignal Data:\n",
      "\t               Product  January  February  March\n",
      "0    Parle-G Biscuits    12000     13500  12800\n",
      "1           Amul Milk    18000     17500  19000\n",
      "2           Tata Salt     9500     10000   9700\n",
      "3      Maggie Noodles    15000     16000  15800\n",
      "4  Colgate Toothpaste     8000      8200   8300\n",
      "5     Aashirvaad Atta    11000     11200  11500\n",
      "6     Godrej Hair Dye     5000      4800   4900\n",
      "7         Dettol Soap     7000      7500   7400\n",
      "8   Lifebuoy Handwash     6000      6200   6100\n",
      "9           Bournvita     4500      4700   4900\n"
     ]
    }
   ],
   "source": [
    "print(\"Orignal Data:\\n\\t\",df )"
   ]
  },
  {
   "cell_type": "code",
   "execution_count": 10,
   "id": "3d4459e7-7297-488e-98a8-5cb932206b08",
   "metadata": {},
   "outputs": [],
   "source": [
    "df[\"Total Sales\"] = df[[\"January\",\"February\",\"March\"]].sum(axis=1)"
   ]
  },
  {
   "cell_type": "code",
   "execution_count": 12,
   "id": "afa93a6e-4ad1-43be-82cc-0def6da5ba0e",
   "metadata": {},
   "outputs": [
    {
     "data": {
      "text/html": [
       "<div>\n",
       "<style scoped>\n",
       "    .dataframe tbody tr th:only-of-type {\n",
       "        vertical-align: middle;\n",
       "    }\n",
       "\n",
       "    .dataframe tbody tr th {\n",
       "        vertical-align: top;\n",
       "    }\n",
       "\n",
       "    .dataframe thead th {\n",
       "        text-align: right;\n",
       "    }\n",
       "</style>\n",
       "<table border=\"1\" class=\"dataframe\">\n",
       "  <thead>\n",
       "    <tr style=\"text-align: right;\">\n",
       "      <th></th>\n",
       "      <th>Product</th>\n",
       "      <th>January</th>\n",
       "      <th>February</th>\n",
       "      <th>March</th>\n",
       "      <th>Total Sales</th>\n",
       "    </tr>\n",
       "  </thead>\n",
       "  <tbody>\n",
       "    <tr>\n",
       "      <th>0</th>\n",
       "      <td>Parle-G Biscuits</td>\n",
       "      <td>12000</td>\n",
       "      <td>13500</td>\n",
       "      <td>12800</td>\n",
       "      <td>38300</td>\n",
       "    </tr>\n",
       "    <tr>\n",
       "      <th>1</th>\n",
       "      <td>Amul Milk</td>\n",
       "      <td>18000</td>\n",
       "      <td>17500</td>\n",
       "      <td>19000</td>\n",
       "      <td>54500</td>\n",
       "    </tr>\n",
       "    <tr>\n",
       "      <th>2</th>\n",
       "      <td>Tata Salt</td>\n",
       "      <td>9500</td>\n",
       "      <td>10000</td>\n",
       "      <td>9700</td>\n",
       "      <td>29200</td>\n",
       "    </tr>\n",
       "    <tr>\n",
       "      <th>3</th>\n",
       "      <td>Maggie Noodles</td>\n",
       "      <td>15000</td>\n",
       "      <td>16000</td>\n",
       "      <td>15800</td>\n",
       "      <td>46800</td>\n",
       "    </tr>\n",
       "    <tr>\n",
       "      <th>4</th>\n",
       "      <td>Colgate Toothpaste</td>\n",
       "      <td>8000</td>\n",
       "      <td>8200</td>\n",
       "      <td>8300</td>\n",
       "      <td>24500</td>\n",
       "    </tr>\n",
       "    <tr>\n",
       "      <th>5</th>\n",
       "      <td>Aashirvaad Atta</td>\n",
       "      <td>11000</td>\n",
       "      <td>11200</td>\n",
       "      <td>11500</td>\n",
       "      <td>33700</td>\n",
       "    </tr>\n",
       "    <tr>\n",
       "      <th>6</th>\n",
       "      <td>Godrej Hair Dye</td>\n",
       "      <td>5000</td>\n",
       "      <td>4800</td>\n",
       "      <td>4900</td>\n",
       "      <td>14700</td>\n",
       "    </tr>\n",
       "    <tr>\n",
       "      <th>7</th>\n",
       "      <td>Dettol Soap</td>\n",
       "      <td>7000</td>\n",
       "      <td>7500</td>\n",
       "      <td>7400</td>\n",
       "      <td>21900</td>\n",
       "    </tr>\n",
       "    <tr>\n",
       "      <th>8</th>\n",
       "      <td>Lifebuoy Handwash</td>\n",
       "      <td>6000</td>\n",
       "      <td>6200</td>\n",
       "      <td>6100</td>\n",
       "      <td>18300</td>\n",
       "    </tr>\n",
       "    <tr>\n",
       "      <th>9</th>\n",
       "      <td>Bournvita</td>\n",
       "      <td>4500</td>\n",
       "      <td>4700</td>\n",
       "      <td>4900</td>\n",
       "      <td>14100</td>\n",
       "    </tr>\n",
       "  </tbody>\n",
       "</table>\n",
       "</div>"
      ],
      "text/plain": [
       "              Product  January  February  March  Total Sales\n",
       "0    Parle-G Biscuits    12000     13500  12800        38300\n",
       "1           Amul Milk    18000     17500  19000        54500\n",
       "2           Tata Salt     9500     10000   9700        29200\n",
       "3      Maggie Noodles    15000     16000  15800        46800\n",
       "4  Colgate Toothpaste     8000      8200   8300        24500\n",
       "5     Aashirvaad Atta    11000     11200  11500        33700\n",
       "6     Godrej Hair Dye     5000      4800   4900        14700\n",
       "7         Dettol Soap     7000      7500   7400        21900\n",
       "8   Lifebuoy Handwash     6000      6200   6100        18300\n",
       "9           Bournvita     4500      4700   4900        14100"
      ]
     },
     "execution_count": 12,
     "metadata": {},
     "output_type": "execute_result"
    }
   ],
   "source": [
    "df"
   ]
  },
  {
   "cell_type": "code",
   "execution_count": 14,
   "id": "c223db7e-9875-41d5-8665-9a352daabdc4",
   "metadata": {},
   "outputs": [],
   "source": [
    "max_sales = df[\"Total Sales\"].max()"
   ]
  },
  {
   "cell_type": "code",
   "execution_count": 16,
   "id": "5a124b17-90c1-45e7-9b4b-72b6ed950309",
   "metadata": {},
   "outputs": [
    {
     "data": {
      "text/plain": [
       "54500"
      ]
     },
     "execution_count": 16,
     "metadata": {},
     "output_type": "execute_result"
    }
   ],
   "source": [
    "max_sales"
   ]
  },
  {
   "cell_type": "code",
   "execution_count": 29,
   "id": "a9a93f9f-d229-4951-b536-fd880eb53c66",
   "metadata": {},
   "outputs": [],
   "source": [
    "top_product = df[df[\"Total Sales\"] == max_sales][\"Product\"].values[0]"
   ]
  },
  {
   "cell_type": "code",
   "execution_count": 31,
   "id": "f91374a7-1b5d-4bb8-ab9e-0beb0156ef29",
   "metadata": {},
   "outputs": [
    {
     "data": {
      "text/plain": [
       "'Amul Milk'"
      ]
     },
     "execution_count": 31,
     "metadata": {},
     "output_type": "execute_result"
    }
   ],
   "source": [
    "top_product"
   ]
  },
  {
   "cell_type": "code",
   "execution_count": 33,
   "id": "8cd2ab16-4190-4e59-a679-4f45062c4e4b",
   "metadata": {},
   "outputs": [],
   "source": [
    "df[\"Average Sales\"] = df[[\"January\",\"February\",\"March\"]].mean(axis=1)"
   ]
  },
  {
   "cell_type": "code",
   "execution_count": 35,
   "id": "2b52724e-8730-4c61-94e5-d5113949f896",
   "metadata": {},
   "outputs": [
    {
     "data": {
      "text/html": [
       "<div>\n",
       "<style scoped>\n",
       "    .dataframe tbody tr th:only-of-type {\n",
       "        vertical-align: middle;\n",
       "    }\n",
       "\n",
       "    .dataframe tbody tr th {\n",
       "        vertical-align: top;\n",
       "    }\n",
       "\n",
       "    .dataframe thead th {\n",
       "        text-align: right;\n",
       "    }\n",
       "</style>\n",
       "<table border=\"1\" class=\"dataframe\">\n",
       "  <thead>\n",
       "    <tr style=\"text-align: right;\">\n",
       "      <th></th>\n",
       "      <th>Product</th>\n",
       "      <th>January</th>\n",
       "      <th>February</th>\n",
       "      <th>March</th>\n",
       "      <th>Total Sales</th>\n",
       "      <th>Average Sales</th>\n",
       "    </tr>\n",
       "  </thead>\n",
       "  <tbody>\n",
       "    <tr>\n",
       "      <th>0</th>\n",
       "      <td>Parle-G Biscuits</td>\n",
       "      <td>12000</td>\n",
       "      <td>13500</td>\n",
       "      <td>12800</td>\n",
       "      <td>38300</td>\n",
       "      <td>12766.666667</td>\n",
       "    </tr>\n",
       "    <tr>\n",
       "      <th>1</th>\n",
       "      <td>Amul Milk</td>\n",
       "      <td>18000</td>\n",
       "      <td>17500</td>\n",
       "      <td>19000</td>\n",
       "      <td>54500</td>\n",
       "      <td>18166.666667</td>\n",
       "    </tr>\n",
       "    <tr>\n",
       "      <th>2</th>\n",
       "      <td>Tata Salt</td>\n",
       "      <td>9500</td>\n",
       "      <td>10000</td>\n",
       "      <td>9700</td>\n",
       "      <td>29200</td>\n",
       "      <td>9733.333333</td>\n",
       "    </tr>\n",
       "    <tr>\n",
       "      <th>3</th>\n",
       "      <td>Maggie Noodles</td>\n",
       "      <td>15000</td>\n",
       "      <td>16000</td>\n",
       "      <td>15800</td>\n",
       "      <td>46800</td>\n",
       "      <td>15600.000000</td>\n",
       "    </tr>\n",
       "    <tr>\n",
       "      <th>4</th>\n",
       "      <td>Colgate Toothpaste</td>\n",
       "      <td>8000</td>\n",
       "      <td>8200</td>\n",
       "      <td>8300</td>\n",
       "      <td>24500</td>\n",
       "      <td>8166.666667</td>\n",
       "    </tr>\n",
       "    <tr>\n",
       "      <th>5</th>\n",
       "      <td>Aashirvaad Atta</td>\n",
       "      <td>11000</td>\n",
       "      <td>11200</td>\n",
       "      <td>11500</td>\n",
       "      <td>33700</td>\n",
       "      <td>11233.333333</td>\n",
       "    </tr>\n",
       "    <tr>\n",
       "      <th>6</th>\n",
       "      <td>Godrej Hair Dye</td>\n",
       "      <td>5000</td>\n",
       "      <td>4800</td>\n",
       "      <td>4900</td>\n",
       "      <td>14700</td>\n",
       "      <td>4900.000000</td>\n",
       "    </tr>\n",
       "    <tr>\n",
       "      <th>7</th>\n",
       "      <td>Dettol Soap</td>\n",
       "      <td>7000</td>\n",
       "      <td>7500</td>\n",
       "      <td>7400</td>\n",
       "      <td>21900</td>\n",
       "      <td>7300.000000</td>\n",
       "    </tr>\n",
       "    <tr>\n",
       "      <th>8</th>\n",
       "      <td>Lifebuoy Handwash</td>\n",
       "      <td>6000</td>\n",
       "      <td>6200</td>\n",
       "      <td>6100</td>\n",
       "      <td>18300</td>\n",
       "      <td>6100.000000</td>\n",
       "    </tr>\n",
       "    <tr>\n",
       "      <th>9</th>\n",
       "      <td>Bournvita</td>\n",
       "      <td>4500</td>\n",
       "      <td>4700</td>\n",
       "      <td>4900</td>\n",
       "      <td>14100</td>\n",
       "      <td>4700.000000</td>\n",
       "    </tr>\n",
       "  </tbody>\n",
       "</table>\n",
       "</div>"
      ],
      "text/plain": [
       "              Product  January  February  March  Total Sales  Average Sales\n",
       "0    Parle-G Biscuits    12000     13500  12800        38300   12766.666667\n",
       "1           Amul Milk    18000     17500  19000        54500   18166.666667\n",
       "2           Tata Salt     9500     10000   9700        29200    9733.333333\n",
       "3      Maggie Noodles    15000     16000  15800        46800   15600.000000\n",
       "4  Colgate Toothpaste     8000      8200   8300        24500    8166.666667\n",
       "5     Aashirvaad Atta    11000     11200  11500        33700   11233.333333\n",
       "6     Godrej Hair Dye     5000      4800   4900        14700    4900.000000\n",
       "7         Dettol Soap     7000      7500   7400        21900    7300.000000\n",
       "8   Lifebuoy Handwash     6000      6200   6100        18300    6100.000000\n",
       "9           Bournvita     4500      4700   4900        14100    4700.000000"
      ]
     },
     "execution_count": 35,
     "metadata": {},
     "output_type": "execute_result"
    }
   ],
   "source": [
    "df"
   ]
  },
  {
   "cell_type": "code",
   "execution_count": 39,
   "id": "066763f8-14bf-4a17-bd25-f251b4991232",
   "metadata": {},
   "outputs": [],
   "source": [
    "df.to_csv(\"/Users/rohan/Desktop/Rohan Desktop/Classes/manish python classes/pandas/sales_summary.csv\")"
   ]
  },
  {
   "cell_type": "code",
   "execution_count": 41,
   "id": "353b9a57-7d85-4d65-bd4b-abc17f726c2d",
   "metadata": {},
   "outputs": [
    {
     "data": {
      "text/plain": [
       "'/Users/rohan/Desktop/Rohan Desktop/Classes/manish python classes/pandas'"
      ]
     },
     "execution_count": 41,
     "metadata": {},
     "output_type": "execute_result"
    }
   ],
   "source": [
    "pwd"
   ]
  },
  {
   "cell_type": "code",
   "execution_count": null,
   "id": "821222c1-07b5-4ece-9351-4ea9d08c8bd3",
   "metadata": {},
   "outputs": [],
   "source": []
  }
 ],
 "metadata": {
  "kernelspec": {
   "display_name": "Python (myenv)",
   "language": "python",
   "name": "myenv"
  },
  "language_info": {
   "codemirror_mode": {
    "name": "ipython",
    "version": 3
   },
   "file_extension": ".py",
   "mimetype": "text/x-python",
   "name": "python",
   "nbconvert_exporter": "python",
   "pygments_lexer": "ipython3",
   "version": "3.11.7"
  }
 },
 "nbformat": 4,
 "nbformat_minor": 5
}
