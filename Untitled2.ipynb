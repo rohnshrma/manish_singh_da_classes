{
 "cells": [
  {
   "cell_type": "code",
   "execution_count": 2,
   "id": "8c7f8f0b-3d3d-404e-b7b5-e75fc75f1de6",
   "metadata": {},
   "outputs": [],
   "source": [
    "# Advanced Practical Assignment: Hangman Game\n",
    "# Task: Create a Hangman game where the player guesses a hidden word letter by letter.\n",
    "\n",
    "# Detailed Steps to Create the Hangman Game:\n",
    "\n",
    "# 1. Define a list of words that the game will randomly select from.\n",
    "#    - Ensure the words vary in difficulty.\n",
    "#    - Store them in a list to allow random selection.\n",
    "\n",
    "# 2. Choose a random word from the list.\n",
    "#    - Use the ⁠ random ⁠ module to pick a word randomly from the list.\n",
    "#    - Store this chosen word as the secret word.\n",
    "\n",
    "# 3. Convert the selected word into a hidden format.\n",
    "#    - Replace each letter in the word with an underscore ⁠ _ ⁠.\n",
    "#    - Display the hidden word to the player to show progress.\n",
    "\n",
    "# 4. Set a limit for the number of incorrect guesses.\n",
    "#    - Define a variable to track the remaining attempts (e.g., 6 attempts allowed).\n",
    "#    - Reduce the count each time the player guesses incorrectly.\n",
    "\n",
    "# 5. Start a loop that runs until the game ends.\n",
    "#    - The game continues until the player guesses the word correctly or runs out of attempts.\n",
    "\n",
    "# 6. Prompt the user to guess a letter.\n",
    "#    - Take user input and ensure it is a single letter.\n",
    "#    - Convert it to lowercase to make the game case-insensitive.\n",
    "\n",
    "# 7. Check if the guessed letter is in the secret word.\n",
    "#    - If the letter is correct, update the hidden word by revealing the guessed letter.\n",
    "#    - If the letter is incorrect, reduce the number of attempts and notify the player.\n",
    "\n",
    "# 8. Display the updated hidden word after each guess.\n",
    "#    - Show which letters have been guessed correctly.\n",
    "#    - Indicate remaining attempts after incorrect guesses.\n",
    "\n",
    "# 9. End the game when the word is fully guessed or attempts reach zero.\n",
    "#    - If all letters are guessed correctly, display a success message.\n",
    "#    - If attempts reach zero, reveal the correct word and display a failure message.\n",
    "\n",
    "# 10. Test the game to ensure it works correctly.\n",
    "#    - Check different scenarios such as correct guesses, incorrect guesses, and winning/losing outcomes.\n",
    "#    - Ensure the program handles unexpected inputs gracefully."
   ]
  },
  {
   "cell_type": "code",
   "execution_count": 30,
   "id": "d82096f7-b61b-4344-8b0d-b4e7839f8faa",
   "metadata": {},
   "outputs": [
    {
     "name": "stdout",
     "output_type": "stream",
     "text": [
      "Welcome to Hangman! Try to guess the word letter by letter.\n",
      "\n",
      "_ _ _ _ _ _\n",
      "Attempts Left : 10\n"
     ]
    },
    {
     "name": "stdin",
     "output_type": "stream",
     "text": [
      "Enter your guess :  r\n"
     ]
    },
    {
     "name": "stdout",
     "output_type": "stream",
     "text": [
      "Good job! That letter is in the word.\n",
      "_ _ _ _ _ r\n"
     ]
    }
   ],
   "source": [
    "# 1. Define a list of words that the game will randomly select from.\n",
    "#    - Ensure the words vary in difficulty.\n",
    "#    - Store them in a list to allow random selection.\n",
    "\n",
    "words = [\"apple\", \"gender\", \"photosynthesis\", \"cardamom\", \"kiwi\", \"ashes\", \"jammer\", \"hammer\"]  \n",
    "# Yeh ek list hai jo alag-alag difficulty ke words store karti hai. \n",
    "# Is list me se random ek word select hoga.\n",
    "\n",
    "# 2. Choose a random word from the list.\n",
    "#    - Use the `random` module to pick a word randomly from the list.\n",
    "#    - Store this chosen word as the secret word.\n",
    "\n",
    "import random  # Random module ko import kar rahe hain taki random word select kar sakein.\n",
    "word = random.choice(words)  # words list se ek random word select kar rahe hain.\n",
    "\n",
    "# 3. Convert the selected word into a hidden format.\n",
    "#    - Replace each letter in the word with an underscore `_`.\n",
    "#    - Display the hidden word to the player to show progress.\n",
    "\n",
    "hidden = []  # Ek khaali (empty) list bana rahe hain jo hidden word ko store karega.\n",
    "\n",
    "for char in word:  # 'word' variable me jo bhi secret word hai, uske har character (char) par loop chalega.\n",
    "    hidden.append(\"_\")  # Har character ke badle ek underscore '_' add kar rahe hain.\n",
    "\n",
    "guessed_letters = set()  # Ek empty set bana rahe hain jo guessed letters ko store karega.\n",
    "attempts_allowed = 10  # Total kitne attempts allowed hain, yeh set kar rahe hain.\n",
    "\n",
    "# Player ko game ka intro dikhane ke liye print statement.\n",
    "print(\"Welcome to Hangman! Try to guess the word letter by letter.\\n\")\n",
    "print(\" \".join(hidden))  # Hidden word ko spaces ke sath dikhane ke liye join kar rahe hain.\n",
    "\n",
    "# Jab tak attempts 0 nahi hote, tab tak loop chalega.\n",
    "while attempts_allowed > 0:  \n",
    "    print(f\"Attempts Left : {attempts_allowed}\")  # Remaining attempts ko print kar rahe hain.\n",
    "    guess = input(\"Enter your guess : \").lower()  # User se ek letter input lene ke liye.\n",
    "\n",
    "    # Agar user ek se zyada character likh raha hai ya phir non-alphabet enter kar raha hai to warning denge.\n",
    "    if len(guess) > 1 or not guess.isalpha():\n",
    "        print(\"Invalid input. Please enter a single letter.\")  # Error message show karenge.\n",
    "        continue  # Loop ko dobara se start karenge.\n",
    "\n",
    "    # Agar user ne pehle se guessed letter ko dobara enter kiya hai to warning denge.\n",
    "    if guess in guessed_letters:\n",
    "        print(\"You've already guessed that letter. Try another one.\")  # Duplicate entry ka message dikhayenge.\n",
    "        continue  # Loop ko dobara se start karenge.\n",
    "\n",
    "    guessed_letters.add(guess)  # Guessed letter ko set me add kar rahe hain.\n",
    "\n",
    "\n",
    "    if guess in word:\n",
    "        print(\"\\nGood job! That letter is in the word.\")\n",
    "        for i, char in enumerate(word):\n",
    "            if char == guess:\n",
    "                hidden[i] = guess\n",
    "                \n",
    "    else:\n",
    "        print(\"❌ Incorrect guess!\")\n",
    "        attempts_allowed -= 1  # Reduce attempts\n",
    "    print(\" \".join(hidden))\n",
    "\n",
    "    if \"_\" not in hidden:\n",
    "        print(\"🎉 Congratulations! You guessed the word correctly.\")\n",
    "        break\n",
    "\n",
    "if \"_\" in hidden:\n",
    "    print(f\"\\n😢 Game Over! The correct word was: {word}\")"
   ]
  },
  {
   "cell_type": "code",
   "execution_count": null,
   "id": "2c4f7b32-bc23-4f1d-80d7-0fb4bed457be",
   "metadata": {},
   "outputs": [],
   "source": []
  },
  {
   "cell_type": "code",
   "execution_count": null,
   "id": "88be7e00-7833-4883-85cc-e6ac5da47921",
   "metadata": {},
   "outputs": [],
   "source": [
    "  # if guess in word:\n",
    "    #     print(\"\\nGood job! That letter is in the word.\")\n",
    "    #     for i, char in enumerate(word):\n",
    "    #         if char == guess:\n",
    "    #             hidden[i] = guess\n",
    "    # else:\n",
    "    #     print(\"❌ Incorrect guess!\")\n",
    "    #     attempts_allowed -= 1  # Reduce attempts\n",
    "    # print(\" \".join(hidden))"
   ]
  },
  {
   "cell_type": "code",
   "execution_count": null,
   "id": "39c79a44-090c-4f11-b766-2f6343c7476b",
   "metadata": {},
   "outputs": [],
   "source": []
  },
  {
   "cell_type": "code",
   "execution_count": 18,
   "id": "ddfbaae7-00d0-47ae-a368-1d6fa1c1ff70",
   "metadata": {},
   "outputs": [
    {
     "name": "stdout",
     "output_type": "stream",
     "text": [
      "apple 0\n",
      "gender 1\n",
      "photosynthesis 2\n",
      "cardomom 3\n",
      "kiwi 4\n",
      "ashes 5\n",
      "jammer 6\n",
      "hammer 7\n"
     ]
    }
   ],
   "source": [
    "for i, word in enumerate(words):\n",
    "    print(word,i)"
   ]
  },
  {
   "cell_type": "code",
   "execution_count": null,
   "id": "2ef81479-aaaa-4671-b534-51d8f533ff03",
   "metadata": {},
   "outputs": [],
   "source": []
  },
  {
   "cell_type": "code",
   "execution_count": 20,
   "id": "3a1214d0-608f-4680-a399-5cd619dfd2df",
   "metadata": {},
   "outputs": [
    {
     "data": {
      "text/plain": [
       "'hammer'"
      ]
     },
     "execution_count": 20,
     "metadata": {},
     "output_type": "execute_result"
    }
   ],
   "source": []
  },
  {
   "cell_type": "code",
   "execution_count": null,
   "id": "def3a1b5-4609-4450-b4e1-78ea9b13c1bb",
   "metadata": {},
   "outputs": [],
   "source": []
  }
 ],
 "metadata": {
  "kernelspec": {
   "display_name": "Python (myenv)",
   "language": "python",
   "name": "myenv"
  },
  "language_info": {
   "codemirror_mode": {
    "name": "ipython",
    "version": 3
   },
   "file_extension": ".py",
   "mimetype": "text/x-python",
   "name": "python",
   "nbconvert_exporter": "python",
   "pygments_lexer": "ipython3",
   "version": "3.11.7"
  }
 },
 "nbformat": 4,
 "nbformat_minor": 5
}
